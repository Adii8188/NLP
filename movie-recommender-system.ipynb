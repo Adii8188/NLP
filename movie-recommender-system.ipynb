{
 "cells": [
  {
   "cell_type": "code",
   "execution_count": 2,
   "id": "0b038340",
   "metadata": {},
   "outputs": [
    {
     "name": "stdout",
     "output_type": "stream",
     "text": [
      "Requirement already satisfied: numpy in c:\\users\\lenovo\\appdata\\local\\programs\\python\\python312\\lib\\site-packages (1.26.4)\n",
      "Requirement already satisfied: pandas in c:\\users\\lenovo\\appdata\\local\\programs\\python\\python312\\lib\\site-packages (2.2.1)\n",
      "Requirement already satisfied: numpy<2,>=1.26.0 in c:\\users\\lenovo\\appdata\\local\\programs\\python\\python312\\lib\\site-packages (from pandas) (1.26.4)\n",
      "Requirement already satisfied: python-dateutil>=2.8.2 in c:\\users\\lenovo\\appdata\\roaming\\python\\python312\\site-packages (from pandas) (2.9.0.post0)\n",
      "Requirement already satisfied: pytz>=2020.1 in c:\\users\\lenovo\\appdata\\local\\programs\\python\\python312\\lib\\site-packages (from pandas) (2024.1)\n",
      "Requirement already satisfied: tzdata>=2022.7 in c:\\users\\lenovo\\appdata\\local\\programs\\python\\python312\\lib\\site-packages (from pandas) (2024.1)\n",
      "Requirement already satisfied: six>=1.5 in c:\\users\\lenovo\\appdata\\roaming\\python\\python312\\site-packages (from python-dateutil>=2.8.2->pandas) (1.16.0)\n"
     ]
    }
   ],
   "source": [
    "! pip3 install numpy\n",
    "! pip3 install pandas"
   ]
  },
  {
   "cell_type": "code",
   "execution_count": 3,
   "id": "d8fe0109",
   "metadata": {
    "_cell_guid": "b1076dfc-b9ad-4769-8c92-a6c4dae69d19",
    "_uuid": "8f2839f25d086af736a60e9eeb907d3b93b6e0e5",
    "execution": {
     "iopub.execute_input": "2023-10-18T17:04:05.332887Z",
     "iopub.status.busy": "2023-10-18T17:04:05.332248Z",
     "iopub.status.idle": "2023-10-18T17:04:05.692771Z",
     "shell.execute_reply": "2023-10-18T17:04:05.691106Z"
    },
    "papermill": {
     "duration": 0.376514,
     "end_time": "2023-10-18T17:04:05.695714",
     "exception": false,
     "start_time": "2023-10-18T17:04:05.319200",
     "status": "completed"
    },
    "tags": []
   },
   "outputs": [],
   "source": [
    "import numpy as np # linear algebra\n",
    "import pandas as pd "
   ]
  },
  {
   "cell_type": "code",
   "execution_count": 4,
   "id": "fef1bdde",
   "metadata": {
    "execution": {
     "iopub.execute_input": "2023-10-18T17:04:05.722766Z",
     "iopub.status.busy": "2023-10-18T17:04:05.722318Z",
     "iopub.status.idle": "2023-10-18T17:04:06.723518Z",
     "shell.execute_reply": "2023-10-18T17:04:06.722593Z"
    },
    "papermill": {
     "duration": 1.016577,
     "end_time": "2023-10-18T17:04:06.725713",
     "exception": false,
     "start_time": "2023-10-18T17:04:05.709136",
     "status": "completed"
    },
    "tags": []
   },
   "outputs": [],
   "source": [
    "movies = pd.read_csv('movies.csv')\n",
    "credits = pd.read_csv('credits.csv')"
   ]
  },
  {
   "cell_type": "code",
   "execution_count": 5,
   "id": "8dece7cc",
   "metadata": {
    "execution": {
     "iopub.execute_input": "2023-10-18T17:04:06.750598Z",
     "iopub.status.busy": "2023-10-18T17:04:06.749389Z",
     "iopub.status.idle": "2023-10-18T17:04:06.778786Z",
     "shell.execute_reply": "2023-10-18T17:04:06.777721Z"
    },
    "papermill": {
     "duration": 0.043655,
     "end_time": "2023-10-18T17:04:06.780717",
     "exception": false,
     "start_time": "2023-10-18T17:04:06.737062",
     "status": "completed"
    },
    "tags": []
   },
   "outputs": [
    {
     "name": "stdout",
     "output_type": "stream",
     "text": [
      "<class 'pandas.core.frame.DataFrame'>\n",
      "RangeIndex: 4803 entries, 0 to 4802\n",
      "Data columns (total 20 columns):\n",
      " #   Column                Non-Null Count  Dtype  \n",
      "---  ------                --------------  -----  \n",
      " 0   budget                4803 non-null   int64  \n",
      " 1   genres                4803 non-null   object \n",
      " 2   homepage              1712 non-null   object \n",
      " 3   id                    4803 non-null   int64  \n",
      " 4   keywords              4803 non-null   object \n",
      " 5   original_language     4803 non-null   object \n",
      " 6   original_title        4803 non-null   object \n",
      " 7   overview              4800 non-null   object \n",
      " 8   popularity            4803 non-null   float64\n",
      " 9   production_companies  4803 non-null   object \n",
      " 10  production_countries  4803 non-null   object \n",
      " 11  release_date          4802 non-null   object \n",
      " 12  revenue               4803 non-null   int64  \n",
      " 13  runtime               4801 non-null   float64\n",
      " 14  spoken_languages      4803 non-null   object \n",
      " 15  status                4803 non-null   object \n",
      " 16  tagline               3959 non-null   object \n",
      " 17  title                 4803 non-null   object \n",
      " 18  vote_average          4803 non-null   float64\n",
      " 19  vote_count            4803 non-null   int64  \n",
      "dtypes: float64(3), int64(4), object(13)\n",
      "memory usage: 750.6+ KB\n"
     ]
    }
   ],
   "source": [
    "movies.info()"
   ]
  },
  {
   "cell_type": "code",
   "execution_count": 6,
   "id": "7677883e",
   "metadata": {},
   "outputs": [
    {
     "name": "stdout",
     "output_type": "stream",
     "text": [
      "<class 'pandas.core.frame.DataFrame'>\n",
      "RangeIndex: 4803 entries, 0 to 4802\n",
      "Data columns (total 4 columns):\n",
      " #   Column    Non-Null Count  Dtype \n",
      "---  ------    --------------  ----- \n",
      " 0   movie_id  4803 non-null   int64 \n",
      " 1   title     4803 non-null   object\n",
      " 2   cast      4803 non-null   object\n",
      " 3   crew      4803 non-null   object\n",
      "dtypes: int64(1), object(3)\n",
      "memory usage: 150.2+ KB\n"
     ]
    }
   ],
   "source": [
    "credits.info()"
   ]
  },
  {
   "cell_type": "code",
   "execution_count": 7,
   "id": "26d473ad",
   "metadata": {
    "execution": {
     "iopub.execute_input": "2023-10-18T17:04:06.804421Z",
     "iopub.status.busy": "2023-10-18T17:04:06.804102Z",
     "iopub.status.idle": "2023-10-18T17:04:06.814502Z",
     "shell.execute_reply": "2023-10-18T17:04:06.813510Z"
    },
    "papermill": {
     "duration": 0.02459,
     "end_time": "2023-10-18T17:04:06.816451",
     "exception": false,
     "start_time": "2023-10-18T17:04:06.791861",
     "status": "completed"
    },
    "tags": []
   },
   "outputs": [
    {
     "data": {
      "text/html": [
       "<div>\n",
       "<style scoped>\n",
       "    .dataframe tbody tr th:only-of-type {\n",
       "        vertical-align: middle;\n",
       "    }\n",
       "\n",
       "    .dataframe tbody tr th {\n",
       "        vertical-align: top;\n",
       "    }\n",
       "\n",
       "    .dataframe thead th {\n",
       "        text-align: right;\n",
       "    }\n",
       "</style>\n",
       "<table border=\"1\" class=\"dataframe\">\n",
       "  <thead>\n",
       "    <tr style=\"text-align: right;\">\n",
       "      <th></th>\n",
       "      <th>movie_id</th>\n",
       "      <th>title</th>\n",
       "      <th>cast</th>\n",
       "      <th>crew</th>\n",
       "    </tr>\n",
       "  </thead>\n",
       "  <tbody>\n",
       "    <tr>\n",
       "      <th>0</th>\n",
       "      <td>19995</td>\n",
       "      <td>Avatar</td>\n",
       "      <td>[{\"cast_id\": 242, \"character\": \"Jake Sully\", \"...</td>\n",
       "      <td>[{\"credit_id\": \"52fe48009251416c750aca23\", \"de...</td>\n",
       "    </tr>\n",
       "    <tr>\n",
       "      <th>1</th>\n",
       "      <td>285</td>\n",
       "      <td>Pirates of the Caribbean: At World's End</td>\n",
       "      <td>[{\"cast_id\": 4, \"character\": \"Captain Jack Spa...</td>\n",
       "      <td>[{\"credit_id\": \"52fe4232c3a36847f800b579\", \"de...</td>\n",
       "    </tr>\n",
       "    <tr>\n",
       "      <th>2</th>\n",
       "      <td>206647</td>\n",
       "      <td>Spectre</td>\n",
       "      <td>[{\"cast_id\": 1, \"character\": \"James Bond\", \"cr...</td>\n",
       "      <td>[{\"credit_id\": \"54805967c3a36829b5002c41\", \"de...</td>\n",
       "    </tr>\n",
       "    <tr>\n",
       "      <th>3</th>\n",
       "      <td>49026</td>\n",
       "      <td>The Dark Knight Rises</td>\n",
       "      <td>[{\"cast_id\": 2, \"character\": \"Bruce Wayne / Ba...</td>\n",
       "      <td>[{\"credit_id\": \"52fe4781c3a36847f81398c3\", \"de...</td>\n",
       "    </tr>\n",
       "    <tr>\n",
       "      <th>4</th>\n",
       "      <td>49529</td>\n",
       "      <td>John Carter</td>\n",
       "      <td>[{\"cast_id\": 5, \"character\": \"John Carter\", \"c...</td>\n",
       "      <td>[{\"credit_id\": \"52fe479ac3a36847f813eaa3\", \"de...</td>\n",
       "    </tr>\n",
       "  </tbody>\n",
       "</table>\n",
       "</div>"
      ],
      "text/plain": [
       "   movie_id                                     title  \\\n",
       "0     19995                                    Avatar   \n",
       "1       285  Pirates of the Caribbean: At World's End   \n",
       "2    206647                                   Spectre   \n",
       "3     49026                     The Dark Knight Rises   \n",
       "4     49529                               John Carter   \n",
       "\n",
       "                                                cast  \\\n",
       "0  [{\"cast_id\": 242, \"character\": \"Jake Sully\", \"...   \n",
       "1  [{\"cast_id\": 4, \"character\": \"Captain Jack Spa...   \n",
       "2  [{\"cast_id\": 1, \"character\": \"James Bond\", \"cr...   \n",
       "3  [{\"cast_id\": 2, \"character\": \"Bruce Wayne / Ba...   \n",
       "4  [{\"cast_id\": 5, \"character\": \"John Carter\", \"c...   \n",
       "\n",
       "                                                crew  \n",
       "0  [{\"credit_id\": \"52fe48009251416c750aca23\", \"de...  \n",
       "1  [{\"credit_id\": \"52fe4232c3a36847f800b579\", \"de...  \n",
       "2  [{\"credit_id\": \"54805967c3a36829b5002c41\", \"de...  \n",
       "3  [{\"credit_id\": \"52fe4781c3a36847f81398c3\", \"de...  \n",
       "4  [{\"credit_id\": \"52fe479ac3a36847f813eaa3\", \"de...  "
      ]
     },
     "execution_count": 7,
     "metadata": {},
     "output_type": "execute_result"
    }
   ],
   "source": [
    "credits.head()"
   ]
  },
  {
   "cell_type": "code",
   "execution_count": 8,
   "id": "09033caa",
   "metadata": {
    "execution": {
     "iopub.execute_input": "2023-10-18T17:04:06.842751Z",
     "iopub.status.busy": "2023-10-18T17:04:06.841882Z",
     "iopub.status.idle": "2023-10-18T17:04:06.873614Z",
     "shell.execute_reply": "2023-10-18T17:04:06.872715Z"
    },
    "papermill": {
     "duration": 0.04791,
     "end_time": "2023-10-18T17:04:06.876021",
     "exception": false,
     "start_time": "2023-10-18T17:04:06.828111",
     "status": "completed"
    },
    "tags": []
   },
   "outputs": [],
   "source": [
    "movies = movies.merge(credits,on='title')"
   ]
  },
  {
   "cell_type": "code",
   "execution_count": 9,
   "id": "ba320ed2",
   "metadata": {
    "execution": {
     "iopub.execute_input": "2023-10-18T17:04:06.901114Z",
     "iopub.status.busy": "2023-10-18T17:04:06.900816Z",
     "iopub.status.idle": "2023-10-18T17:04:06.918513Z",
     "shell.execute_reply": "2023-10-18T17:04:06.917330Z"
    },
    "papermill": {
     "duration": 0.03271,
     "end_time": "2023-10-18T17:04:06.920582",
     "exception": false,
     "start_time": "2023-10-18T17:04:06.887872",
     "status": "completed"
    },
    "tags": []
   },
   "outputs": [
    {
     "data": {
      "text/html": [
       "<div>\n",
       "<style scoped>\n",
       "    .dataframe tbody tr th:only-of-type {\n",
       "        vertical-align: middle;\n",
       "    }\n",
       "\n",
       "    .dataframe tbody tr th {\n",
       "        vertical-align: top;\n",
       "    }\n",
       "\n",
       "    .dataframe thead th {\n",
       "        text-align: right;\n",
       "    }\n",
       "</style>\n",
       "<table border=\"1\" class=\"dataframe\">\n",
       "  <thead>\n",
       "    <tr style=\"text-align: right;\">\n",
       "      <th></th>\n",
       "      <th>budget</th>\n",
       "      <th>genres</th>\n",
       "      <th>homepage</th>\n",
       "      <th>id</th>\n",
       "      <th>keywords</th>\n",
       "      <th>original_language</th>\n",
       "      <th>original_title</th>\n",
       "      <th>overview</th>\n",
       "      <th>popularity</th>\n",
       "      <th>production_companies</th>\n",
       "      <th>...</th>\n",
       "      <th>runtime</th>\n",
       "      <th>spoken_languages</th>\n",
       "      <th>status</th>\n",
       "      <th>tagline</th>\n",
       "      <th>title</th>\n",
       "      <th>vote_average</th>\n",
       "      <th>vote_count</th>\n",
       "      <th>movie_id</th>\n",
       "      <th>cast</th>\n",
       "      <th>crew</th>\n",
       "    </tr>\n",
       "  </thead>\n",
       "  <tbody>\n",
       "    <tr>\n",
       "      <th>0</th>\n",
       "      <td>237000000</td>\n",
       "      <td>[{\"id\": 28, \"name\": \"Action\"}, {\"id\": 12, \"nam...</td>\n",
       "      <td>http://www.avatarmovie.com/</td>\n",
       "      <td>19995</td>\n",
       "      <td>[{\"id\": 1463, \"name\": \"culture clash\"}, {\"id\":...</td>\n",
       "      <td>en</td>\n",
       "      <td>Avatar</td>\n",
       "      <td>In the 22nd century, a paraplegic Marine is di...</td>\n",
       "      <td>150.437577</td>\n",
       "      <td>[{\"name\": \"Ingenious Film Partners\", \"id\": 289...</td>\n",
       "      <td>...</td>\n",
       "      <td>162.0</td>\n",
       "      <td>[{\"iso_639_1\": \"en\", \"name\": \"English\"}, {\"iso...</td>\n",
       "      <td>Released</td>\n",
       "      <td>Enter the World of Pandora.</td>\n",
       "      <td>Avatar</td>\n",
       "      <td>7.2</td>\n",
       "      <td>11800</td>\n",
       "      <td>19995</td>\n",
       "      <td>[{\"cast_id\": 242, \"character\": \"Jake Sully\", \"...</td>\n",
       "      <td>[{\"credit_id\": \"52fe48009251416c750aca23\", \"de...</td>\n",
       "    </tr>\n",
       "  </tbody>\n",
       "</table>\n",
       "<p>1 rows × 23 columns</p>\n",
       "</div>"
      ],
      "text/plain": [
       "      budget                                             genres  \\\n",
       "0  237000000  [{\"id\": 28, \"name\": \"Action\"}, {\"id\": 12, \"nam...   \n",
       "\n",
       "                      homepage     id  \\\n",
       "0  http://www.avatarmovie.com/  19995   \n",
       "\n",
       "                                            keywords original_language  \\\n",
       "0  [{\"id\": 1463, \"name\": \"culture clash\"}, {\"id\":...                en   \n",
       "\n",
       "  original_title                                           overview  \\\n",
       "0         Avatar  In the 22nd century, a paraplegic Marine is di...   \n",
       "\n",
       "   popularity                               production_companies  ... runtime  \\\n",
       "0  150.437577  [{\"name\": \"Ingenious Film Partners\", \"id\": 289...  ...   162.0   \n",
       "\n",
       "                                    spoken_languages    status  \\\n",
       "0  [{\"iso_639_1\": \"en\", \"name\": \"English\"}, {\"iso...  Released   \n",
       "\n",
       "                       tagline   title vote_average vote_count movie_id  \\\n",
       "0  Enter the World of Pandora.  Avatar          7.2      11800    19995   \n",
       "\n",
       "                                                cast  \\\n",
       "0  [{\"cast_id\": 242, \"character\": \"Jake Sully\", \"...   \n",
       "\n",
       "                                                crew  \n",
       "0  [{\"credit_id\": \"52fe48009251416c750aca23\", \"de...  \n",
       "\n",
       "[1 rows x 23 columns]"
      ]
     },
     "execution_count": 9,
     "metadata": {},
     "output_type": "execute_result"
    }
   ],
   "source": [
    "movies.head(1)"
   ]
  },
  {
   "cell_type": "code",
   "execution_count": 10,
   "id": "6968eca1",
   "metadata": {
    "execution": {
     "iopub.execute_input": "2023-10-18T17:04:06.947070Z",
     "iopub.status.busy": "2023-10-18T17:04:06.946311Z",
     "iopub.status.idle": "2023-10-18T17:04:06.956248Z",
     "shell.execute_reply": "2023-10-18T17:04:06.955495Z"
    },
    "papermill": {
     "duration": 0.025449,
     "end_time": "2023-10-18T17:04:06.958221",
     "exception": false,
     "start_time": "2023-10-18T17:04:06.932772",
     "status": "completed"
    },
    "tags": []
   },
   "outputs": [
    {
     "data": {
      "text/plain": [
       "original_language\n",
       "en    4510\n",
       "fr      70\n",
       "es      32\n",
       "zh      27\n",
       "de      27\n",
       "hi      19\n",
       "ja      16\n",
       "it      14\n",
       "ko      12\n",
       "cn      12\n",
       "ru      11\n",
       "pt       9\n",
       "da       7\n",
       "sv       5\n",
       "nl       4\n",
       "fa       4\n",
       "th       3\n",
       "he       3\n",
       "ta       2\n",
       "cs       2\n",
       "ro       2\n",
       "id       2\n",
       "ar       2\n",
       "vi       1\n",
       "sl       1\n",
       "ps       1\n",
       "no       1\n",
       "ky       1\n",
       "hu       1\n",
       "pl       1\n",
       "af       1\n",
       "nb       1\n",
       "tr       1\n",
       "is       1\n",
       "xx       1\n",
       "te       1\n",
       "el       1\n",
       "Name: count, dtype: int64"
      ]
     },
     "execution_count": 10,
     "metadata": {},
     "output_type": "execute_result"
    }
   ],
   "source": [
    "movies['original_language'].value_counts()"
   ]
  },
  {
   "cell_type": "code",
   "execution_count": 11,
   "id": "ea93342a",
   "metadata": {
    "execution": {
     "iopub.execute_input": "2023-10-18T17:04:06.984446Z",
     "iopub.status.busy": "2023-10-18T17:04:06.984119Z",
     "iopub.status.idle": "2023-10-18T17:04:07.006800Z",
     "shell.execute_reply": "2023-10-18T17:04:07.005644Z"
    },
    "papermill": {
     "duration": 0.03912,
     "end_time": "2023-10-18T17:04:07.009696",
     "exception": false,
     "start_time": "2023-10-18T17:04:06.970576",
     "status": "completed"
    },
    "tags": []
   },
   "outputs": [
    {
     "name": "stdout",
     "output_type": "stream",
     "text": [
      "<class 'pandas.core.frame.DataFrame'>\n",
      "RangeIndex: 4809 entries, 0 to 4808\n",
      "Data columns (total 23 columns):\n",
      " #   Column                Non-Null Count  Dtype  \n",
      "---  ------                --------------  -----  \n",
      " 0   budget                4809 non-null   int64  \n",
      " 1   genres                4809 non-null   object \n",
      " 2   homepage              1713 non-null   object \n",
      " 3   id                    4809 non-null   int64  \n",
      " 4   keywords              4809 non-null   object \n",
      " 5   original_language     4809 non-null   object \n",
      " 6   original_title        4809 non-null   object \n",
      " 7   overview              4806 non-null   object \n",
      " 8   popularity            4809 non-null   float64\n",
      " 9   production_companies  4809 non-null   object \n",
      " 10  production_countries  4809 non-null   object \n",
      " 11  release_date          4808 non-null   object \n",
      " 12  revenue               4809 non-null   int64  \n",
      " 13  runtime               4807 non-null   float64\n",
      " 14  spoken_languages      4809 non-null   object \n",
      " 15  status                4809 non-null   object \n",
      " 16  tagline               3965 non-null   object \n",
      " 17  title                 4809 non-null   object \n",
      " 18  vote_average          4809 non-null   float64\n",
      " 19  vote_count            4809 non-null   int64  \n",
      " 20  movie_id              4809 non-null   int64  \n",
      " 21  cast                  4809 non-null   object \n",
      " 22  crew                  4809 non-null   object \n",
      "dtypes: float64(3), int64(5), object(15)\n",
      "memory usage: 864.2+ KB\n"
     ]
    }
   ],
   "source": [
    "movies.info()"
   ]
  },
  {
   "cell_type": "code",
   "execution_count": 12,
   "id": "dc4ade9a",
   "metadata": {
    "execution": {
     "iopub.execute_input": "2023-10-18T17:04:07.035666Z",
     "iopub.status.busy": "2023-10-18T17:04:07.035317Z",
     "iopub.status.idle": "2023-10-18T17:04:07.039563Z",
     "shell.execute_reply": "2023-10-18T17:04:07.038532Z"
    },
    "papermill": {
     "duration": 0.019363,
     "end_time": "2023-10-18T17:04:07.041360",
     "exception": false,
     "start_time": "2023-10-18T17:04:07.021997",
     "status": "completed"
    },
    "tags": []
   },
   "outputs": [],
   "source": [
    "# columns which we will keep\n",
    "# genres, id, keywords, title, overview, cast, crew"
   ]
  },
  {
   "cell_type": "code",
   "execution_count": 13,
   "id": "85a53f3f",
   "metadata": {
    "execution": {
     "iopub.execute_input": "2023-10-18T17:04:07.067525Z",
     "iopub.status.busy": "2023-10-18T17:04:07.066443Z",
     "iopub.status.idle": "2023-10-18T17:04:07.073358Z",
     "shell.execute_reply": "2023-10-18T17:04:07.072502Z"
    },
    "papermill": {
     "duration": 0.022071,
     "end_time": "2023-10-18T17:04:07.075555",
     "exception": false,
     "start_time": "2023-10-18T17:04:07.053484",
     "status": "completed"
    },
    "tags": []
   },
   "outputs": [
    {
     "data": {
      "text/html": [
       "<div>\n",
       "<style scoped>\n",
       "    .dataframe tbody tr th:only-of-type {\n",
       "        vertical-align: middle;\n",
       "    }\n",
       "\n",
       "    .dataframe tbody tr th {\n",
       "        vertical-align: top;\n",
       "    }\n",
       "\n",
       "    .dataframe thead th {\n",
       "        text-align: right;\n",
       "    }\n",
       "</style>\n",
       "<table border=\"1\" class=\"dataframe\">\n",
       "  <thead>\n",
       "    <tr style=\"text-align: right;\">\n",
       "      <th></th>\n",
       "      <th>genres</th>\n",
       "      <th>id</th>\n",
       "      <th>keywords</th>\n",
       "      <th>title</th>\n",
       "      <th>overview</th>\n",
       "      <th>cast</th>\n",
       "      <th>crew</th>\n",
       "    </tr>\n",
       "  </thead>\n",
       "  <tbody>\n",
       "    <tr>\n",
       "      <th>0</th>\n",
       "      <td>[{\"id\": 28, \"name\": \"Action\"}, {\"id\": 12, \"nam...</td>\n",
       "      <td>19995</td>\n",
       "      <td>[{\"id\": 1463, \"name\": \"culture clash\"}, {\"id\":...</td>\n",
       "      <td>Avatar</td>\n",
       "      <td>In the 22nd century, a paraplegic Marine is di...</td>\n",
       "      <td>[{\"cast_id\": 242, \"character\": \"Jake Sully\", \"...</td>\n",
       "      <td>[{\"credit_id\": \"52fe48009251416c750aca23\", \"de...</td>\n",
       "    </tr>\n",
       "  </tbody>\n",
       "</table>\n",
       "</div>"
      ],
      "text/plain": [
       "                                              genres     id  \\\n",
       "0  [{\"id\": 28, \"name\": \"Action\"}, {\"id\": 12, \"nam...  19995   \n",
       "\n",
       "                                            keywords   title  \\\n",
       "0  [{\"id\": 1463, \"name\": \"culture clash\"}, {\"id\":...  Avatar   \n",
       "\n",
       "                                            overview  \\\n",
       "0  In the 22nd century, a paraplegic Marine is di...   \n",
       "\n",
       "                                                cast  \\\n",
       "0  [{\"cast_id\": 242, \"character\": \"Jake Sully\", \"...   \n",
       "\n",
       "                                                crew  \n",
       "0  [{\"credit_id\": \"52fe48009251416c750aca23\", \"de...  "
      ]
     },
     "execution_count": 13,
     "metadata": {},
     "output_type": "execute_result"
    }
   ],
   "source": [
    "movies = movies[['genres','id','keywords','title','overview','cast','crew']]\n",
    "movies.head(1)"
   ]
  },
  {
   "cell_type": "code",
   "execution_count": 14,
   "id": "11919745",
   "metadata": {
    "execution": {
     "iopub.execute_input": "2023-10-18T17:04:07.101693Z",
     "iopub.status.busy": "2023-10-18T17:04:07.101365Z",
     "iopub.status.idle": "2023-10-18T17:04:07.112009Z",
     "shell.execute_reply": "2023-10-18T17:04:07.111064Z"
    },
    "papermill": {
     "duration": 0.026114,
     "end_time": "2023-10-18T17:04:07.113947",
     "exception": false,
     "start_time": "2023-10-18T17:04:07.087833",
     "status": "completed"
    },
    "tags": []
   },
   "outputs": [
    {
     "data": {
      "text/plain": [
       "genres      0\n",
       "id          0\n",
       "keywords    0\n",
       "title       0\n",
       "overview    3\n",
       "cast        0\n",
       "crew        0\n",
       "dtype: int64"
      ]
     },
     "execution_count": 14,
     "metadata": {},
     "output_type": "execute_result"
    }
   ],
   "source": [
    "movies.isnull().sum()"
   ]
  },
  {
   "cell_type": "code",
   "execution_count": 15,
   "id": "7a9afa90",
   "metadata": {
    "execution": {
     "iopub.execute_input": "2023-10-18T17:04:07.197294Z",
     "iopub.status.busy": "2023-10-18T17:04:07.196983Z",
     "iopub.status.idle": "2023-10-18T17:04:07.206539Z",
     "shell.execute_reply": "2023-10-18T17:04:07.205669Z"
    },
    "papermill": {
     "duration": 0.024878,
     "end_time": "2023-10-18T17:04:07.208320",
     "exception": false,
     "start_time": "2023-10-18T17:04:07.183442",
     "status": "completed"
    },
    "tags": []
   },
   "outputs": [],
   "source": [
    "movies.dropna(inplace=True)"
   ]
  },
  {
   "cell_type": "code",
   "execution_count": 16,
   "id": "4fca1b7e",
   "metadata": {
    "execution": {
     "iopub.execute_input": "2023-10-18T17:04:07.235176Z",
     "iopub.status.busy": "2023-10-18T17:04:07.234216Z",
     "iopub.status.idle": "2023-10-18T17:04:07.245388Z",
     "shell.execute_reply": "2023-10-18T17:04:07.244385Z"
    },
    "papermill": {
     "duration": 0.026445,
     "end_time": "2023-10-18T17:04:07.247265",
     "exception": false,
     "start_time": "2023-10-18T17:04:07.220820",
     "status": "completed"
    },
    "tags": []
   },
   "outputs": [
    {
     "data": {
      "text/plain": [
       "genres      0\n",
       "id          0\n",
       "keywords    0\n",
       "title       0\n",
       "overview    0\n",
       "cast        0\n",
       "crew        0\n",
       "dtype: int64"
      ]
     },
     "execution_count": 16,
     "metadata": {},
     "output_type": "execute_result"
    }
   ],
   "source": [
    "movies.isnull().sum()"
   ]
  },
  {
   "cell_type": "code",
   "execution_count": 17,
   "id": "0c8159a3",
   "metadata": {
    "execution": {
     "iopub.execute_input": "2023-10-18T17:04:07.274107Z",
     "iopub.status.busy": "2023-10-18T17:04:07.273793Z",
     "iopub.status.idle": "2023-10-18T17:04:07.375772Z",
     "shell.execute_reply": "2023-10-18T17:04:07.374877Z"
    },
    "papermill": {
     "duration": 0.118061,
     "end_time": "2023-10-18T17:04:07.378112",
     "exception": false,
     "start_time": "2023-10-18T17:04:07.260051",
     "status": "completed"
    },
    "tags": []
   },
   "outputs": [
    {
     "data": {
      "text/plain": [
       "0"
      ]
     },
     "execution_count": 17,
     "metadata": {},
     "output_type": "execute_result"
    }
   ],
   "source": [
    "movies.duplicated().sum()"
   ]
  },
  {
   "cell_type": "code",
   "execution_count": 18,
   "id": "be84a45d",
   "metadata": {},
   "outputs": [
    {
     "data": {
      "text/html": [
       "<div>\n",
       "<style scoped>\n",
       "    .dataframe tbody tr th:only-of-type {\n",
       "        vertical-align: middle;\n",
       "    }\n",
       "\n",
       "    .dataframe tbody tr th {\n",
       "        vertical-align: top;\n",
       "    }\n",
       "\n",
       "    .dataframe thead th {\n",
       "        text-align: right;\n",
       "    }\n",
       "</style>\n",
       "<table border=\"1\" class=\"dataframe\">\n",
       "  <thead>\n",
       "    <tr style=\"text-align: right;\">\n",
       "      <th></th>\n",
       "      <th>genres</th>\n",
       "      <th>id</th>\n",
       "      <th>keywords</th>\n",
       "      <th>title</th>\n",
       "      <th>overview</th>\n",
       "      <th>cast</th>\n",
       "      <th>crew</th>\n",
       "    </tr>\n",
       "  </thead>\n",
       "  <tbody>\n",
       "    <tr>\n",
       "      <th>0</th>\n",
       "      <td>[{\"id\": 28, \"name\": \"Action\"}, {\"id\": 12, \"nam...</td>\n",
       "      <td>19995</td>\n",
       "      <td>[{\"id\": 1463, \"name\": \"culture clash\"}, {\"id\":...</td>\n",
       "      <td>Avatar</td>\n",
       "      <td>In the 22nd century, a paraplegic Marine is di...</td>\n",
       "      <td>[{\"cast_id\": 242, \"character\": \"Jake Sully\", \"...</td>\n",
       "      <td>[{\"credit_id\": \"52fe48009251416c750aca23\", \"de...</td>\n",
       "    </tr>\n",
       "    <tr>\n",
       "      <th>1</th>\n",
       "      <td>[{\"id\": 12, \"name\": \"Adventure\"}, {\"id\": 14, \"...</td>\n",
       "      <td>285</td>\n",
       "      <td>[{\"id\": 270, \"name\": \"ocean\"}, {\"id\": 726, \"na...</td>\n",
       "      <td>Pirates of the Caribbean: At World's End</td>\n",
       "      <td>Captain Barbossa, long believed to be dead, ha...</td>\n",
       "      <td>[{\"cast_id\": 4, \"character\": \"Captain Jack Spa...</td>\n",
       "      <td>[{\"credit_id\": \"52fe4232c3a36847f800b579\", \"de...</td>\n",
       "    </tr>\n",
       "    <tr>\n",
       "      <th>2</th>\n",
       "      <td>[{\"id\": 28, \"name\": \"Action\"}, {\"id\": 12, \"nam...</td>\n",
       "      <td>206647</td>\n",
       "      <td>[{\"id\": 470, \"name\": \"spy\"}, {\"id\": 818, \"name...</td>\n",
       "      <td>Spectre</td>\n",
       "      <td>A cryptic message from Bond’s past sends him o...</td>\n",
       "      <td>[{\"cast_id\": 1, \"character\": \"James Bond\", \"cr...</td>\n",
       "      <td>[{\"credit_id\": \"54805967c3a36829b5002c41\", \"de...</td>\n",
       "    </tr>\n",
       "    <tr>\n",
       "      <th>3</th>\n",
       "      <td>[{\"id\": 28, \"name\": \"Action\"}, {\"id\": 80, \"nam...</td>\n",
       "      <td>49026</td>\n",
       "      <td>[{\"id\": 849, \"name\": \"dc comics\"}, {\"id\": 853,...</td>\n",
       "      <td>The Dark Knight Rises</td>\n",
       "      <td>Following the death of District Attorney Harve...</td>\n",
       "      <td>[{\"cast_id\": 2, \"character\": \"Bruce Wayne / Ba...</td>\n",
       "      <td>[{\"credit_id\": \"52fe4781c3a36847f81398c3\", \"de...</td>\n",
       "    </tr>\n",
       "    <tr>\n",
       "      <th>4</th>\n",
       "      <td>[{\"id\": 28, \"name\": \"Action\"}, {\"id\": 12, \"nam...</td>\n",
       "      <td>49529</td>\n",
       "      <td>[{\"id\": 818, \"name\": \"based on novel\"}, {\"id\":...</td>\n",
       "      <td>John Carter</td>\n",
       "      <td>John Carter is a war-weary, former military ca...</td>\n",
       "      <td>[{\"cast_id\": 5, \"character\": \"John Carter\", \"c...</td>\n",
       "      <td>[{\"credit_id\": \"52fe479ac3a36847f813eaa3\", \"de...</td>\n",
       "    </tr>\n",
       "  </tbody>\n",
       "</table>\n",
       "</div>"
      ],
      "text/plain": [
       "                                              genres      id  \\\n",
       "0  [{\"id\": 28, \"name\": \"Action\"}, {\"id\": 12, \"nam...   19995   \n",
       "1  [{\"id\": 12, \"name\": \"Adventure\"}, {\"id\": 14, \"...     285   \n",
       "2  [{\"id\": 28, \"name\": \"Action\"}, {\"id\": 12, \"nam...  206647   \n",
       "3  [{\"id\": 28, \"name\": \"Action\"}, {\"id\": 80, \"nam...   49026   \n",
       "4  [{\"id\": 28, \"name\": \"Action\"}, {\"id\": 12, \"nam...   49529   \n",
       "\n",
       "                                            keywords  \\\n",
       "0  [{\"id\": 1463, \"name\": \"culture clash\"}, {\"id\":...   \n",
       "1  [{\"id\": 270, \"name\": \"ocean\"}, {\"id\": 726, \"na...   \n",
       "2  [{\"id\": 470, \"name\": \"spy\"}, {\"id\": 818, \"name...   \n",
       "3  [{\"id\": 849, \"name\": \"dc comics\"}, {\"id\": 853,...   \n",
       "4  [{\"id\": 818, \"name\": \"based on novel\"}, {\"id\":...   \n",
       "\n",
       "                                      title  \\\n",
       "0                                    Avatar   \n",
       "1  Pirates of the Caribbean: At World's End   \n",
       "2                                   Spectre   \n",
       "3                     The Dark Knight Rises   \n",
       "4                               John Carter   \n",
       "\n",
       "                                            overview  \\\n",
       "0  In the 22nd century, a paraplegic Marine is di...   \n",
       "1  Captain Barbossa, long believed to be dead, ha...   \n",
       "2  A cryptic message from Bond’s past sends him o...   \n",
       "3  Following the death of District Attorney Harve...   \n",
       "4  John Carter is a war-weary, former military ca...   \n",
       "\n",
       "                                                cast  \\\n",
       "0  [{\"cast_id\": 242, \"character\": \"Jake Sully\", \"...   \n",
       "1  [{\"cast_id\": 4, \"character\": \"Captain Jack Spa...   \n",
       "2  [{\"cast_id\": 1, \"character\": \"James Bond\", \"cr...   \n",
       "3  [{\"cast_id\": 2, \"character\": \"Bruce Wayne / Ba...   \n",
       "4  [{\"cast_id\": 5, \"character\": \"John Carter\", \"c...   \n",
       "\n",
       "                                                crew  \n",
       "0  [{\"credit_id\": \"52fe48009251416c750aca23\", \"de...  \n",
       "1  [{\"credit_id\": \"52fe4232c3a36847f800b579\", \"de...  \n",
       "2  [{\"credit_id\": \"54805967c3a36829b5002c41\", \"de...  \n",
       "3  [{\"credit_id\": \"52fe4781c3a36847f81398c3\", \"de...  \n",
       "4  [{\"credit_id\": \"52fe479ac3a36847f813eaa3\", \"de...  "
      ]
     },
     "execution_count": 18,
     "metadata": {},
     "output_type": "execute_result"
    }
   ],
   "source": [
    "movies.head()"
   ]
  },
  {
   "cell_type": "code",
   "execution_count": 19,
   "id": "4a0bbbc9",
   "metadata": {
    "execution": {
     "iopub.execute_input": "2023-10-18T17:04:07.404781Z",
     "iopub.status.busy": "2023-10-18T17:04:07.404422Z",
     "iopub.status.idle": "2023-10-18T17:04:07.411458Z",
     "shell.execute_reply": "2023-10-18T17:04:07.410385Z"
    },
    "papermill": {
     "duration": 0.022796,
     "end_time": "2023-10-18T17:04:07.413640",
     "exception": false,
     "start_time": "2023-10-18T17:04:07.390844",
     "status": "completed"
    },
    "tags": []
   },
   "outputs": [
    {
     "data": {
      "text/plain": [
       "'[{\"id\": 1463, \"name\": \"culture clash\"}, {\"id\": 2964, \"name\": \"future\"}, {\"id\": 3386, \"name\": \"space war\"}, {\"id\": 3388, \"name\": \"space colony\"}, {\"id\": 3679, \"name\": \"society\"}, {\"id\": 3801, \"name\": \"space travel\"}, {\"id\": 9685, \"name\": \"futuristic\"}, {\"id\": 9840, \"name\": \"romance\"}, {\"id\": 9882, \"name\": \"space\"}, {\"id\": 9951, \"name\": \"alien\"}, {\"id\": 10148, \"name\": \"tribe\"}, {\"id\": 10158, \"name\": \"alien planet\"}, {\"id\": 10987, \"name\": \"cgi\"}, {\"id\": 11399, \"name\": \"marine\"}, {\"id\": 13065, \"name\": \"soldier\"}, {\"id\": 14643, \"name\": \"battle\"}, {\"id\": 14720, \"name\": \"love affair\"}, {\"id\": 165431, \"name\": \"anti war\"}, {\"id\": 193554, \"name\": \"power relations\"}, {\"id\": 206690, \"name\": \"mind and soul\"}, {\"id\": 209714, \"name\": \"3d\"}]'"
      ]
     },
     "execution_count": 19,
     "metadata": {},
     "output_type": "execute_result"
    }
   ],
   "source": [
    "movies.iloc[0].keywords"
   ]
  },
  {
   "cell_type": "code",
   "execution_count": 20,
   "id": "44f7a294",
   "metadata": {
    "execution": {
     "iopub.execute_input": "2023-10-18T17:04:07.441242Z",
     "iopub.status.busy": "2023-10-18T17:04:07.440673Z",
     "iopub.status.idle": "2023-10-18T17:04:07.444722Z",
     "shell.execute_reply": "2023-10-18T17:04:07.444038Z"
    },
    "papermill": {
     "duration": 0.020142,
     "end_time": "2023-10-18T17:04:07.446563",
     "exception": false,
     "start_time": "2023-10-18T17:04:07.426421",
     "status": "completed"
    },
    "tags": []
   },
   "outputs": [],
   "source": [
    "# A module in python to convert a string of list INTO list\n"
   ]
  },
  {
   "cell_type": "code",
   "execution_count": 21,
   "id": "2fa8ce59",
   "metadata": {
    "execution": {
     "iopub.execute_input": "2023-10-18T17:04:07.473461Z",
     "iopub.status.busy": "2023-10-18T17:04:07.473109Z",
     "iopub.status.idle": "2023-10-18T17:04:07.476781Z",
     "shell.execute_reply": "2023-10-18T17:04:07.475778Z"
    },
    "papermill": {
     "duration": 0.019511,
     "end_time": "2023-10-18T17:04:07.478697",
     "exception": false,
     "start_time": "2023-10-18T17:04:07.459186",
     "status": "completed"
    },
    "tags": []
   },
   "outputs": [],
   "source": [
    "import ast"
   ]
  },
  {
   "cell_type": "code",
   "execution_count": 22,
   "id": "8b9d7588",
   "metadata": {
    "execution": {
     "iopub.execute_input": "2023-10-18T17:04:07.505661Z",
     "iopub.status.busy": "2023-10-18T17:04:07.505275Z",
     "iopub.status.idle": "2023-10-18T17:04:07.510235Z",
     "shell.execute_reply": "2023-10-18T17:04:07.509271Z"
    },
    "papermill": {
     "duration": 0.020742,
     "end_time": "2023-10-18T17:04:07.512276",
     "exception": false,
     "start_time": "2023-10-18T17:04:07.491534",
     "status": "completed"
    },
    "tags": []
   },
   "outputs": [],
   "source": [
    "def convert(obj):\n",
    "    L = []\n",
    "    for i in ast.literal_eval(obj):\n",
    "        L.append(i['name'])\n",
    "    return L\n"
   ]
  },
  {
   "cell_type": "code",
   "execution_count": 23,
   "id": "a527b0c3",
   "metadata": {
    "execution": {
     "iopub.execute_input": "2023-10-18T17:04:07.540499Z",
     "iopub.status.busy": "2023-10-18T17:04:07.540114Z",
     "iopub.status.idle": "2023-10-18T17:04:07.692766Z",
     "shell.execute_reply": "2023-10-18T17:04:07.691695Z"
    },
    "papermill": {
     "duration": 0.169107,
     "end_time": "2023-10-18T17:04:07.695059",
     "exception": false,
     "start_time": "2023-10-18T17:04:07.525952",
     "status": "completed"
    },
    "tags": []
   },
   "outputs": [],
   "source": [
    "movies['genres'] = movies['genres'].apply(convert)"
   ]
  },
  {
   "cell_type": "code",
   "execution_count": 24,
   "id": "5cf0364a",
   "metadata": {
    "execution": {
     "iopub.execute_input": "2023-10-18T17:04:07.722819Z",
     "iopub.status.busy": "2023-10-18T17:04:07.721914Z",
     "iopub.status.idle": "2023-10-18T17:04:07.728120Z",
     "shell.execute_reply": "2023-10-18T17:04:07.727387Z"
    },
    "papermill": {
     "duration": 0.021779,
     "end_time": "2023-10-18T17:04:07.729837",
     "exception": false,
     "start_time": "2023-10-18T17:04:07.708058",
     "status": "completed"
    },
    "tags": []
   },
   "outputs": [
    {
     "data": {
      "text/plain": [
       "['Action', 'Adventure', 'Fantasy', 'Science Fiction']"
      ]
     },
     "execution_count": 24,
     "metadata": {},
     "output_type": "execute_result"
    }
   ],
   "source": [
    "movies.iloc[0].genres"
   ]
  },
  {
   "cell_type": "code",
   "execution_count": 25,
   "id": "ca0d2721",
   "metadata": {
    "execution": {
     "iopub.execute_input": "2023-10-18T17:04:07.757917Z",
     "iopub.status.busy": "2023-10-18T17:04:07.757338Z",
     "iopub.status.idle": "2023-10-18T17:04:08.137248Z",
     "shell.execute_reply": "2023-10-18T17:04:08.136545Z"
    },
    "papermill": {
     "duration": 0.396601,
     "end_time": "2023-10-18T17:04:08.139703",
     "exception": false,
     "start_time": "2023-10-18T17:04:07.743102",
     "status": "completed"
    },
    "tags": []
   },
   "outputs": [],
   "source": [
    "movies['keywords'] = movies['keywords'].apply(convert)"
   ]
  },
  {
   "cell_type": "code",
   "execution_count": 26,
   "id": "fa0c0c99",
   "metadata": {
    "execution": {
     "iopub.execute_input": "2023-10-18T17:04:08.168692Z",
     "iopub.status.busy": "2023-10-18T17:04:08.167843Z",
     "iopub.status.idle": "2023-10-18T17:04:08.174559Z",
     "shell.execute_reply": "2023-10-18T17:04:08.173651Z"
    },
    "papermill": {
     "duration": 0.023352,
     "end_time": "2023-10-18T17:04:08.176819",
     "exception": false,
     "start_time": "2023-10-18T17:04:08.153467",
     "status": "completed"
    },
    "tags": []
   },
   "outputs": [
    {
     "data": {
      "text/plain": [
       "'[{\"cast_id\": 242, \"character\": \"Jake Sully\", \"credit_id\": \"5602a8a7c3a3685532001c9a\", \"gender\": 2, \"id\": 65731, \"name\": \"Sam Worthington\", \"order\": 0}, {\"cast_id\": 3, \"character\": \"Neytiri\", \"credit_id\": \"52fe48009251416c750ac9cb\", \"gender\": 1, \"id\": 8691, \"name\": \"Zoe Saldana\", \"order\": 1}, {\"cast_id\": 25, \"character\": \"Dr. Grace Augustine\", \"credit_id\": \"52fe48009251416c750aca39\", \"gender\": 1, \"id\": 10205, \"name\": \"Sigourney Weaver\", \"order\": 2}, {\"cast_id\": 4, \"character\": \"Col. Quaritch\", \"credit_id\": \"52fe48009251416c750ac9cf\", \"gender\": 2, \"id\": 32747, \"name\": \"Stephen Lang\", \"order\": 3}, {\"cast_id\": 5, \"character\": \"Trudy Chacon\", \"credit_id\": \"52fe48009251416c750ac9d3\", \"gender\": 1, \"id\": 17647, \"name\": \"Michelle Rodriguez\", \"order\": 4}, {\"cast_id\": 8, \"character\": \"Selfridge\", \"credit_id\": \"52fe48009251416c750ac9e1\", \"gender\": 2, \"id\": 1771, \"name\": \"Giovanni Ribisi\", \"order\": 5}, {\"cast_id\": 7, \"character\": \"Norm Spellman\", \"credit_id\": \"52fe48009251416c750ac9dd\", \"gender\": 2, \"id\": 59231, \"name\": \"Joel David Moore\", \"order\": 6}, {\"cast_id\": 9, \"character\": \"Moat\", \"credit_id\": \"52fe48009251416c750ac9e5\", \"gender\": 1, \"id\": 30485, \"name\": \"CCH Pounder\", \"order\": 7}, {\"cast_id\": 11, \"character\": \"Eytukan\", \"credit_id\": \"52fe48009251416c750ac9ed\", \"gender\": 2, \"id\": 15853, \"name\": \"Wes Studi\", \"order\": 8}, {\"cast_id\": 10, \"character\": \"Tsu\\'Tey\", \"credit_id\": \"52fe48009251416c750ac9e9\", \"gender\": 2, \"id\": 10964, \"name\": \"Laz Alonso\", \"order\": 9}, {\"cast_id\": 12, \"character\": \"Dr. Max Patel\", \"credit_id\": \"52fe48009251416c750ac9f1\", \"gender\": 2, \"id\": 95697, \"name\": \"Dileep Rao\", \"order\": 10}, {\"cast_id\": 13, \"character\": \"Lyle Wainfleet\", \"credit_id\": \"52fe48009251416c750ac9f5\", \"gender\": 2, \"id\": 98215, \"name\": \"Matt Gerald\", \"order\": 11}, {\"cast_id\": 32, \"character\": \"Private Fike\", \"credit_id\": \"52fe48009251416c750aca5b\", \"gender\": 2, \"id\": 154153, \"name\": \"Sean Anthony Moran\", \"order\": 12}, {\"cast_id\": 33, \"character\": \"Cryo Vault Med Tech\", \"credit_id\": \"52fe48009251416c750aca5f\", \"gender\": 2, \"id\": 397312, \"name\": \"Jason Whyte\", \"order\": 13}, {\"cast_id\": 34, \"character\": \"Venture Star Crew Chief\", \"credit_id\": \"52fe48009251416c750aca63\", \"gender\": 2, \"id\": 42317, \"name\": \"Scott Lawrence\", \"order\": 14}, {\"cast_id\": 35, \"character\": \"Lock Up Trooper\", \"credit_id\": \"52fe48009251416c750aca67\", \"gender\": 2, \"id\": 986734, \"name\": \"Kelly Kilgour\", \"order\": 15}, {\"cast_id\": 36, \"character\": \"Shuttle Pilot\", \"credit_id\": \"52fe48009251416c750aca6b\", \"gender\": 0, \"id\": 1207227, \"name\": \"James Patrick Pitt\", \"order\": 16}, {\"cast_id\": 37, \"character\": \"Shuttle Co-Pilot\", \"credit_id\": \"52fe48009251416c750aca6f\", \"gender\": 0, \"id\": 1180936, \"name\": \"Sean Patrick Murphy\", \"order\": 17}, {\"cast_id\": 38, \"character\": \"Shuttle Crew Chief\", \"credit_id\": \"52fe48009251416c750aca73\", \"gender\": 2, \"id\": 1019578, \"name\": \"Peter Dillon\", \"order\": 18}, {\"cast_id\": 39, \"character\": \"Tractor Operator / Troupe\", \"credit_id\": \"52fe48009251416c750aca77\", \"gender\": 0, \"id\": 91443, \"name\": \"Kevin Dorman\", \"order\": 19}, {\"cast_id\": 40, \"character\": \"Dragon Gunship Pilot\", \"credit_id\": \"52fe48009251416c750aca7b\", \"gender\": 2, \"id\": 173391, \"name\": \"Kelson Henderson\", \"order\": 20}, {\"cast_id\": 41, \"character\": \"Dragon Gunship Gunner\", \"credit_id\": \"52fe48009251416c750aca7f\", \"gender\": 0, \"id\": 1207236, \"name\": \"David Van Horn\", \"order\": 21}, {\"cast_id\": 42, \"character\": \"Dragon Gunship Navigator\", \"credit_id\": \"52fe48009251416c750aca83\", \"gender\": 0, \"id\": 215913, \"name\": \"Jacob Tomuri\", \"order\": 22}, {\"cast_id\": 43, \"character\": \"Suit #1\", \"credit_id\": \"52fe48009251416c750aca87\", \"gender\": 0, \"id\": 143206, \"name\": \"Michael Blain-Rozgay\", \"order\": 23}, {\"cast_id\": 44, \"character\": \"Suit #2\", \"credit_id\": \"52fe48009251416c750aca8b\", \"gender\": 2, \"id\": 169676, \"name\": \"Jon Curry\", \"order\": 24}, {\"cast_id\": 46, \"character\": \"Ambient Room Tech\", \"credit_id\": \"52fe48009251416c750aca8f\", \"gender\": 0, \"id\": 1048610, \"name\": \"Luke Hawker\", \"order\": 25}, {\"cast_id\": 47, \"character\": \"Ambient Room Tech / Troupe\", \"credit_id\": \"52fe48009251416c750aca93\", \"gender\": 0, \"id\": 42288, \"name\": \"Woody Schultz\", \"order\": 26}, {\"cast_id\": 48, \"character\": \"Horse Clan Leader\", \"credit_id\": \"52fe48009251416c750aca97\", \"gender\": 2, \"id\": 68278, \"name\": \"Peter Mensah\", \"order\": 27}, {\"cast_id\": 49, \"character\": \"Link Room Tech\", \"credit_id\": \"52fe48009251416c750aca9b\", \"gender\": 0, \"id\": 1207247, \"name\": \"Sonia Yee\", \"order\": 28}, {\"cast_id\": 50, \"character\": \"Basketball Avatar / Troupe\", \"credit_id\": \"52fe48009251416c750aca9f\", \"gender\": 1, \"id\": 1207248, \"name\": \"Jahnel Curfman\", \"order\": 29}, {\"cast_id\": 51, \"character\": \"Basketball Avatar\", \"credit_id\": \"52fe48009251416c750acaa3\", \"gender\": 0, \"id\": 89714, \"name\": \"Ilram Choi\", \"order\": 30}, {\"cast_id\": 52, \"character\": \"Na\\'vi Child\", \"credit_id\": \"52fe48009251416c750acaa7\", \"gender\": 0, \"id\": 1207249, \"name\": \"Kyla Warren\", \"order\": 31}, {\"cast_id\": 53, \"character\": \"Troupe\", \"credit_id\": \"52fe48009251416c750acaab\", \"gender\": 0, \"id\": 1207250, \"name\": \"Lisa Roumain\", \"order\": 32}, {\"cast_id\": 54, \"character\": \"Troupe\", \"credit_id\": \"52fe48009251416c750acaaf\", \"gender\": 1, \"id\": 83105, \"name\": \"Debra Wilson\", \"order\": 33}, {\"cast_id\": 57, \"character\": \"Troupe\", \"credit_id\": \"52fe48009251416c750acabb\", \"gender\": 0, \"id\": 1207253, \"name\": \"Chris Mala\", \"order\": 34}, {\"cast_id\": 55, \"character\": \"Troupe\", \"credit_id\": \"52fe48009251416c750acab3\", \"gender\": 0, \"id\": 1207251, \"name\": \"Taylor Kibby\", \"order\": 35}, {\"cast_id\": 56, \"character\": \"Troupe\", \"credit_id\": \"52fe48009251416c750acab7\", \"gender\": 0, \"id\": 1207252, \"name\": \"Jodie Landau\", \"order\": 36}, {\"cast_id\": 58, \"character\": \"Troupe\", \"credit_id\": \"52fe48009251416c750acabf\", \"gender\": 0, \"id\": 1207254, \"name\": \"Julie Lamm\", \"order\": 37}, {\"cast_id\": 59, \"character\": \"Troupe\", \"credit_id\": \"52fe48009251416c750acac3\", \"gender\": 0, \"id\": 1207257, \"name\": \"Cullen B. Madden\", \"order\": 38}, {\"cast_id\": 60, \"character\": \"Troupe\", \"credit_id\": \"52fe48009251416c750acac7\", \"gender\": 0, \"id\": 1207259, \"name\": \"Joseph Brady Madden\", \"order\": 39}, {\"cast_id\": 61, \"character\": \"Troupe\", \"credit_id\": \"52fe48009251416c750acacb\", \"gender\": 0, \"id\": 1207262, \"name\": \"Frankie Torres\", \"order\": 40}, {\"cast_id\": 62, \"character\": \"Troupe\", \"credit_id\": \"52fe48009251416c750acacf\", \"gender\": 1, \"id\": 1158600, \"name\": \"Austin Wilson\", \"order\": 41}, {\"cast_id\": 63, \"character\": \"Troupe\", \"credit_id\": \"52fe48019251416c750acad3\", \"gender\": 1, \"id\": 983705, \"name\": \"Sara Wilson\", \"order\": 42}, {\"cast_id\": 64, \"character\": \"Troupe\", \"credit_id\": \"52fe48019251416c750acad7\", \"gender\": 0, \"id\": 1207263, \"name\": \"Tamica Washington-Miller\", \"order\": 43}, {\"cast_id\": 65, \"character\": \"Op Center Staff\", \"credit_id\": \"52fe48019251416c750acadb\", \"gender\": 1, \"id\": 1145098, \"name\": \"Lucy Briant\", \"order\": 44}, {\"cast_id\": 66, \"character\": \"Op Center Staff\", \"credit_id\": \"52fe48019251416c750acadf\", \"gender\": 2, \"id\": 33305, \"name\": \"Nathan Meister\", \"order\": 45}, {\"cast_id\": 67, \"character\": \"Op Center Staff\", \"credit_id\": \"52fe48019251416c750acae3\", \"gender\": 0, \"id\": 1207264, \"name\": \"Gerry Blair\", \"order\": 46}, {\"cast_id\": 68, \"character\": \"Op Center Staff\", \"credit_id\": \"52fe48019251416c750acae7\", \"gender\": 2, \"id\": 33311, \"name\": \"Matthew Chamberlain\", \"order\": 47}, {\"cast_id\": 69, \"character\": \"Op Center Staff\", \"credit_id\": \"52fe48019251416c750acaeb\", \"gender\": 0, \"id\": 1207265, \"name\": \"Paul Yates\", \"order\": 48}, {\"cast_id\": 70, \"character\": \"Op Center Duty Officer\", \"credit_id\": \"52fe48019251416c750acaef\", \"gender\": 0, \"id\": 1207266, \"name\": \"Wray Wilson\", \"order\": 49}, {\"cast_id\": 71, \"character\": \"Op Center Staff\", \"credit_id\": \"52fe48019251416c750acaf3\", \"gender\": 2, \"id\": 54492, \"name\": \"James Gaylyn\", \"order\": 50}, {\"cast_id\": 72, \"character\": \"Dancer\", \"credit_id\": \"52fe48019251416c750acaf7\", \"gender\": 0, \"id\": 1207267, \"name\": \"Melvin Leno Clark III\", \"order\": 51}, {\"cast_id\": 73, \"character\": \"Dancer\", \"credit_id\": \"52fe48019251416c750acafb\", \"gender\": 0, \"id\": 1207268, \"name\": \"Carvon Futrell\", \"order\": 52}, {\"cast_id\": 74, \"character\": \"Dancer\", \"credit_id\": \"52fe48019251416c750acaff\", \"gender\": 0, \"id\": 1207269, \"name\": \"Brandon Jelkes\", \"order\": 53}, {\"cast_id\": 75, \"character\": \"Dancer\", \"credit_id\": \"52fe48019251416c750acb03\", \"gender\": 0, \"id\": 1207270, \"name\": \"Micah Moch\", \"order\": 54}, {\"cast_id\": 76, \"character\": \"Dancer\", \"credit_id\": \"52fe48019251416c750acb07\", \"gender\": 0, \"id\": 1207271, \"name\": \"Hanniyah Muhammad\", \"order\": 55}, {\"cast_id\": 77, \"character\": \"Dancer\", \"credit_id\": \"52fe48019251416c750acb0b\", \"gender\": 0, \"id\": 1207272, \"name\": \"Christopher Nolen\", \"order\": 56}, {\"cast_id\": 78, \"character\": \"Dancer\", \"credit_id\": \"52fe48019251416c750acb0f\", \"gender\": 0, \"id\": 1207273, \"name\": \"Christa Oliver\", \"order\": 57}, {\"cast_id\": 79, \"character\": \"Dancer\", \"credit_id\": \"52fe48019251416c750acb13\", \"gender\": 0, \"id\": 1207274, \"name\": \"April Marie Thomas\", \"order\": 58}, {\"cast_id\": 80, \"character\": \"Dancer\", \"credit_id\": \"52fe48019251416c750acb17\", \"gender\": 0, \"id\": 1207275, \"name\": \"Bravita A. Threatt\", \"order\": 59}, {\"cast_id\": 81, \"character\": \"Mining Chief (uncredited)\", \"credit_id\": \"52fe48019251416c750acb1b\", \"gender\": 0, \"id\": 1207276, \"name\": \"Colin Bleasdale\", \"order\": 60}, {\"cast_id\": 82, \"character\": \"Veteran Miner (uncredited)\", \"credit_id\": \"52fe48019251416c750acb1f\", \"gender\": 0, \"id\": 107969, \"name\": \"Mike Bodnar\", \"order\": 61}, {\"cast_id\": 83, \"character\": \"Richard (uncredited)\", \"credit_id\": \"52fe48019251416c750acb23\", \"gender\": 0, \"id\": 1207278, \"name\": \"Matt Clayton\", \"order\": 62}, {\"cast_id\": 84, \"character\": \"Nav\\'i (uncredited)\", \"credit_id\": \"52fe48019251416c750acb27\", \"gender\": 1, \"id\": 147898, \"name\": \"Nicole Dionne\", \"order\": 63}, {\"cast_id\": 85, \"character\": \"Trooper (uncredited)\", \"credit_id\": \"52fe48019251416c750acb2b\", \"gender\": 0, \"id\": 1207280, \"name\": \"Jamie Harrison\", \"order\": 64}, {\"cast_id\": 86, \"character\": \"Trooper (uncredited)\", \"credit_id\": \"52fe48019251416c750acb2f\", \"gender\": 0, \"id\": 1207281, \"name\": \"Allan Henry\", \"order\": 65}, {\"cast_id\": 87, \"character\": \"Ground Technician (uncredited)\", \"credit_id\": \"52fe48019251416c750acb33\", \"gender\": 2, \"id\": 1207282, \"name\": \"Anthony Ingruber\", \"order\": 66}, {\"cast_id\": 88, \"character\": \"Flight Crew Mechanic (uncredited)\", \"credit_id\": \"52fe48019251416c750acb37\", \"gender\": 0, \"id\": 1207283, \"name\": \"Ashley Jeffery\", \"order\": 67}, {\"cast_id\": 14, \"character\": \"Samson Pilot\", \"credit_id\": \"52fe48009251416c750ac9f9\", \"gender\": 0, \"id\": 98216, \"name\": \"Dean Knowsley\", \"order\": 68}, {\"cast_id\": 89, \"character\": \"Trooper (uncredited)\", \"credit_id\": \"52fe48019251416c750acb3b\", \"gender\": 0, \"id\": 1201399, \"name\": \"Joseph Mika-Hunt\", \"order\": 69}, {\"cast_id\": 90, \"character\": \"Banshee (uncredited)\", \"credit_id\": \"52fe48019251416c750acb3f\", \"gender\": 0, \"id\": 236696, \"name\": \"Terry Notary\", \"order\": 70}, {\"cast_id\": 91, \"character\": \"Soldier (uncredited)\", \"credit_id\": \"52fe48019251416c750acb43\", \"gender\": 0, \"id\": 1207287, \"name\": \"Kai Pantano\", \"order\": 71}, {\"cast_id\": 92, \"character\": \"Blast Technician (uncredited)\", \"credit_id\": \"52fe48019251416c750acb47\", \"gender\": 0, \"id\": 1207288, \"name\": \"Logan Pithyou\", \"order\": 72}, {\"cast_id\": 93, \"character\": \"Vindum Raah (uncredited)\", \"credit_id\": \"52fe48019251416c750acb4b\", \"gender\": 0, \"id\": 1207289, \"name\": \"Stuart Pollock\", \"order\": 73}, {\"cast_id\": 94, \"character\": \"Hero (uncredited)\", \"credit_id\": \"52fe48019251416c750acb4f\", \"gender\": 0, \"id\": 584868, \"name\": \"Raja\", \"order\": 74}, {\"cast_id\": 95, \"character\": \"Ops Centreworker (uncredited)\", \"credit_id\": \"52fe48019251416c750acb53\", \"gender\": 0, \"id\": 1207290, \"name\": \"Gareth Ruck\", \"order\": 75}, {\"cast_id\": 96, \"character\": \"Engineer (uncredited)\", \"credit_id\": \"52fe48019251416c750acb57\", \"gender\": 0, \"id\": 1062463, \"name\": \"Rhian Sheehan\", \"order\": 76}, {\"cast_id\": 97, \"character\": \"Col. Quaritch\\'s Mech Suit (uncredited)\", \"credit_id\": \"52fe48019251416c750acb5b\", \"gender\": 0, \"id\": 60656, \"name\": \"T. J. Storm\", \"order\": 77}, {\"cast_id\": 98, \"character\": \"Female Marine (uncredited)\", \"credit_id\": \"52fe48019251416c750acb5f\", \"gender\": 0, \"id\": 1207291, \"name\": \"Jodie Taylor\", \"order\": 78}, {\"cast_id\": 99, \"character\": \"Ikran Clan Leader (uncredited)\", \"credit_id\": \"52fe48019251416c750acb63\", \"gender\": 1, \"id\": 1186027, \"name\": \"Alicia Vela-Bailey\", \"order\": 79}, {\"cast_id\": 100, \"character\": \"Geologist (uncredited)\", \"credit_id\": \"52fe48019251416c750acb67\", \"gender\": 0, \"id\": 1207292, \"name\": \"Richard Whiteside\", \"order\": 80}, {\"cast_id\": 101, \"character\": \"Na\\'vi (uncredited)\", \"credit_id\": \"52fe48019251416c750acb6b\", \"gender\": 0, \"id\": 103259, \"name\": \"Nikie Zambo\", \"order\": 81}, {\"cast_id\": 102, \"character\": \"Ambient Room Tech / Troupe\", \"credit_id\": \"52fe48019251416c750acb6f\", \"gender\": 1, \"id\": 42286, \"name\": \"Julene Renee\", \"order\": 82}]'"
      ]
     },
     "execution_count": 26,
     "metadata": {},
     "output_type": "execute_result"
    }
   ],
   "source": [
    "movies['cast'][0]"
   ]
  },
  {
   "cell_type": "code",
   "execution_count": 27,
   "id": "21c08caa",
   "metadata": {
    "execution": {
     "iopub.execute_input": "2023-10-18T17:04:08.204427Z",
     "iopub.status.busy": "2023-10-18T17:04:08.204076Z",
     "iopub.status.idle": "2023-10-18T17:04:08.208803Z",
     "shell.execute_reply": "2023-10-18T17:04:08.207868Z"
    },
    "papermill": {
     "duration": 0.020476,
     "end_time": "2023-10-18T17:04:08.210651",
     "exception": false,
     "start_time": "2023-10-18T17:04:08.190175",
     "status": "completed"
    },
    "tags": []
   },
   "outputs": [],
   "source": [
    "def convert3(obj):\n",
    "    L = []\n",
    "    ct = 0\n",
    "    for i in ast.literal_eval(obj):\n",
    "        if ct!=3:\n",
    "            L.append(i['name'])\n",
    "            ct = ct+1\n",
    "        else:\n",
    "            break\n",
    "    return L"
   ]
  },
  {
   "cell_type": "code",
   "execution_count": 28,
   "id": "a66050ec",
   "metadata": {
    "execution": {
     "iopub.execute_input": "2023-10-18T17:04:08.238865Z",
     "iopub.status.busy": "2023-10-18T17:04:08.238547Z",
     "iopub.status.idle": "2023-10-18T17:04:11.370514Z",
     "shell.execute_reply": "2023-10-18T17:04:11.369391Z"
    },
    "papermill": {
     "duration": 3.148562,
     "end_time": "2023-10-18T17:04:11.372898",
     "exception": false,
     "start_time": "2023-10-18T17:04:08.224336",
     "status": "completed"
    },
    "tags": []
   },
   "outputs": [],
   "source": [
    "movies['cast'] = movies['cast'].apply(convert3)"
   ]
  },
  {
   "cell_type": "code",
   "execution_count": 29,
   "id": "f52b8b94",
   "metadata": {
    "execution": {
     "iopub.execute_input": "2023-10-18T17:04:11.400866Z",
     "iopub.status.busy": "2023-10-18T17:04:11.400495Z",
     "iopub.status.idle": "2023-10-18T17:04:11.407336Z",
     "shell.execute_reply": "2023-10-18T17:04:11.406492Z"
    },
    "papermill": {
     "duration": 0.023581,
     "end_time": "2023-10-18T17:04:11.409659",
     "exception": false,
     "start_time": "2023-10-18T17:04:11.386078",
     "status": "completed"
    },
    "tags": []
   },
   "outputs": [
    {
     "data": {
      "text/plain": [
       "'[{\"credit_id\": \"52fe48009251416c750aca23\", \"department\": \"Editing\", \"gender\": 0, \"id\": 1721, \"job\": \"Editor\", \"name\": \"Stephen E. Rivkin\"}, {\"credit_id\": \"539c47ecc3a36810e3001f87\", \"department\": \"Art\", \"gender\": 2, \"id\": 496, \"job\": \"Production Design\", \"name\": \"Rick Carter\"}, {\"credit_id\": \"54491c89c3a3680fb4001cf7\", \"department\": \"Sound\", \"gender\": 0, \"id\": 900, \"job\": \"Sound Designer\", \"name\": \"Christopher Boyes\"}, {\"credit_id\": \"54491cb70e0a267480001bd0\", \"department\": \"Sound\", \"gender\": 0, \"id\": 900, \"job\": \"Supervising Sound Editor\", \"name\": \"Christopher Boyes\"}, {\"credit_id\": \"539c4a4cc3a36810c9002101\", \"department\": \"Production\", \"gender\": 1, \"id\": 1262, \"job\": \"Casting\", \"name\": \"Mali Finn\"}, {\"credit_id\": \"5544ee3b925141499f0008fc\", \"department\": \"Sound\", \"gender\": 2, \"id\": 1729, \"job\": \"Original Music Composer\", \"name\": \"James Horner\"}, {\"credit_id\": \"52fe48009251416c750ac9c3\", \"department\": \"Directing\", \"gender\": 2, \"id\": 2710, \"job\": \"Director\", \"name\": \"James Cameron\"}, {\"credit_id\": \"52fe48009251416c750ac9d9\", \"department\": \"Writing\", \"gender\": 2, \"id\": 2710, \"job\": \"Writer\", \"name\": \"James Cameron\"}, {\"credit_id\": \"52fe48009251416c750aca17\", \"department\": \"Editing\", \"gender\": 2, \"id\": 2710, \"job\": \"Editor\", \"name\": \"James Cameron\"}, {\"credit_id\": \"52fe48009251416c750aca29\", \"department\": \"Production\", \"gender\": 2, \"id\": 2710, \"job\": \"Producer\", \"name\": \"James Cameron\"}, {\"credit_id\": \"52fe48009251416c750aca3f\", \"department\": \"Writing\", \"gender\": 2, \"id\": 2710, \"job\": \"Screenplay\", \"name\": \"James Cameron\"}, {\"credit_id\": \"539c4987c3a36810ba0021a4\", \"department\": \"Art\", \"gender\": 2, \"id\": 7236, \"job\": \"Art Direction\", \"name\": \"Andrew Menzies\"}, {\"credit_id\": \"549598c3c3a3686ae9004383\", \"department\": \"Visual Effects\", \"gender\": 0, \"id\": 6690, \"job\": \"Visual Effects Producer\", \"name\": \"Jill Brooks\"}, {\"credit_id\": \"52fe48009251416c750aca4b\", \"department\": \"Production\", \"gender\": 1, \"id\": 6347, \"job\": \"Casting\", \"name\": \"Margery Simkin\"}, {\"credit_id\": \"570b6f419251417da70032fe\", \"department\": \"Art\", \"gender\": 2, \"id\": 6878, \"job\": \"Supervising Art Director\", \"name\": \"Kevin Ishioka\"}, {\"credit_id\": \"5495a0fac3a3686ae9004468\", \"department\": \"Sound\", \"gender\": 0, \"id\": 6883, \"job\": \"Music Editor\", \"name\": \"Dick Bernstein\"}, {\"credit_id\": \"54959706c3a3686af3003e81\", \"department\": \"Sound\", \"gender\": 0, \"id\": 8159, \"job\": \"Sound Effects Editor\", \"name\": \"Shannon Mills\"}, {\"credit_id\": \"54491d58c3a3680fb1001ccb\", \"department\": \"Sound\", \"gender\": 0, \"id\": 8160, \"job\": \"Foley\", \"name\": \"Dennie Thorpe\"}, {\"credit_id\": \"54491d6cc3a3680fa5001b2c\", \"department\": \"Sound\", \"gender\": 0, \"id\": 8163, \"job\": \"Foley\", \"name\": \"Jana Vance\"}, {\"credit_id\": \"52fe48009251416c750aca57\", \"department\": \"Costume & Make-Up\", \"gender\": 1, \"id\": 8527, \"job\": \"Costume Design\", \"name\": \"Deborah Lynn Scott\"}, {\"credit_id\": \"52fe48009251416c750aca2f\", \"department\": \"Production\", \"gender\": 2, \"id\": 8529, \"job\": \"Producer\", \"name\": \"Jon Landau\"}, {\"credit_id\": \"539c4937c3a36810ba002194\", \"department\": \"Art\", \"gender\": 0, \"id\": 9618, \"job\": \"Art Direction\", \"name\": \"Sean Haworth\"}, {\"credit_id\": \"539c49b6c3a36810c10020e6\", \"department\": \"Art\", \"gender\": 1, \"id\": 12653, \"job\": \"Set Decoration\", \"name\": \"Kim Sinclair\"}, {\"credit_id\": \"570b6f2f9251413a0e00020d\", \"department\": \"Art\", \"gender\": 1, \"id\": 12653, \"job\": \"Supervising Art Director\", \"name\": \"Kim Sinclair\"}, {\"credit_id\": \"54491a6c0e0a26748c001b19\", \"department\": \"Art\", \"gender\": 2, \"id\": 14350, \"job\": \"Set Designer\", \"name\": \"Richard F. Mays\"}, {\"credit_id\": \"56928cf4c3a3684cff0025c4\", \"department\": \"Production\", \"gender\": 1, \"id\": 20294, \"job\": \"Executive Producer\", \"name\": \"Laeta Kalogridis\"}, {\"credit_id\": \"52fe48009251416c750aca51\", \"department\": \"Costume & Make-Up\", \"gender\": 0, \"id\": 17675, \"job\": \"Costume Design\", \"name\": \"Mayes C. Rubeo\"}, {\"credit_id\": \"52fe48009251416c750aca11\", \"department\": \"Camera\", \"gender\": 2, \"id\": 18265, \"job\": \"Director of Photography\", \"name\": \"Mauro Fiore\"}, {\"credit_id\": \"5449194d0e0a26748f001b39\", \"department\": \"Art\", \"gender\": 0, \"id\": 42281, \"job\": \"Set Designer\", \"name\": \"Scott Herbertson\"}, {\"credit_id\": \"52fe48009251416c750aca05\", \"department\": \"Crew\", \"gender\": 0, \"id\": 42288, \"job\": \"Stunts\", \"name\": \"Woody Schultz\"}, {\"credit_id\": \"5592aefb92514152de0010f5\", \"department\": \"Costume & Make-Up\", \"gender\": 0, \"id\": 29067, \"job\": \"Makeup Artist\", \"name\": \"Linda DeVetta\"}, {\"credit_id\": \"5592afa492514152de00112c\", \"department\": \"Costume & Make-Up\", \"gender\": 0, \"id\": 29067, \"job\": \"Hairstylist\", \"name\": \"Linda DeVetta\"}, {\"credit_id\": \"54959ed592514130fc002e5d\", \"department\": \"Camera\", \"gender\": 2, \"id\": 33302, \"job\": \"Camera Operator\", \"name\": \"Richard Bluck\"}, {\"credit_id\": \"539c4891c3a36810ba002147\", \"department\": \"Art\", \"gender\": 2, \"id\": 33303, \"job\": \"Art Direction\", \"name\": \"Simon Bright\"}, {\"credit_id\": \"54959c069251417a81001f3a\", \"department\": \"Visual Effects\", \"gender\": 0, \"id\": 113145, \"job\": \"Visual Effects Supervisor\", \"name\": \"Richard Martin\"}, {\"credit_id\": \"54959a0dc3a3680ff5002c8d\", \"department\": \"Crew\", \"gender\": 2, \"id\": 58188, \"job\": \"Visual Effects Editor\", \"name\": \"Steve R. Moore\"}, {\"credit_id\": \"52fe48009251416c750aca1d\", \"department\": \"Editing\", \"gender\": 2, \"id\": 58871, \"job\": \"Editor\", \"name\": \"John Refoua\"}, {\"credit_id\": \"54491a4dc3a3680fc30018ca\", \"department\": \"Art\", \"gender\": 0, \"id\": 92359, \"job\": \"Set Designer\", \"name\": \"Karl J. Martin\"}, {\"credit_id\": \"52fe48009251416c750aca35\", \"department\": \"Camera\", \"gender\": 1, \"id\": 72201, \"job\": \"Director of Photography\", \"name\": \"Chiling Lin\"}, {\"credit_id\": \"52fe48009251416c750ac9ff\", \"department\": \"Crew\", \"gender\": 0, \"id\": 89714, \"job\": \"Stunts\", \"name\": \"Ilram Choi\"}, {\"credit_id\": \"54959c529251416e2b004394\", \"department\": \"Visual Effects\", \"gender\": 2, \"id\": 93214, \"job\": \"Visual Effects Supervisor\", \"name\": \"Steven Quale\"}, {\"credit_id\": \"54491edf0e0a267489001c37\", \"department\": \"Crew\", \"gender\": 1, \"id\": 122607, \"job\": \"Dialect Coach\", \"name\": \"Carla Meyer\"}, {\"credit_id\": \"539c485bc3a368653d001a3a\", \"department\": \"Art\", \"gender\": 2, \"id\": 132585, \"job\": \"Art Direction\", \"name\": \"Nick Bassett\"}, {\"credit_id\": \"539c4903c3a368653d001a74\", \"department\": \"Art\", \"gender\": 0, \"id\": 132596, \"job\": \"Art Direction\", \"name\": \"Jill Cormack\"}, {\"credit_id\": \"539c4967c3a368653d001a94\", \"department\": \"Art\", \"gender\": 0, \"id\": 132604, \"job\": \"Art Direction\", \"name\": \"Andy McLaren\"}, {\"credit_id\": \"52fe48009251416c750aca45\", \"department\": \"Crew\", \"gender\": 0, \"id\": 236696, \"job\": \"Motion Capture Artist\", \"name\": \"Terry Notary\"}, {\"credit_id\": \"54959e02c3a3680fc60027d2\", \"department\": \"Crew\", \"gender\": 2, \"id\": 956198, \"job\": \"Stunt Coordinator\", \"name\": \"Garrett Warren\"}, {\"credit_id\": \"54959ca3c3a3686ae300438c\", \"department\": \"Visual Effects\", \"gender\": 2, \"id\": 957874, \"job\": \"Visual Effects Supervisor\", \"name\": \"Jonathan Rothbart\"}, {\"credit_id\": \"570b6f519251412c74001b2f\", \"department\": \"Art\", \"gender\": 0, \"id\": 957889, \"job\": \"Supervising Art Director\", \"name\": \"Stefan Dechant\"}, {\"credit_id\": \"570b6f62c3a3680b77007460\", \"department\": \"Art\", \"gender\": 2, \"id\": 959555, \"job\": \"Supervising Art Director\", \"name\": \"Todd Cherniawsky\"}, {\"credit_id\": \"539c4a3ac3a36810da0021cc\", \"department\": \"Production\", \"gender\": 0, \"id\": 1016177, \"job\": \"Casting\", \"name\": \"Miranda Rivers\"}, {\"credit_id\": \"539c482cc3a36810c1002062\", \"department\": \"Art\", \"gender\": 0, \"id\": 1032536, \"job\": \"Production Design\", \"name\": \"Robert Stromberg\"}, {\"credit_id\": \"539c4b65c3a36810c9002125\", \"department\": \"Costume & Make-Up\", \"gender\": 2, \"id\": 1071680, \"job\": \"Costume Design\", \"name\": \"John Harding\"}, {\"credit_id\": \"54959e6692514130fc002e4e\", \"department\": \"Camera\", \"gender\": 0, \"id\": 1177364, \"job\": \"Steadicam Operator\", \"name\": \"Roberto De Angelis\"}, {\"credit_id\": \"539c49f1c3a368653d001aac\", \"department\": \"Costume & Make-Up\", \"gender\": 2, \"id\": 1202850, \"job\": \"Makeup Department Head\", \"name\": \"Mike Smithson\"}, {\"credit_id\": \"5495999ec3a3686ae100460c\", \"department\": \"Visual Effects\", \"gender\": 0, \"id\": 1204668, \"job\": \"Visual Effects Producer\", \"name\": \"Alain Lalanne\"}, {\"credit_id\": \"54959cdfc3a3681153002729\", \"department\": \"Visual Effects\", \"gender\": 0, \"id\": 1206410, \"job\": \"Visual Effects Supervisor\", \"name\": \"Lucas Salton\"}, {\"credit_id\": \"549596239251417a81001eae\", \"department\": \"Crew\", \"gender\": 0, \"id\": 1234266, \"job\": \"Post Production Supervisor\", \"name\": \"Janace Tashjian\"}, {\"credit_id\": \"54959c859251416e1e003efe\", \"department\": \"Visual Effects\", \"gender\": 0, \"id\": 1271932, \"job\": \"Visual Effects Supervisor\", \"name\": \"Stephen Rosenbaum\"}, {\"credit_id\": \"5592af28c3a368775a00105f\", \"department\": \"Costume & Make-Up\", \"gender\": 0, \"id\": 1310064, \"job\": \"Makeup Artist\", \"name\": \"Frankie Karena\"}, {\"credit_id\": \"539c4adfc3a36810e300203b\", \"department\": \"Costume & Make-Up\", \"gender\": 1, \"id\": 1319844, \"job\": \"Costume Supervisor\", \"name\": \"Lisa Lovaas\"}, {\"credit_id\": \"54959b579251416e2b004371\", \"department\": \"Visual Effects\", \"gender\": 0, \"id\": 1327028, \"job\": \"Visual Effects Supervisor\", \"name\": \"Jonathan Fawkner\"}, {\"credit_id\": \"539c48a7c3a36810b5001fa7\", \"department\": \"Art\", \"gender\": 0, \"id\": 1330561, \"job\": \"Art Direction\", \"name\": \"Robert Bavin\"}, {\"credit_id\": \"539c4a71c3a36810da0021e0\", \"department\": \"Costume & Make-Up\", \"gender\": 0, \"id\": 1330567, \"job\": \"Costume Supervisor\", \"name\": \"Anthony Almaraz\"}, {\"credit_id\": \"539c4a8ac3a36810ba0021e4\", \"department\": \"Costume & Make-Up\", \"gender\": 0, \"id\": 1330570, \"job\": \"Costume Supervisor\", \"name\": \"Carolyn M. Fenton\"}, {\"credit_id\": \"539c4ab6c3a36810da0021f0\", \"department\": \"Costume & Make-Up\", \"gender\": 0, \"id\": 1330574, \"job\": \"Costume Supervisor\", \"name\": \"Beth Koenigsberg\"}, {\"credit_id\": \"54491ab70e0a267480001ba2\", \"department\": \"Art\", \"gender\": 0, \"id\": 1336191, \"job\": \"Set Designer\", \"name\": \"Sam Page\"}, {\"credit_id\": \"544919d9c3a3680fc30018bd\", \"department\": \"Art\", \"gender\": 0, \"id\": 1339441, \"job\": \"Set Designer\", \"name\": \"Tex Kadonaga\"}, {\"credit_id\": \"54491cf50e0a267483001b0c\", \"department\": \"Editing\", \"gender\": 0, \"id\": 1352422, \"job\": \"Dialogue Editor\", \"name\": \"Kim Foscato\"}, {\"credit_id\": \"544919f40e0a26748c001b09\", \"department\": \"Art\", \"gender\": 0, \"id\": 1352962, \"job\": \"Set Designer\", \"name\": \"Tammy S. Lee\"}, {\"credit_id\": \"5495a115c3a3680ff5002d71\", \"department\": \"Crew\", \"gender\": 0, \"id\": 1357070, \"job\": \"Transportation Coordinator\", \"name\": \"Denny Caira\"}, {\"credit_id\": \"5495a12f92514130fc002e94\", \"department\": \"Crew\", \"gender\": 0, \"id\": 1357071, \"job\": \"Transportation Coordinator\", \"name\": \"James Waitkus\"}, {\"credit_id\": \"5495976fc3a36811530026b0\", \"department\": \"Sound\", \"gender\": 0, \"id\": 1360103, \"job\": \"Supervising Sound Editor\", \"name\": \"Addison Teague\"}, {\"credit_id\": \"54491837c3a3680fb1001c5a\", \"department\": \"Art\", \"gender\": 2, \"id\": 1376887, \"job\": \"Set Designer\", \"name\": \"C. Scott Baker\"}, {\"credit_id\": \"54491878c3a3680fb4001c9d\", \"department\": \"Art\", \"gender\": 0, \"id\": 1376888, \"job\": \"Set Designer\", \"name\": \"Luke Caska\"}, {\"credit_id\": \"544918dac3a3680fa5001ae0\", \"department\": \"Art\", \"gender\": 0, \"id\": 1376889, \"job\": \"Set Designer\", \"name\": \"David Chow\"}, {\"credit_id\": \"544919110e0a267486001b68\", \"department\": \"Art\", \"gender\": 0, \"id\": 1376890, \"job\": \"Set Designer\", \"name\": \"Jonathan Dyer\"}, {\"credit_id\": \"54491967c3a3680faa001b5e\", \"department\": \"Art\", \"gender\": 0, \"id\": 1376891, \"job\": \"Set Designer\", \"name\": \"Joseph Hiura\"}, {\"credit_id\": \"54491997c3a3680fb1001c8a\", \"department\": \"Art\", \"gender\": 0, \"id\": 1376892, \"job\": \"Art Department Coordinator\", \"name\": \"Rebecca Jellie\"}, {\"credit_id\": \"544919ba0e0a26748f001b42\", \"department\": \"Art\", \"gender\": 0, \"id\": 1376893, \"job\": \"Set Designer\", \"name\": \"Robert Andrew Johnson\"}, {\"credit_id\": \"54491b1dc3a3680faa001b8c\", \"department\": \"Art\", \"gender\": 0, \"id\": 1376895, \"job\": \"Assistant Art Director\", \"name\": \"Mike Stassi\"}, {\"credit_id\": \"54491b79c3a3680fbb001826\", \"department\": \"Art\", \"gender\": 0, \"id\": 1376897, \"job\": \"Construction Coordinator\", \"name\": \"John Villarino\"}, {\"credit_id\": \"54491baec3a3680fb4001ce6\", \"department\": \"Art\", \"gender\": 2, \"id\": 1376898, \"job\": \"Assistant Art Director\", \"name\": \"Jeffrey Wisniewski\"}, {\"credit_id\": \"54491d2fc3a3680fb4001d07\", \"department\": \"Editing\", \"gender\": 0, \"id\": 1376899, \"job\": \"Dialogue Editor\", \"name\": \"Cheryl Nardi\"}, {\"credit_id\": \"54491d86c3a3680fa5001b2f\", \"department\": \"Editing\", \"gender\": 0, \"id\": 1376901, \"job\": \"Dialogue Editor\", \"name\": \"Marshall Winn\"}, {\"credit_id\": \"54491d9dc3a3680faa001bb0\", \"department\": \"Sound\", \"gender\": 0, \"id\": 1376902, \"job\": \"Supervising Sound Editor\", \"name\": \"Gwendolyn Yates Whittle\"}, {\"credit_id\": \"54491dc10e0a267486001bce\", \"department\": \"Sound\", \"gender\": 0, \"id\": 1376903, \"job\": \"Sound Re-Recording Mixer\", \"name\": \"William Stein\"}, {\"credit_id\": \"54491f500e0a26747c001c07\", \"department\": \"Crew\", \"gender\": 0, \"id\": 1376909, \"job\": \"Choreographer\", \"name\": \"Lula Washington\"}, {\"credit_id\": \"549599239251412c4e002a2e\", \"department\": \"Visual Effects\", \"gender\": 0, \"id\": 1391692, \"job\": \"Visual Effects Producer\", \"name\": \"Chris Del Conte\"}, {\"credit_id\": \"54959d54c3a36831b8001d9a\", \"department\": \"Visual Effects\", \"gender\": 2, \"id\": 1391695, \"job\": \"Visual Effects Supervisor\", \"name\": \"R. Christopher White\"}, {\"credit_id\": \"54959bdf9251412c4e002a66\", \"department\": \"Visual Effects\", \"gender\": 0, \"id\": 1394070, \"job\": \"Visual Effects Supervisor\", \"name\": \"Dan Lemmon\"}, {\"credit_id\": \"5495971d92514132ed002922\", \"department\": \"Sound\", \"gender\": 0, \"id\": 1394129, \"job\": \"Sound Effects Editor\", \"name\": \"Tim Nielsen\"}, {\"credit_id\": \"5592b25792514152cc0011aa\", \"department\": \"Crew\", \"gender\": 0, \"id\": 1394286, \"job\": \"CG Supervisor\", \"name\": \"Michael Mulholland\"}, {\"credit_id\": \"54959a329251416e2b004355\", \"department\": \"Crew\", \"gender\": 0, \"id\": 1394750, \"job\": \"Visual Effects Editor\", \"name\": \"Thomas Nittmann\"}, {\"credit_id\": \"54959d6dc3a3686ae9004401\", \"department\": \"Visual Effects\", \"gender\": 0, \"id\": 1394755, \"job\": \"Visual Effects Supervisor\", \"name\": \"Edson Williams\"}, {\"credit_id\": \"5495a08fc3a3686ae300441c\", \"department\": \"Editing\", \"gender\": 0, \"id\": 1394953, \"job\": \"Digital Intermediate\", \"name\": \"Christine Carr\"}, {\"credit_id\": \"55402d659251413d6d000249\", \"department\": \"Visual Effects\", \"gender\": 0, \"id\": 1395269, \"job\": \"Visual Effects Supervisor\", \"name\": \"John Bruno\"}, {\"credit_id\": \"54959e7b9251416e1e003f3e\", \"department\": \"Camera\", \"gender\": 0, \"id\": 1398970, \"job\": \"Steadicam Operator\", \"name\": \"David Emmerichs\"}, {\"credit_id\": \"54959734c3a3686ae10045e0\", \"department\": \"Sound\", \"gender\": 0, \"id\": 1400906, \"job\": \"Sound Effects Editor\", \"name\": \"Christopher Scarabosio\"}, {\"credit_id\": \"549595dd92514130fc002d79\", \"department\": \"Production\", \"gender\": 0, \"id\": 1401784, \"job\": \"Production Supervisor\", \"name\": \"Jennifer Teves\"}, {\"credit_id\": \"549596009251413af70028cc\", \"department\": \"Production\", \"gender\": 0, \"id\": 1401785, \"job\": \"Production Manager\", \"name\": \"Brigitte Yorke\"}, {\"credit_id\": \"549596e892514130fc002d99\", \"department\": \"Sound\", \"gender\": 0, \"id\": 1401786, \"job\": \"Sound Effects Editor\", \"name\": \"Ken Fischer\"}, {\"credit_id\": \"549598229251412c4e002a1c\", \"department\": \"Crew\", \"gender\": 0, \"id\": 1401787, \"job\": \"Special Effects Coordinator\", \"name\": \"Iain Hutton\"}, {\"credit_id\": \"549598349251416e2b00432b\", \"department\": \"Crew\", \"gender\": 0, \"id\": 1401788, \"job\": \"Special Effects Coordinator\", \"name\": \"Steve Ingram\"}, {\"credit_id\": \"54959905c3a3686ae3004324\", \"department\": \"Visual Effects\", \"gender\": 0, \"id\": 1401789, \"job\": \"Visual Effects Producer\", \"name\": \"Joyce Cox\"}, {\"credit_id\": \"5495994b92514132ed002951\", \"department\": \"Visual Effects\", \"gender\": 0, \"id\": 1401790, \"job\": \"Visual Effects Producer\", \"name\": \"Jenny Foster\"}, {\"credit_id\": \"549599cbc3a3686ae1004613\", \"department\": \"Crew\", \"gender\": 0, \"id\": 1401791, \"job\": \"Visual Effects Editor\", \"name\": \"Christopher Marino\"}, {\"credit_id\": \"549599f2c3a3686ae100461e\", \"department\": \"Crew\", \"gender\": 0, \"id\": 1401792, \"job\": \"Visual Effects Editor\", \"name\": \"Jim Milton\"}, {\"credit_id\": \"54959a51c3a3686af3003eb5\", \"department\": \"Visual Effects\", \"gender\": 0, \"id\": 1401793, \"job\": \"Visual Effects Producer\", \"name\": \"Cyndi Ochs\"}, {\"credit_id\": \"54959a7cc3a36811530026f4\", \"department\": \"Crew\", \"gender\": 0, \"id\": 1401794, \"job\": \"Visual Effects Editor\", \"name\": \"Lucas Putnam\"}, {\"credit_id\": \"54959b91c3a3680ff5002cb4\", \"department\": \"Visual Effects\", \"gender\": 0, \"id\": 1401795, \"job\": \"Visual Effects Supervisor\", \"name\": \"Anthony \\'Max\\' Ivins\"}, {\"credit_id\": \"54959bb69251412c4e002a5f\", \"department\": \"Visual Effects\", \"gender\": 0, \"id\": 1401796, \"job\": \"Visual Effects Supervisor\", \"name\": \"John Knoll\"}, {\"credit_id\": \"54959cbbc3a3686ae3004391\", \"department\": \"Visual Effects\", \"gender\": 2, \"id\": 1401799, \"job\": \"Visual Effects Supervisor\", \"name\": \"Eric Saindon\"}, {\"credit_id\": \"54959d06c3a3686ae90043f6\", \"department\": \"Visual Effects\", \"gender\": 0, \"id\": 1401800, \"job\": \"Visual Effects Supervisor\", \"name\": \"Wayne Stables\"}, {\"credit_id\": \"54959d259251416e1e003f11\", \"department\": \"Visual Effects\", \"gender\": 0, \"id\": 1401801, \"job\": \"Visual Effects Supervisor\", \"name\": \"David Stinnett\"}, {\"credit_id\": \"54959db49251413af7002975\", \"department\": \"Visual Effects\", \"gender\": 0, \"id\": 1401803, \"job\": \"Visual Effects Supervisor\", \"name\": \"Guy Williams\"}, {\"credit_id\": \"54959de4c3a3681153002750\", \"department\": \"Crew\", \"gender\": 0, \"id\": 1401804, \"job\": \"Stunt Coordinator\", \"name\": \"Stuart Thorp\"}, {\"credit_id\": \"54959ef2c3a3680fc60027f2\", \"department\": \"Lighting\", \"gender\": 0, \"id\": 1401805, \"job\": \"Best Boy Electric\", \"name\": \"Giles Coburn\"}, {\"credit_id\": \"54959f07c3a3680fc60027f9\", \"department\": \"Camera\", \"gender\": 2, \"id\": 1401806, \"job\": \"Still Photographer\", \"name\": \"Mark Fellman\"}, {\"credit_id\": \"54959f47c3a3681153002774\", \"department\": \"Lighting\", \"gender\": 0, \"id\": 1401807, \"job\": \"Lighting Technician\", \"name\": \"Scott Sprague\"}, {\"credit_id\": \"54959f8cc3a36831b8001df2\", \"department\": \"Visual Effects\", \"gender\": 0, \"id\": 1401808, \"job\": \"Animation Director\", \"name\": \"Jeremy Hollobon\"}, {\"credit_id\": \"54959fa0c3a36831b8001dfb\", \"department\": \"Visual Effects\", \"gender\": 0, \"id\": 1401809, \"job\": \"Animation Director\", \"name\": \"Orlando Meunier\"}, {\"credit_id\": \"54959fb6c3a3686af3003f54\", \"department\": \"Visual Effects\", \"gender\": 0, \"id\": 1401810, \"job\": \"Animation Director\", \"name\": \"Taisuke Tanimura\"}, {\"credit_id\": \"54959fd2c3a36831b8001e02\", \"department\": \"Costume & Make-Up\", \"gender\": 0, \"id\": 1401812, \"job\": \"Set Costumer\", \"name\": \"Lilia Mishel Acevedo\"}, {\"credit_id\": \"54959ff9c3a3686ae300440c\", \"department\": \"Costume & Make-Up\", \"gender\": 0, \"id\": 1401814, \"job\": \"Set Costumer\", \"name\": \"Alejandro M. Hernandez\"}, {\"credit_id\": \"5495a0ddc3a3686ae10046fe\", \"department\": \"Editing\", \"gender\": 0, \"id\": 1401815, \"job\": \"Digital Intermediate\", \"name\": \"Marvin Hall\"}, {\"credit_id\": \"5495a1f7c3a3686ae3004443\", \"department\": \"Production\", \"gender\": 0, \"id\": 1401816, \"job\": \"Publicist\", \"name\": \"Judy Alley\"}, {\"credit_id\": \"5592b29fc3a36869d100002f\", \"department\": \"Crew\", \"gender\": 0, \"id\": 1418381, \"job\": \"CG Supervisor\", \"name\": \"Mike Perry\"}, {\"credit_id\": \"5592b23a9251415df8001081\", \"department\": \"Crew\", \"gender\": 0, \"id\": 1426854, \"job\": \"CG Supervisor\", \"name\": \"Andrew Morley\"}, {\"credit_id\": \"55491e1192514104c40002d8\", \"department\": \"Art\", \"gender\": 0, \"id\": 1438901, \"job\": \"Conceptual Design\", \"name\": \"Seth Engstrom\"}, {\"credit_id\": \"5525d5809251417276002b06\", \"department\": \"Crew\", \"gender\": 0, \"id\": 1447362, \"job\": \"Visual Effects Art Director\", \"name\": \"Eric Oliver\"}, {\"credit_id\": \"554427ca925141586500312a\", \"department\": \"Visual Effects\", \"gender\": 0, \"id\": 1447503, \"job\": \"Modeling\", \"name\": \"Matsune Suzuki\"}, {\"credit_id\": \"551906889251415aab001c88\", \"department\": \"Art\", \"gender\": 0, \"id\": 1447524, \"job\": \"Art Department Manager\", \"name\": \"Paul Tobin\"}, {\"credit_id\": \"5592af8492514152cc0010de\", \"department\": \"Costume & Make-Up\", \"gender\": 0, \"id\": 1452643, \"job\": \"Hairstylist\", \"name\": \"Roxane Griffin\"}, {\"credit_id\": \"553d3c109251415852001318\", \"department\": \"Lighting\", \"gender\": 0, \"id\": 1453938, \"job\": \"Lighting Artist\", \"name\": \"Arun Ram-Mohan\"}, {\"credit_id\": \"5592af4692514152d5001355\", \"department\": \"Costume & Make-Up\", \"gender\": 0, \"id\": 1457305, \"job\": \"Makeup Artist\", \"name\": \"Georgia Lockhart-Adams\"}, {\"credit_id\": \"5592b2eac3a36877470012a5\", \"department\": \"Crew\", \"gender\": 0, \"id\": 1466035, \"job\": \"CG Supervisor\", \"name\": \"Thrain Shadbolt\"}, {\"credit_id\": \"5592b032c3a36877450015f1\", \"department\": \"Crew\", \"gender\": 0, \"id\": 1483220, \"job\": \"CG Supervisor\", \"name\": \"Brad Alexander\"}, {\"credit_id\": \"5592b05592514152d80012f6\", \"department\": \"Crew\", \"gender\": 0, \"id\": 1483221, \"job\": \"CG Supervisor\", \"name\": \"Shadi Almassizadeh\"}, {\"credit_id\": \"5592b090c3a36877570010b5\", \"department\": \"Crew\", \"gender\": 0, \"id\": 1483222, \"job\": \"CG Supervisor\", \"name\": \"Simon Clutterbuck\"}, {\"credit_id\": \"5592b0dbc3a368774b00112c\", \"department\": \"Crew\", \"gender\": 0, \"id\": 1483223, \"job\": \"CG Supervisor\", \"name\": \"Graeme Demmocks\"}, {\"credit_id\": \"5592b0fe92514152db0010c1\", \"department\": \"Crew\", \"gender\": 0, \"id\": 1483224, \"job\": \"CG Supervisor\", \"name\": \"Adrian Fernandes\"}, {\"credit_id\": \"5592b11f9251415df8001059\", \"department\": \"Crew\", \"gender\": 0, \"id\": 1483225, \"job\": \"CG Supervisor\", \"name\": \"Mitch Gates\"}, {\"credit_id\": \"5592b15dc3a3687745001645\", \"department\": \"Crew\", \"gender\": 0, \"id\": 1483226, \"job\": \"CG Supervisor\", \"name\": \"Jerry Kung\"}, {\"credit_id\": \"5592b18e925141645a0004ae\", \"department\": \"Crew\", \"gender\": 0, \"id\": 1483227, \"job\": \"CG Supervisor\", \"name\": \"Andy Lomas\"}, {\"credit_id\": \"5592b1bfc3a368775d0010e7\", \"department\": \"Crew\", \"gender\": 0, \"id\": 1483228, \"job\": \"CG Supervisor\", \"name\": \"Sebastian Marino\"}, {\"credit_id\": \"5592b2049251415df8001078\", \"department\": \"Crew\", \"gender\": 0, \"id\": 1483229, \"job\": \"CG Supervisor\", \"name\": \"Matthias Menz\"}, {\"credit_id\": \"5592b27b92514152d800136a\", \"department\": \"Crew\", \"gender\": 0, \"id\": 1483230, \"job\": \"CG Supervisor\", \"name\": \"Sergei Nevshupov\"}, {\"credit_id\": \"5592b2c3c3a36869e800003c\", \"department\": \"Crew\", \"gender\": 0, \"id\": 1483231, \"job\": \"CG Supervisor\", \"name\": \"Philippe Rebours\"}, {\"credit_id\": \"5592b317c3a36877470012af\", \"department\": \"Crew\", \"gender\": 0, \"id\": 1483232, \"job\": \"CG Supervisor\", \"name\": \"Michael Takarangi\"}, {\"credit_id\": \"5592b345c3a36877470012bb\", \"department\": \"Crew\", \"gender\": 0, \"id\": 1483233, \"job\": \"CG Supervisor\", \"name\": \"David Weitzberg\"}, {\"credit_id\": \"5592b37cc3a368775100113b\", \"department\": \"Crew\", \"gender\": 0, \"id\": 1483234, \"job\": \"CG Supervisor\", \"name\": \"Ben White\"}, {\"credit_id\": \"573c8e2f9251413f5d000094\", \"department\": \"Crew\", \"gender\": 1, \"id\": 1621932, \"job\": \"Stunts\", \"name\": \"Min Windle\"}]'"
      ]
     },
     "execution_count": 29,
     "metadata": {},
     "output_type": "execute_result"
    }
   ],
   "source": [
    "movies['crew'][0]"
   ]
  },
  {
   "cell_type": "code",
   "execution_count": 30,
   "id": "7abc8b27",
   "metadata": {
    "execution": {
     "iopub.execute_input": "2023-10-18T17:04:11.437516Z",
     "iopub.status.busy": "2023-10-18T17:04:11.437171Z",
     "iopub.status.idle": "2023-10-18T17:04:11.443333Z",
     "shell.execute_reply": "2023-10-18T17:04:11.442390Z"
    },
    "papermill": {
     "duration": 0.022457,
     "end_time": "2023-10-18T17:04:11.445295",
     "exception": false,
     "start_time": "2023-10-18T17:04:11.422838",
     "status": "completed"
    },
    "tags": []
   },
   "outputs": [],
   "source": [
    "def fetch_director(obj):\n",
    "    L = []\n",
    "    for i in ast.literal_eval(obj):\n",
    "        if i['job']=='Director':\n",
    "            L.append(i['name'])\n",
    "            break\n",
    "    return L"
   ]
  },
  {
   "cell_type": "code",
   "execution_count": 31,
   "id": "e548892b",
   "metadata": {
    "execution": {
     "iopub.execute_input": "2023-10-18T17:04:11.473112Z",
     "iopub.status.busy": "2023-10-18T17:04:11.472812Z",
     "iopub.status.idle": "2023-10-18T17:04:15.036772Z",
     "shell.execute_reply": "2023-10-18T17:04:15.035741Z"
    },
    "papermill": {
     "duration": 3.580195,
     "end_time": "2023-10-18T17:04:15.038969",
     "exception": false,
     "start_time": "2023-10-18T17:04:11.458774",
     "status": "completed"
    },
    "tags": []
   },
   "outputs": [],
   "source": [
    "movies['crew'] = movies['crew'].apply(fetch_director)"
   ]
  },
  {
   "cell_type": "code",
   "execution_count": 32,
   "id": "b3c3e4fa",
   "metadata": {
    "execution": {
     "iopub.execute_input": "2023-10-18T17:04:15.068058Z",
     "iopub.status.busy": "2023-10-18T17:04:15.067749Z",
     "iopub.status.idle": "2023-10-18T17:04:15.083873Z",
     "shell.execute_reply": "2023-10-18T17:04:15.082837Z"
    },
    "papermill": {
     "duration": 0.033105,
     "end_time": "2023-10-18T17:04:15.085764",
     "exception": false,
     "start_time": "2023-10-18T17:04:15.052659",
     "status": "completed"
    },
    "tags": []
   },
   "outputs": [
    {
     "data": {
      "text/html": [
       "<div>\n",
       "<style scoped>\n",
       "    .dataframe tbody tr th:only-of-type {\n",
       "        vertical-align: middle;\n",
       "    }\n",
       "\n",
       "    .dataframe tbody tr th {\n",
       "        vertical-align: top;\n",
       "    }\n",
       "\n",
       "    .dataframe thead th {\n",
       "        text-align: right;\n",
       "    }\n",
       "</style>\n",
       "<table border=\"1\" class=\"dataframe\">\n",
       "  <thead>\n",
       "    <tr style=\"text-align: right;\">\n",
       "      <th></th>\n",
       "      <th>genres</th>\n",
       "      <th>id</th>\n",
       "      <th>keywords</th>\n",
       "      <th>title</th>\n",
       "      <th>overview</th>\n",
       "      <th>cast</th>\n",
       "      <th>crew</th>\n",
       "    </tr>\n",
       "  </thead>\n",
       "  <tbody>\n",
       "    <tr>\n",
       "      <th>0</th>\n",
       "      <td>[Action, Adventure, Fantasy, Science Fiction]</td>\n",
       "      <td>19995</td>\n",
       "      <td>[culture clash, future, space war, space colon...</td>\n",
       "      <td>Avatar</td>\n",
       "      <td>In the 22nd century, a paraplegic Marine is di...</td>\n",
       "      <td>[Sam Worthington, Zoe Saldana, Sigourney Weaver]</td>\n",
       "      <td>[James Cameron]</td>\n",
       "    </tr>\n",
       "    <tr>\n",
       "      <th>1</th>\n",
       "      <td>[Adventure, Fantasy, Action]</td>\n",
       "      <td>285</td>\n",
       "      <td>[ocean, drug abuse, exotic island, east india ...</td>\n",
       "      <td>Pirates of the Caribbean: At World's End</td>\n",
       "      <td>Captain Barbossa, long believed to be dead, ha...</td>\n",
       "      <td>[Johnny Depp, Orlando Bloom, Keira Knightley]</td>\n",
       "      <td>[Gore Verbinski]</td>\n",
       "    </tr>\n",
       "    <tr>\n",
       "      <th>2</th>\n",
       "      <td>[Action, Adventure, Crime]</td>\n",
       "      <td>206647</td>\n",
       "      <td>[spy, based on novel, secret agent, sequel, mi...</td>\n",
       "      <td>Spectre</td>\n",
       "      <td>A cryptic message from Bond’s past sends him o...</td>\n",
       "      <td>[Daniel Craig, Christoph Waltz, Léa Seydoux]</td>\n",
       "      <td>[Sam Mendes]</td>\n",
       "    </tr>\n",
       "    <tr>\n",
       "      <th>3</th>\n",
       "      <td>[Action, Crime, Drama, Thriller]</td>\n",
       "      <td>49026</td>\n",
       "      <td>[dc comics, crime fighter, terrorist, secret i...</td>\n",
       "      <td>The Dark Knight Rises</td>\n",
       "      <td>Following the death of District Attorney Harve...</td>\n",
       "      <td>[Christian Bale, Michael Caine, Gary Oldman]</td>\n",
       "      <td>[Christopher Nolan]</td>\n",
       "    </tr>\n",
       "    <tr>\n",
       "      <th>4</th>\n",
       "      <td>[Action, Adventure, Science Fiction]</td>\n",
       "      <td>49529</td>\n",
       "      <td>[based on novel, mars, medallion, space travel...</td>\n",
       "      <td>John Carter</td>\n",
       "      <td>John Carter is a war-weary, former military ca...</td>\n",
       "      <td>[Taylor Kitsch, Lynn Collins, Samantha Morton]</td>\n",
       "      <td>[Andrew Stanton]</td>\n",
       "    </tr>\n",
       "  </tbody>\n",
       "</table>\n",
       "</div>"
      ],
      "text/plain": [
       "                                          genres      id  \\\n",
       "0  [Action, Adventure, Fantasy, Science Fiction]   19995   \n",
       "1                   [Adventure, Fantasy, Action]     285   \n",
       "2                     [Action, Adventure, Crime]  206647   \n",
       "3               [Action, Crime, Drama, Thriller]   49026   \n",
       "4           [Action, Adventure, Science Fiction]   49529   \n",
       "\n",
       "                                            keywords  \\\n",
       "0  [culture clash, future, space war, space colon...   \n",
       "1  [ocean, drug abuse, exotic island, east india ...   \n",
       "2  [spy, based on novel, secret agent, sequel, mi...   \n",
       "3  [dc comics, crime fighter, terrorist, secret i...   \n",
       "4  [based on novel, mars, medallion, space travel...   \n",
       "\n",
       "                                      title  \\\n",
       "0                                    Avatar   \n",
       "1  Pirates of the Caribbean: At World's End   \n",
       "2                                   Spectre   \n",
       "3                     The Dark Knight Rises   \n",
       "4                               John Carter   \n",
       "\n",
       "                                            overview  \\\n",
       "0  In the 22nd century, a paraplegic Marine is di...   \n",
       "1  Captain Barbossa, long believed to be dead, ha...   \n",
       "2  A cryptic message from Bond’s past sends him o...   \n",
       "3  Following the death of District Attorney Harve...   \n",
       "4  John Carter is a war-weary, former military ca...   \n",
       "\n",
       "                                               cast                 crew  \n",
       "0  [Sam Worthington, Zoe Saldana, Sigourney Weaver]      [James Cameron]  \n",
       "1     [Johnny Depp, Orlando Bloom, Keira Knightley]     [Gore Verbinski]  \n",
       "2      [Daniel Craig, Christoph Waltz, Léa Seydoux]         [Sam Mendes]  \n",
       "3      [Christian Bale, Michael Caine, Gary Oldman]  [Christopher Nolan]  \n",
       "4    [Taylor Kitsch, Lynn Collins, Samantha Morton]     [Andrew Stanton]  "
      ]
     },
     "execution_count": 32,
     "metadata": {},
     "output_type": "execute_result"
    }
   ],
   "source": [
    "movies.head()"
   ]
  },
  {
   "cell_type": "code",
   "execution_count": 33,
   "id": "9a0b9c9a",
   "metadata": {
    "execution": {
     "iopub.execute_input": "2023-10-18T17:04:15.115328Z",
     "iopub.status.busy": "2023-10-18T17:04:15.114738Z",
     "iopub.status.idle": "2023-10-18T17:04:15.151754Z",
     "shell.execute_reply": "2023-10-18T17:04:15.150208Z"
    },
    "papermill": {
     "duration": 0.054586,
     "end_time": "2023-10-18T17:04:15.154203",
     "exception": false,
     "start_time": "2023-10-18T17:04:15.099617",
     "status": "completed"
    },
    "tags": []
   },
   "outputs": [],
   "source": [
    "# Converting overview (string) into List\n",
    "movies['overview'] = movies['overview'].apply(lambda x:x.split())"
   ]
  },
  {
   "cell_type": "code",
   "execution_count": 34,
   "id": "fb7f3f47",
   "metadata": {
    "execution": {
     "iopub.execute_input": "2023-10-18T17:04:15.183058Z",
     "iopub.status.busy": "2023-10-18T17:04:15.182554Z",
     "iopub.status.idle": "2023-10-18T17:04:15.296730Z",
     "shell.execute_reply": "2023-10-18T17:04:15.295403Z"
    },
    "papermill": {
     "duration": 0.131224,
     "end_time": "2023-10-18T17:04:15.299081",
     "exception": false,
     "start_time": "2023-10-18T17:04:15.167857",
     "status": "completed"
    },
    "tags": []
   },
   "outputs": [],
   "source": [
    "# Removing spaces between words\n",
    "movies['genres'] = movies['genres'].apply(lambda x: [i.replace(\" \",\"\") for i in x])\n",
    "movies['keywords'] = movies['keywords'].apply(lambda x: [i.replace(\" \",\"\") for i in x])\n",
    "movies['cast'] = movies['cast'].apply(lambda x: [i.replace(\" \",\"\") for i in x])\n",
    "movies['crew'] = movies['crew'].apply(lambda x: [i.replace(\" \",\"\") for i in x])"
   ]
  },
  {
   "cell_type": "code",
   "execution_count": 35,
   "id": "0251acf4",
   "metadata": {
    "execution": {
     "iopub.execute_input": "2023-10-18T17:04:15.327816Z",
     "iopub.status.busy": "2023-10-18T17:04:15.327497Z",
     "iopub.status.idle": "2023-10-18T17:04:15.345532Z",
     "shell.execute_reply": "2023-10-18T17:04:15.344522Z"
    },
    "papermill": {
     "duration": 0.034261,
     "end_time": "2023-10-18T17:04:15.347299",
     "exception": false,
     "start_time": "2023-10-18T17:04:15.313038",
     "status": "completed"
    },
    "tags": []
   },
   "outputs": [
    {
     "data": {
      "text/html": [
       "<div>\n",
       "<style scoped>\n",
       "    .dataframe tbody tr th:only-of-type {\n",
       "        vertical-align: middle;\n",
       "    }\n",
       "\n",
       "    .dataframe tbody tr th {\n",
       "        vertical-align: top;\n",
       "    }\n",
       "\n",
       "    .dataframe thead th {\n",
       "        text-align: right;\n",
       "    }\n",
       "</style>\n",
       "<table border=\"1\" class=\"dataframe\">\n",
       "  <thead>\n",
       "    <tr style=\"text-align: right;\">\n",
       "      <th></th>\n",
       "      <th>genres</th>\n",
       "      <th>id</th>\n",
       "      <th>keywords</th>\n",
       "      <th>title</th>\n",
       "      <th>overview</th>\n",
       "      <th>cast</th>\n",
       "      <th>crew</th>\n",
       "    </tr>\n",
       "  </thead>\n",
       "  <tbody>\n",
       "    <tr>\n",
       "      <th>0</th>\n",
       "      <td>[Action, Adventure, Fantasy, ScienceFiction]</td>\n",
       "      <td>19995</td>\n",
       "      <td>[cultureclash, future, spacewar, spacecolony, ...</td>\n",
       "      <td>Avatar</td>\n",
       "      <td>[In, the, 22nd, century,, a, paraplegic, Marin...</td>\n",
       "      <td>[SamWorthington, ZoeSaldana, SigourneyWeaver]</td>\n",
       "      <td>[JamesCameron]</td>\n",
       "    </tr>\n",
       "    <tr>\n",
       "      <th>1</th>\n",
       "      <td>[Adventure, Fantasy, Action]</td>\n",
       "      <td>285</td>\n",
       "      <td>[ocean, drugabuse, exoticisland, eastindiatrad...</td>\n",
       "      <td>Pirates of the Caribbean: At World's End</td>\n",
       "      <td>[Captain, Barbossa,, long, believed, to, be, d...</td>\n",
       "      <td>[JohnnyDepp, OrlandoBloom, KeiraKnightley]</td>\n",
       "      <td>[GoreVerbinski]</td>\n",
       "    </tr>\n",
       "    <tr>\n",
       "      <th>2</th>\n",
       "      <td>[Action, Adventure, Crime]</td>\n",
       "      <td>206647</td>\n",
       "      <td>[spy, basedonnovel, secretagent, sequel, mi6, ...</td>\n",
       "      <td>Spectre</td>\n",
       "      <td>[A, cryptic, message, from, Bond’s, past, send...</td>\n",
       "      <td>[DanielCraig, ChristophWaltz, LéaSeydoux]</td>\n",
       "      <td>[SamMendes]</td>\n",
       "    </tr>\n",
       "    <tr>\n",
       "      <th>3</th>\n",
       "      <td>[Action, Crime, Drama, Thriller]</td>\n",
       "      <td>49026</td>\n",
       "      <td>[dccomics, crimefighter, terrorist, secretiden...</td>\n",
       "      <td>The Dark Knight Rises</td>\n",
       "      <td>[Following, the, death, of, District, Attorney...</td>\n",
       "      <td>[ChristianBale, MichaelCaine, GaryOldman]</td>\n",
       "      <td>[ChristopherNolan]</td>\n",
       "    </tr>\n",
       "    <tr>\n",
       "      <th>4</th>\n",
       "      <td>[Action, Adventure, ScienceFiction]</td>\n",
       "      <td>49529</td>\n",
       "      <td>[basedonnovel, mars, medallion, spacetravel, p...</td>\n",
       "      <td>John Carter</td>\n",
       "      <td>[John, Carter, is, a, war-weary,, former, mili...</td>\n",
       "      <td>[TaylorKitsch, LynnCollins, SamanthaMorton]</td>\n",
       "      <td>[AndrewStanton]</td>\n",
       "    </tr>\n",
       "  </tbody>\n",
       "</table>\n",
       "</div>"
      ],
      "text/plain": [
       "                                         genres      id  \\\n",
       "0  [Action, Adventure, Fantasy, ScienceFiction]   19995   \n",
       "1                  [Adventure, Fantasy, Action]     285   \n",
       "2                    [Action, Adventure, Crime]  206647   \n",
       "3              [Action, Crime, Drama, Thriller]   49026   \n",
       "4           [Action, Adventure, ScienceFiction]   49529   \n",
       "\n",
       "                                            keywords  \\\n",
       "0  [cultureclash, future, spacewar, spacecolony, ...   \n",
       "1  [ocean, drugabuse, exoticisland, eastindiatrad...   \n",
       "2  [spy, basedonnovel, secretagent, sequel, mi6, ...   \n",
       "3  [dccomics, crimefighter, terrorist, secretiden...   \n",
       "4  [basedonnovel, mars, medallion, spacetravel, p...   \n",
       "\n",
       "                                      title  \\\n",
       "0                                    Avatar   \n",
       "1  Pirates of the Caribbean: At World's End   \n",
       "2                                   Spectre   \n",
       "3                     The Dark Knight Rises   \n",
       "4                               John Carter   \n",
       "\n",
       "                                            overview  \\\n",
       "0  [In, the, 22nd, century,, a, paraplegic, Marin...   \n",
       "1  [Captain, Barbossa,, long, believed, to, be, d...   \n",
       "2  [A, cryptic, message, from, Bond’s, past, send...   \n",
       "3  [Following, the, death, of, District, Attorney...   \n",
       "4  [John, Carter, is, a, war-weary,, former, mili...   \n",
       "\n",
       "                                            cast                crew  \n",
       "0  [SamWorthington, ZoeSaldana, SigourneyWeaver]      [JamesCameron]  \n",
       "1     [JohnnyDepp, OrlandoBloom, KeiraKnightley]     [GoreVerbinski]  \n",
       "2      [DanielCraig, ChristophWaltz, LéaSeydoux]         [SamMendes]  \n",
       "3      [ChristianBale, MichaelCaine, GaryOldman]  [ChristopherNolan]  \n",
       "4    [TaylorKitsch, LynnCollins, SamanthaMorton]     [AndrewStanton]  "
      ]
     },
     "execution_count": 35,
     "metadata": {},
     "output_type": "execute_result"
    }
   ],
   "source": [
    "movies.head()"
   ]
  },
  {
   "cell_type": "code",
   "execution_count": 36,
   "id": "9532b015",
   "metadata": {
    "execution": {
     "iopub.execute_input": "2023-10-18T17:04:15.376462Z",
     "iopub.status.busy": "2023-10-18T17:04:15.376126Z",
     "iopub.status.idle": "2023-10-18T17:04:15.424400Z",
     "shell.execute_reply": "2023-10-18T17:04:15.423434Z"
    },
    "papermill": {
     "duration": 0.064983,
     "end_time": "2023-10-18T17:04:15.426308",
     "exception": false,
     "start_time": "2023-10-18T17:04:15.361325",
     "status": "completed"
    },
    "tags": []
   },
   "outputs": [],
   "source": [
    "movies['tags'] = movies['overview'] + movies['genres'] + movies['keywords'] + movies['cast'] + movies['crew']"
   ]
  },
  {
   "cell_type": "code",
   "execution_count": 37,
   "id": "02d2eb3a",
   "metadata": {
    "execution": {
     "iopub.execute_input": "2023-10-18T17:04:15.455873Z",
     "iopub.status.busy": "2023-10-18T17:04:15.455548Z",
     "iopub.status.idle": "2023-10-18T17:04:15.460891Z",
     "shell.execute_reply": "2023-10-18T17:04:15.459787Z"
    },
    "papermill": {
     "duration": 0.022262,
     "end_time": "2023-10-18T17:04:15.462696",
     "exception": false,
     "start_time": "2023-10-18T17:04:15.440434",
     "status": "completed"
    },
    "tags": []
   },
   "outputs": [],
   "source": [
    "new_df = movies[['id','title','tags']]"
   ]
  },
  {
   "cell_type": "code",
   "execution_count": 38,
   "id": "a0db5083",
   "metadata": {
    "execution": {
     "iopub.execute_input": "2023-10-18T17:04:15.491715Z",
     "iopub.status.busy": "2023-10-18T17:04:15.491331Z",
     "iopub.status.idle": "2023-10-18T17:04:15.506259Z",
     "shell.execute_reply": "2023-10-18T17:04:15.505419Z"
    },
    "papermill": {
     "duration": 0.031597,
     "end_time": "2023-10-18T17:04:15.508008",
     "exception": false,
     "start_time": "2023-10-18T17:04:15.476411",
     "status": "completed"
    },
    "tags": []
   },
   "outputs": [
    {
     "data": {
      "text/html": [
       "<div>\n",
       "<style scoped>\n",
       "    .dataframe tbody tr th:only-of-type {\n",
       "        vertical-align: middle;\n",
       "    }\n",
       "\n",
       "    .dataframe tbody tr th {\n",
       "        vertical-align: top;\n",
       "    }\n",
       "\n",
       "    .dataframe thead th {\n",
       "        text-align: right;\n",
       "    }\n",
       "</style>\n",
       "<table border=\"1\" class=\"dataframe\">\n",
       "  <thead>\n",
       "    <tr style=\"text-align: right;\">\n",
       "      <th></th>\n",
       "      <th>id</th>\n",
       "      <th>title</th>\n",
       "      <th>tags</th>\n",
       "    </tr>\n",
       "  </thead>\n",
       "  <tbody>\n",
       "    <tr>\n",
       "      <th>0</th>\n",
       "      <td>19995</td>\n",
       "      <td>Avatar</td>\n",
       "      <td>[In, the, 22nd, century,, a, paraplegic, Marin...</td>\n",
       "    </tr>\n",
       "    <tr>\n",
       "      <th>1</th>\n",
       "      <td>285</td>\n",
       "      <td>Pirates of the Caribbean: At World's End</td>\n",
       "      <td>[Captain, Barbossa,, long, believed, to, be, d...</td>\n",
       "    </tr>\n",
       "    <tr>\n",
       "      <th>2</th>\n",
       "      <td>206647</td>\n",
       "      <td>Spectre</td>\n",
       "      <td>[A, cryptic, message, from, Bond’s, past, send...</td>\n",
       "    </tr>\n",
       "    <tr>\n",
       "      <th>3</th>\n",
       "      <td>49026</td>\n",
       "      <td>The Dark Knight Rises</td>\n",
       "      <td>[Following, the, death, of, District, Attorney...</td>\n",
       "    </tr>\n",
       "    <tr>\n",
       "      <th>4</th>\n",
       "      <td>49529</td>\n",
       "      <td>John Carter</td>\n",
       "      <td>[John, Carter, is, a, war-weary,, former, mili...</td>\n",
       "    </tr>\n",
       "    <tr>\n",
       "      <th>...</th>\n",
       "      <td>...</td>\n",
       "      <td>...</td>\n",
       "      <td>...</td>\n",
       "    </tr>\n",
       "    <tr>\n",
       "      <th>4804</th>\n",
       "      <td>9367</td>\n",
       "      <td>El Mariachi</td>\n",
       "      <td>[El, Mariachi, just, wants, to, play, his, gui...</td>\n",
       "    </tr>\n",
       "    <tr>\n",
       "      <th>4805</th>\n",
       "      <td>72766</td>\n",
       "      <td>Newlyweds</td>\n",
       "      <td>[A, newlywed, couple's, honeymoon, is, upended...</td>\n",
       "    </tr>\n",
       "    <tr>\n",
       "      <th>4806</th>\n",
       "      <td>231617</td>\n",
       "      <td>Signed, Sealed, Delivered</td>\n",
       "      <td>[\"Signed,, Sealed,, Delivered\", introduces, a,...</td>\n",
       "    </tr>\n",
       "    <tr>\n",
       "      <th>4807</th>\n",
       "      <td>126186</td>\n",
       "      <td>Shanghai Calling</td>\n",
       "      <td>[When, ambitious, New, York, attorney, Sam, is...</td>\n",
       "    </tr>\n",
       "    <tr>\n",
       "      <th>4808</th>\n",
       "      <td>25975</td>\n",
       "      <td>My Date with Drew</td>\n",
       "      <td>[Ever, since, the, second, grade, when, he, fi...</td>\n",
       "    </tr>\n",
       "  </tbody>\n",
       "</table>\n",
       "<p>4806 rows × 3 columns</p>\n",
       "</div>"
      ],
      "text/plain": [
       "          id                                     title  \\\n",
       "0      19995                                    Avatar   \n",
       "1        285  Pirates of the Caribbean: At World's End   \n",
       "2     206647                                   Spectre   \n",
       "3      49026                     The Dark Knight Rises   \n",
       "4      49529                               John Carter   \n",
       "...      ...                                       ...   \n",
       "4804    9367                               El Mariachi   \n",
       "4805   72766                                 Newlyweds   \n",
       "4806  231617                 Signed, Sealed, Delivered   \n",
       "4807  126186                          Shanghai Calling   \n",
       "4808   25975                         My Date with Drew   \n",
       "\n",
       "                                                   tags  \n",
       "0     [In, the, 22nd, century,, a, paraplegic, Marin...  \n",
       "1     [Captain, Barbossa,, long, believed, to, be, d...  \n",
       "2     [A, cryptic, message, from, Bond’s, past, send...  \n",
       "3     [Following, the, death, of, District, Attorney...  \n",
       "4     [John, Carter, is, a, war-weary,, former, mili...  \n",
       "...                                                 ...  \n",
       "4804  [El, Mariachi, just, wants, to, play, his, gui...  \n",
       "4805  [A, newlywed, couple's, honeymoon, is, upended...  \n",
       "4806  [\"Signed,, Sealed,, Delivered\", introduces, a,...  \n",
       "4807  [When, ambitious, New, York, attorney, Sam, is...  \n",
       "4808  [Ever, since, the, second, grade, when, he, fi...  \n",
       "\n",
       "[4806 rows x 3 columns]"
      ]
     },
     "execution_count": 38,
     "metadata": {},
     "output_type": "execute_result"
    }
   ],
   "source": [
    "new_df"
   ]
  },
  {
   "cell_type": "code",
   "execution_count": 39,
   "id": "f2ade856",
   "metadata": {
    "execution": {
     "iopub.execute_input": "2023-10-18T17:04:15.538178Z",
     "iopub.status.busy": "2023-10-18T17:04:15.537110Z",
     "iopub.status.idle": "2023-10-18T17:04:15.541563Z",
     "shell.execute_reply": "2023-10-18T17:04:15.540642Z"
    },
    "papermill": {
     "duration": 0.021189,
     "end_time": "2023-10-18T17:04:15.543403",
     "exception": false,
     "start_time": "2023-10-18T17:04:15.522214",
     "status": "completed"
    },
    "tags": []
   },
   "outputs": [],
   "source": [
    "# Converting this list of tags into a string"
   ]
  },
  {
   "cell_type": "code",
   "execution_count": 40,
   "id": "9cee0633",
   "metadata": {
    "execution": {
     "iopub.execute_input": "2023-10-18T17:04:15.572823Z",
     "iopub.status.busy": "2023-10-18T17:04:15.572476Z",
     "iopub.status.idle": "2023-10-18T17:04:15.589747Z",
     "shell.execute_reply": "2023-10-18T17:04:15.588307Z"
    },
    "papermill": {
     "duration": 0.034294,
     "end_time": "2023-10-18T17:04:15.591931",
     "exception": false,
     "start_time": "2023-10-18T17:04:15.557637",
     "status": "completed"
    },
    "tags": []
   },
   "outputs": [
    {
     "name": "stderr",
     "output_type": "stream",
     "text": [
      "C:\\Users\\LENOVO\\AppData\\Local\\Temp\\ipykernel_9804\\3089450492.py:1: SettingWithCopyWarning: \n",
      "A value is trying to be set on a copy of a slice from a DataFrame.\n",
      "Try using .loc[row_indexer,col_indexer] = value instead\n",
      "\n",
      "See the caveats in the documentation: https://pandas.pydata.org/pandas-docs/stable/user_guide/indexing.html#returning-a-view-versus-a-copy\n",
      "  new_df['tags'] = new_df['tags'].apply(lambda x:\" \".join(x))\n"
     ]
    }
   ],
   "source": [
    "new_df['tags'] = new_df['tags'].apply(lambda x:\" \".join(x))"
   ]
  },
  {
   "cell_type": "code",
   "execution_count": 41,
   "id": "8cdf0e26",
   "metadata": {
    "execution": {
     "iopub.execute_input": "2023-10-18T17:04:15.621242Z",
     "iopub.status.busy": "2023-10-18T17:04:15.620911Z",
     "iopub.status.idle": "2023-10-18T17:04:15.627172Z",
     "shell.execute_reply": "2023-10-18T17:04:15.626271Z"
    },
    "papermill": {
     "duration": 0.022894,
     "end_time": "2023-10-18T17:04:15.628995",
     "exception": false,
     "start_time": "2023-10-18T17:04:15.606101",
     "status": "completed"
    },
    "tags": []
   },
   "outputs": [
    {
     "data": {
      "text/plain": [
       "'In the 22nd century, a paraplegic Marine is dispatched to the moon Pandora on a unique mission, but becomes torn between following orders and protecting an alien civilization. Action Adventure Fantasy ScienceFiction cultureclash future spacewar spacecolony society spacetravel futuristic romance space alien tribe alienplanet cgi marine soldier battle loveaffair antiwar powerrelations mindandsoul 3d SamWorthington ZoeSaldana SigourneyWeaver JamesCameron'"
      ]
     },
     "execution_count": 41,
     "metadata": {},
     "output_type": "execute_result"
    }
   ],
   "source": [
    "new_df['tags'][0]"
   ]
  },
  {
   "cell_type": "code",
   "execution_count": 42,
   "id": "5cca967a",
   "metadata": {
    "execution": {
     "iopub.execute_input": "2023-10-18T17:04:15.659267Z",
     "iopub.status.busy": "2023-10-18T17:04:15.658703Z",
     "iopub.status.idle": "2023-10-18T17:04:15.662020Z",
     "shell.execute_reply": "2023-10-18T17:04:15.661396Z"
    },
    "papermill": {
     "duration": 0.020443,
     "end_time": "2023-10-18T17:04:15.663672",
     "exception": false,
     "start_time": "2023-10-18T17:04:15.643229",
     "status": "completed"
    },
    "tags": []
   },
   "outputs": [],
   "source": [
    "# Converting all uppercase letters into lowercase"
   ]
  },
  {
   "cell_type": "code",
   "execution_count": 43,
   "id": "05cdebcc",
   "metadata": {
    "execution": {
     "iopub.execute_input": "2023-10-18T17:04:15.694058Z",
     "iopub.status.busy": "2023-10-18T17:04:15.693450Z",
     "iopub.status.idle": "2023-10-18T17:04:15.708305Z",
     "shell.execute_reply": "2023-10-18T17:04:15.707616Z"
    },
    "papermill": {
     "duration": 0.032213,
     "end_time": "2023-10-18T17:04:15.710370",
     "exception": false,
     "start_time": "2023-10-18T17:04:15.678157",
     "status": "completed"
    },
    "tags": []
   },
   "outputs": [
    {
     "name": "stderr",
     "output_type": "stream",
     "text": [
      "C:\\Users\\LENOVO\\AppData\\Local\\Temp\\ipykernel_9804\\3214958533.py:1: SettingWithCopyWarning: \n",
      "A value is trying to be set on a copy of a slice from a DataFrame.\n",
      "Try using .loc[row_indexer,col_indexer] = value instead\n",
      "\n",
      "See the caveats in the documentation: https://pandas.pydata.org/pandas-docs/stable/user_guide/indexing.html#returning-a-view-versus-a-copy\n",
      "  new_df['tags'] = new_df['tags'].apply(lambda x:x.lower())\n"
     ]
    }
   ],
   "source": [
    "new_df['tags'] = new_df['tags'].apply(lambda x:x.lower())"
   ]
  },
  {
   "cell_type": "code",
   "execution_count": 44,
   "id": "69d00d0b",
   "metadata": {
    "execution": {
     "iopub.execute_input": "2023-10-18T17:04:15.740386Z",
     "iopub.status.busy": "2023-10-18T17:04:15.739781Z",
     "iopub.status.idle": "2023-10-18T17:04:15.748239Z",
     "shell.execute_reply": "2023-10-18T17:04:15.747617Z"
    },
    "papermill": {
     "duration": 0.025146,
     "end_time": "2023-10-18T17:04:15.749845",
     "exception": false,
     "start_time": "2023-10-18T17:04:15.724699",
     "status": "completed"
    },
    "tags": []
   },
   "outputs": [
    {
     "data": {
      "text/html": [
       "<div>\n",
       "<style scoped>\n",
       "    .dataframe tbody tr th:only-of-type {\n",
       "        vertical-align: middle;\n",
       "    }\n",
       "\n",
       "    .dataframe tbody tr th {\n",
       "        vertical-align: top;\n",
       "    }\n",
       "\n",
       "    .dataframe thead th {\n",
       "        text-align: right;\n",
       "    }\n",
       "</style>\n",
       "<table border=\"1\" class=\"dataframe\">\n",
       "  <thead>\n",
       "    <tr style=\"text-align: right;\">\n",
       "      <th></th>\n",
       "      <th>id</th>\n",
       "      <th>title</th>\n",
       "      <th>tags</th>\n",
       "    </tr>\n",
       "  </thead>\n",
       "  <tbody>\n",
       "    <tr>\n",
       "      <th>0</th>\n",
       "      <td>19995</td>\n",
       "      <td>Avatar</td>\n",
       "      <td>in the 22nd century, a paraplegic marine is di...</td>\n",
       "    </tr>\n",
       "    <tr>\n",
       "      <th>1</th>\n",
       "      <td>285</td>\n",
       "      <td>Pirates of the Caribbean: At World's End</td>\n",
       "      <td>captain barbossa, long believed to be dead, ha...</td>\n",
       "    </tr>\n",
       "    <tr>\n",
       "      <th>2</th>\n",
       "      <td>206647</td>\n",
       "      <td>Spectre</td>\n",
       "      <td>a cryptic message from bond’s past sends him o...</td>\n",
       "    </tr>\n",
       "    <tr>\n",
       "      <th>3</th>\n",
       "      <td>49026</td>\n",
       "      <td>The Dark Knight Rises</td>\n",
       "      <td>following the death of district attorney harve...</td>\n",
       "    </tr>\n",
       "    <tr>\n",
       "      <th>4</th>\n",
       "      <td>49529</td>\n",
       "      <td>John Carter</td>\n",
       "      <td>john carter is a war-weary, former military ca...</td>\n",
       "    </tr>\n",
       "  </tbody>\n",
       "</table>\n",
       "</div>"
      ],
      "text/plain": [
       "       id                                     title  \\\n",
       "0   19995                                    Avatar   \n",
       "1     285  Pirates of the Caribbean: At World's End   \n",
       "2  206647                                   Spectre   \n",
       "3   49026                     The Dark Knight Rises   \n",
       "4   49529                               John Carter   \n",
       "\n",
       "                                                tags  \n",
       "0  in the 22nd century, a paraplegic marine is di...  \n",
       "1  captain barbossa, long believed to be dead, ha...  \n",
       "2  a cryptic message from bond’s past sends him o...  \n",
       "3  following the death of district attorney harve...  \n",
       "4  john carter is a war-weary, former military ca...  "
      ]
     },
     "execution_count": 44,
     "metadata": {},
     "output_type": "execute_result"
    }
   ],
   "source": [
    "new_df.head()"
   ]
  },
  {
   "cell_type": "code",
   "execution_count": 45,
   "id": "2465b90e",
   "metadata": {
    "execution": {
     "iopub.execute_input": "2023-10-18T17:04:15.780424Z",
     "iopub.status.busy": "2023-10-18T17:04:15.779451Z",
     "iopub.status.idle": "2023-10-18T17:04:15.784007Z",
     "shell.execute_reply": "2023-10-18T17:04:15.783058Z"
    },
    "papermill": {
     "duration": 0.021709,
     "end_time": "2023-10-18T17:04:15.785877",
     "exception": false,
     "start_time": "2023-10-18T17:04:15.764168",
     "status": "completed"
    },
    "tags": []
   },
   "outputs": [],
   "source": [
    "# Now we will use stemming using nltk library to remove same words like love, loving, loved"
   ]
  },
  {
   "cell_type": "code",
   "execution_count": 47,
   "id": "57950967",
   "metadata": {},
   "outputs": [
    {
     "name": "stdout",
     "output_type": "stream",
     "text": [
      "Collecting nltk\n",
      "  Downloading nltk-3.8.1-py3-none-any.whl.metadata (2.8 kB)\n",
      "Collecting click (from nltk)\n",
      "  Downloading click-8.1.7-py3-none-any.whl.metadata (3.0 kB)\n",
      "Collecting joblib (from nltk)\n",
      "  Downloading joblib-1.3.2-py3-none-any.whl.metadata (5.4 kB)\n",
      "Collecting regex>=2021.8.3 (from nltk)\n",
      "  Downloading regex-2023.12.25-cp312-cp312-win_amd64.whl.metadata (41 kB)\n",
      "     ---------------------------------------- 0.0/42.0 kB ? eta -:--:--\n",
      "     --------- ------------------------------ 10.2/42.0 kB ? eta -:--:--\n",
      "     ------------------ ------------------- 20.5/42.0 kB 320.0 kB/s eta 0:00:01\n",
      "     -------------------------------------- 42.0/42.0 kB 401.7 kB/s eta 0:00:00\n",
      "Collecting tqdm (from nltk)\n",
      "  Downloading tqdm-4.66.2-py3-none-any.whl.metadata (57 kB)\n",
      "     ---------------------------------------- 0.0/57.6 kB ? eta -:--:--\n",
      "     --------------------------- ---------- 41.0/57.6 kB 960.0 kB/s eta 0:00:01\n",
      "     -------------------------------------- 57.6/57.6 kB 751.5 kB/s eta 0:00:00\n",
      "Requirement already satisfied: colorama in c:\\users\\lenovo\\appdata\\roaming\\python\\python312\\site-packages (from click->nltk) (0.4.6)\n",
      "Downloading nltk-3.8.1-py3-none-any.whl (1.5 MB)\n",
      "   ---------------------------------------- 0.0/1.5 MB ? eta -:--:--\n",
      "   -- ------------------------------------- 0.1/1.5 MB 2.6 MB/s eta 0:00:01\n",
      "   ---- ----------------------------------- 0.2/1.5 MB 2.6 MB/s eta 0:00:01\n",
      "   ----- ---------------------------------- 0.2/1.5 MB 2.0 MB/s eta 0:00:01\n",
      "   ------- -------------------------------- 0.3/1.5 MB 1.6 MB/s eta 0:00:01\n",
      "   ---------- ----------------------------- 0.4/1.5 MB 1.8 MB/s eta 0:00:01\n",
      "   --------------- ------------------------ 0.6/1.5 MB 2.3 MB/s eta 0:00:01\n",
      "   --------------------- ------------------ 0.8/1.5 MB 2.7 MB/s eta 0:00:01\n",
      "   ------------------------- -------------- 1.0/1.5 MB 2.8 MB/s eta 0:00:01\n",
      "   ------------------------------- -------- 1.2/1.5 MB 3.1 MB/s eta 0:00:01\n",
      "   ------------------------------------- -- 1.4/1.5 MB 3.2 MB/s eta 0:00:01\n",
      "   ---------------------------------------- 1.5/1.5 MB 3.2 MB/s eta 0:00:00\n",
      "Downloading regex-2023.12.25-cp312-cp312-win_amd64.whl (268 kB)\n",
      "   ---------------------------------------- 0.0/268.9 kB ? eta -:--:--\n",
      "   ---------------------------------------  266.2/268.9 kB 8.3 MB/s eta 0:00:01\n",
      "   ---------------------------------------- 268.9/268.9 kB 5.5 MB/s eta 0:00:00\n",
      "Downloading click-8.1.7-py3-none-any.whl (97 kB)\n",
      "   ---------------------------------------- 0.0/97.9 kB ? eta -:--:--\n",
      "   ---------------------------------------- 97.9/97.9 kB 5.5 MB/s eta 0:00:00\n",
      "Downloading joblib-1.3.2-py3-none-any.whl (302 kB)\n",
      "   ---------------------------------------- 0.0/302.2 kB ? eta -:--:--\n",
      "   --------------------------------- ------ 256.0/302.2 kB 7.9 MB/s eta 0:00:01\n",
      "   ---------------------------------------- 302.2/302.2 kB 6.2 MB/s eta 0:00:00\n",
      "Downloading tqdm-4.66.2-py3-none-any.whl (78 kB)\n",
      "   ---------------------------------------- 0.0/78.3 kB ? eta -:--:--\n",
      "   ---------------------------------------- 78.3/78.3 kB 4.5 MB/s eta 0:00:00\n",
      "Installing collected packages: tqdm, regex, joblib, click, nltk\n",
      "Successfully installed click-8.1.7 joblib-1.3.2 nltk-3.8.1 regex-2023.12.25 tqdm-4.66.2\n"
     ]
    }
   ],
   "source": [
    "! pip3 install nltk"
   ]
  },
  {
   "cell_type": "code",
   "execution_count": 48,
   "id": "45a63be2",
   "metadata": {
    "execution": {
     "iopub.execute_input": "2023-10-18T17:04:15.815713Z",
     "iopub.status.busy": "2023-10-18T17:04:15.815330Z",
     "iopub.status.idle": "2023-10-18T17:04:17.491861Z",
     "shell.execute_reply": "2023-10-18T17:04:17.490775Z"
    },
    "papermill": {
     "duration": 1.693769,
     "end_time": "2023-10-18T17:04:17.494144",
     "exception": false,
     "start_time": "2023-10-18T17:04:15.800375",
     "status": "completed"
    },
    "tags": []
   },
   "outputs": [],
   "source": [
    "import nltk"
   ]
  },
  {
   "cell_type": "code",
   "execution_count": 49,
   "id": "b61becad",
   "metadata": {
    "execution": {
     "iopub.execute_input": "2023-10-18T17:04:17.525704Z",
     "iopub.status.busy": "2023-10-18T17:04:17.524752Z",
     "iopub.status.idle": "2023-10-18T17:04:17.528948Z",
     "shell.execute_reply": "2023-10-18T17:04:17.528128Z"
    },
    "papermill": {
     "duration": 0.021596,
     "end_time": "2023-10-18T17:04:17.530674",
     "exception": false,
     "start_time": "2023-10-18T17:04:17.509078",
     "status": "completed"
    },
    "tags": []
   },
   "outputs": [],
   "source": [
    "from nltk.stem.porter import PorterStemmer\n",
    "ps = PorterStemmer()"
   ]
  },
  {
   "cell_type": "code",
   "execution_count": 50,
   "id": "ccef5913",
   "metadata": {
    "execution": {
     "iopub.execute_input": "2023-10-18T17:04:17.561329Z",
     "iopub.status.busy": "2023-10-18T17:04:17.560636Z",
     "iopub.status.idle": "2023-10-18T17:04:17.566726Z",
     "shell.execute_reply": "2023-10-18T17:04:17.565771Z"
    },
    "papermill": {
     "duration": 0.023355,
     "end_time": "2023-10-18T17:04:17.568563",
     "exception": false,
     "start_time": "2023-10-18T17:04:17.545208",
     "status": "completed"
    },
    "tags": []
   },
   "outputs": [
    {
     "data": {
      "text/plain": [
       "'love'"
      ]
     },
     "execution_count": 50,
     "metadata": {},
     "output_type": "execute_result"
    }
   ],
   "source": [
    "ps.stem('loving')"
   ]
  },
  {
   "cell_type": "code",
   "execution_count": 51,
   "id": "304f0658",
   "metadata": {
    "execution": {
     "iopub.execute_input": "2023-10-18T17:04:17.600449Z",
     "iopub.status.busy": "2023-10-18T17:04:17.599551Z",
     "iopub.status.idle": "2023-10-18T17:04:17.603904Z",
     "shell.execute_reply": "2023-10-18T17:04:17.603286Z"
    },
    "papermill": {
     "duration": 0.022103,
     "end_time": "2023-10-18T17:04:17.605559",
     "exception": false,
     "start_time": "2023-10-18T17:04:17.583456",
     "status": "completed"
    },
    "tags": []
   },
   "outputs": [],
   "source": [
    "def stem(text):\n",
    "    y = []\n",
    "    \n",
    "    # Converting string into list\n",
    "    \n",
    "    for i in text.split():\n",
    "        y.append(ps.stem(i))\n",
    "        \n",
    "    # Again converting list into string\n",
    "    return \" \".join(y)"
   ]
  },
  {
   "cell_type": "code",
   "execution_count": 52,
   "id": "a738dd8a",
   "metadata": {
    "execution": {
     "iopub.execute_input": "2023-10-18T17:04:17.636329Z",
     "iopub.status.busy": "2023-10-18T17:04:17.635780Z",
     "iopub.status.idle": "2023-10-18T17:04:23.156419Z",
     "shell.execute_reply": "2023-10-18T17:04:23.155472Z"
    },
    "papermill": {
     "duration": 5.5382,
     "end_time": "2023-10-18T17:04:23.158428",
     "exception": false,
     "start_time": "2023-10-18T17:04:17.620228",
     "status": "completed"
    },
    "tags": []
   },
   "outputs": [
    {
     "name": "stderr",
     "output_type": "stream",
     "text": [
      "C:\\Users\\LENOVO\\AppData\\Local\\Temp\\ipykernel_9804\\3213734980.py:1: SettingWithCopyWarning: \n",
      "A value is trying to be set on a copy of a slice from a DataFrame.\n",
      "Try using .loc[row_indexer,col_indexer] = value instead\n",
      "\n",
      "See the caveats in the documentation: https://pandas.pydata.org/pandas-docs/stable/user_guide/indexing.html#returning-a-view-versus-a-copy\n",
      "  new_df['tags'] = new_df['tags'].apply(stem)\n"
     ]
    }
   ],
   "source": [
    "new_df['tags'] = new_df['tags'].apply(stem)"
   ]
  },
  {
   "cell_type": "code",
   "execution_count": 53,
   "id": "1a6e4b54",
   "metadata": {
    "execution": {
     "iopub.execute_input": "2023-10-18T17:04:23.189047Z",
     "iopub.status.busy": "2023-10-18T17:04:23.188728Z",
     "iopub.status.idle": "2023-10-18T17:04:23.192022Z",
     "shell.execute_reply": "2023-10-18T17:04:23.191419Z"
    },
    "papermill": {
     "duration": 0.020691,
     "end_time": "2023-10-18T17:04:23.193784",
     "exception": false,
     "start_time": "2023-10-18T17:04:23.173093",
     "status": "completed"
    },
    "tags": []
   },
   "outputs": [],
   "source": [
    "# Now we will do vectorization of data in tags column\n",
    "# First we'll combine all the tags and calculate 5000 words whose frequency is maximum"
   ]
  },
  {
   "cell_type": "code",
   "execution_count": null,
   "id": "92b53326",
   "metadata": {},
   "outputs": [],
   "source": []
  },
  {
   "cell_type": "code",
   "execution_count": 54,
   "id": "89ff9e17",
   "metadata": {
    "execution": {
     "iopub.execute_input": "2023-10-18T17:04:23.224007Z",
     "iopub.status.busy": "2023-10-18T17:04:23.223474Z",
     "iopub.status.idle": "2023-10-18T17:04:23.227796Z",
     "shell.execute_reply": "2023-10-18T17:04:23.227187Z"
    },
    "papermill": {
     "duration": 0.021411,
     "end_time": "2023-10-18T17:04:23.229485",
     "exception": false,
     "start_time": "2023-10-18T17:04:23.208074",
     "status": "completed"
    },
    "tags": []
   },
   "outputs": [
    {
     "ename": "ModuleNotFoundError",
     "evalue": "No module named 'sklearn'",
     "output_type": "error",
     "traceback": [
      "\u001b[1;31m---------------------------------------------------------------------------\u001b[0m",
      "\u001b[1;31mModuleNotFoundError\u001b[0m                       Traceback (most recent call last)",
      "Cell \u001b[1;32mIn[54], line 1\u001b[0m\n\u001b[1;32m----> 1\u001b[0m \u001b[38;5;28;01mfrom\u001b[39;00m \u001b[38;5;21;01msklearn\u001b[39;00m\u001b[38;5;21;01m.\u001b[39;00m\u001b[38;5;21;01mfeature_extraction\u001b[39;00m\u001b[38;5;21;01m.\u001b[39;00m\u001b[38;5;21;01mtext\u001b[39;00m \u001b[38;5;28;01mimport\u001b[39;00m CountVectorizer\n\u001b[0;32m      2\u001b[0m cv \u001b[38;5;241m=\u001b[39m CountVectorizer(max_features\u001b[38;5;241m=\u001b[39m\u001b[38;5;241m5000\u001b[39m, stop_words\u001b[38;5;241m=\u001b[39m\u001b[38;5;124m'\u001b[39m\u001b[38;5;124menglish\u001b[39m\u001b[38;5;124m'\u001b[39m)\n",
      "\u001b[1;31mModuleNotFoundError\u001b[0m: No module named 'sklearn'"
     ]
    }
   ],
   "source": [
    "from sklearn.feature_extraction.text import CountVectorizer\n",
    "cv = CountVectorizer(max_features=5000, stop_words='english')"
   ]
  },
  {
   "cell_type": "code",
   "execution_count": null,
   "id": "5c8481e5",
   "metadata": {
    "execution": {
     "iopub.execute_input": "2023-10-18T17:04:23.260395Z",
     "iopub.status.busy": "2023-10-18T17:04:23.259782Z",
     "iopub.status.idle": "2023-10-18T17:04:23.779662Z",
     "shell.execute_reply": "2023-10-18T17:04:23.778702Z"
    },
    "papermill": {
     "duration": 0.538262,
     "end_time": "2023-10-18T17:04:23.782452",
     "exception": false,
     "start_time": "2023-10-18T17:04:23.244190",
     "status": "completed"
    },
    "tags": []
   },
   "outputs": [],
   "source": [
    "vectors = cv.fit_transform(new_df['tags']).toarray()"
   ]
  },
  {
   "cell_type": "code",
   "execution_count": null,
   "id": "d51bf7b4",
   "metadata": {
    "execution": {
     "iopub.execute_input": "2023-10-18T17:04:23.814014Z",
     "iopub.status.busy": "2023-10-18T17:04:23.813689Z",
     "iopub.status.idle": "2023-10-18T17:04:23.819317Z",
     "shell.execute_reply": "2023-10-18T17:04:23.818289Z"
    },
    "papermill": {
     "duration": 0.023446,
     "end_time": "2023-10-18T17:04:23.821193",
     "exception": false,
     "start_time": "2023-10-18T17:04:23.797747",
     "status": "completed"
    },
    "tags": []
   },
   "outputs": [
    {
     "data": {
      "text/plain": [
       "(4806, 5000)"
      ]
     },
     "execution_count": 128,
     "metadata": {},
     "output_type": "execute_result"
    }
   ],
   "source": [
    "vectors.shape"
   ]
  },
  {
   "cell_type": "code",
   "execution_count": null,
   "id": "8323585a",
   "metadata": {
    "execution": {
     "iopub.execute_input": "2023-10-18T17:04:23.851811Z",
     "iopub.status.busy": "2023-10-18T17:04:23.851454Z",
     "iopub.status.idle": "2023-10-18T17:04:23.857747Z",
     "shell.execute_reply": "2023-10-18T17:04:23.856702Z"
    },
    "papermill": {
     "duration": 0.02361,
     "end_time": "2023-10-18T17:04:23.859412",
     "exception": false,
     "start_time": "2023-10-18T17:04:23.835802",
     "status": "completed"
    },
    "tags": []
   },
   "outputs": [
    {
     "data": {
      "text/plain": [
       "array([0, 0, 0, ..., 0, 0, 0])"
      ]
     },
     "execution_count": 129,
     "metadata": {},
     "output_type": "execute_result"
    }
   ],
   "source": [
    "vectors[0] # Vector of movie Avatar"
   ]
  },
  {
   "cell_type": "code",
   "execution_count": 55,
   "id": "92e7f40a",
   "metadata": {
    "execution": {
     "iopub.execute_input": "2023-10-18T17:04:23.890800Z",
     "iopub.status.busy": "2023-10-18T17:04:23.889829Z",
     "iopub.status.idle": "2023-10-18T17:04:23.899809Z",
     "shell.execute_reply": "2023-10-18T17:04:23.898837Z"
    },
    "papermill": {
     "duration": 0.027763,
     "end_time": "2023-10-18T17:04:23.901853",
     "exception": false,
     "start_time": "2023-10-18T17:04:23.874090",
     "status": "completed"
    },
    "tags": []
   },
   "outputs": [
    {
     "ename": "NameError",
     "evalue": "name 'cv' is not defined",
     "output_type": "error",
     "traceback": [
      "\u001b[1;31m---------------------------------------------------------------------------\u001b[0m",
      "\u001b[1;31mNameError\u001b[0m                                 Traceback (most recent call last)",
      "Cell \u001b[1;32mIn[55], line 1\u001b[0m\n\u001b[1;32m----> 1\u001b[0m \u001b[43mcv\u001b[49m\u001b[38;5;241m.\u001b[39mget_feature_names_out()\n",
      "\u001b[1;31mNameError\u001b[0m: name 'cv' is not defined"
     ]
    }
   ],
   "source": [
    "cv.get_feature_names_out()"
   ]
  },
  {
   "cell_type": "code",
   "execution_count": null,
   "id": "dbcf6c46",
   "metadata": {
    "execution": {
     "iopub.execute_input": "2023-10-18T17:04:23.934241Z",
     "iopub.status.busy": "2023-10-18T17:04:23.933689Z",
     "iopub.status.idle": "2023-10-18T17:04:23.940924Z",
     "shell.execute_reply": "2023-10-18T17:04:23.940124Z"
    },
    "papermill": {
     "duration": 0.025647,
     "end_time": "2023-10-18T17:04:23.942702",
     "exception": false,
     "start_time": "2023-10-18T17:04:23.917055",
     "status": "completed"
    },
    "tags": []
   },
   "outputs": [
    {
     "data": {
      "text/plain": [
       "'in the 22nd century, a parapleg marin is dispatch to the moon pandora on a uniqu mission, but becom torn between follow order and protect an alien civilization. action adventur fantasi sciencefict cultureclash futur spacewar spacecoloni societi spacetravel futurist romanc space alien tribe alienplanet cgi marin soldier battl loveaffair antiwar powerrel mindandsoul 3d samworthington zoesaldana sigourneyweav jamescameron'"
      ]
     },
     "execution_count": 131,
     "metadata": {},
     "output_type": "execute_result"
    }
   ],
   "source": [
    "stem('In the 22nd century, a paraplegic Marine is dispatched to the moon Pandora on a unique mission, but becomes torn between following orders and protecting an alien civilization. Action Adventure Fantasy ScienceFiction cultureclash future spacewar spacecolony society spacetravel futuristic romance space alien tribe alienplanet cgi marine soldier battle loveaffair antiwar powerrelations mindandsoul 3d SamWorthington ZoeSaldana SigourneyWeaver JamesCameron')"
   ]
  },
  {
   "cell_type": "code",
   "execution_count": null,
   "id": "9f391bcb",
   "metadata": {
    "execution": {
     "iopub.execute_input": "2023-10-18T17:04:23.974374Z",
     "iopub.status.busy": "2023-10-18T17:04:23.973803Z",
     "iopub.status.idle": "2023-10-18T17:04:23.977881Z",
     "shell.execute_reply": "2023-10-18T17:04:23.977192Z"
    },
    "papermill": {
     "duration": 0.021974,
     "end_time": "2023-10-18T17:04:23.979629",
     "exception": false,
     "start_time": "2023-10-18T17:04:23.957655",
     "status": "completed"
    },
    "tags": []
   },
   "outputs": [],
   "source": [
    "# Now we have 4806 vectors (one for each movie)\n",
    "# Now we will calculate distance between two vectors to find similarity between movies\n",
    "# We will calculate cosine distance (angle b/w vectors) rather than euclidean distance\n",
    "# As the dimension of data increases, the performance of euclidean distance decreases"
   ]
  },
  {
   "cell_type": "code",
   "execution_count": null,
   "id": "011d90a5",
   "metadata": {
    "execution": {
     "iopub.execute_input": "2023-10-18T17:04:24.010750Z",
     "iopub.status.busy": "2023-10-18T17:04:24.010165Z",
     "iopub.status.idle": "2023-10-18T17:04:24.014287Z",
     "shell.execute_reply": "2023-10-18T17:04:24.013707Z"
    },
    "papermill": {
     "duration": 0.021672,
     "end_time": "2023-10-18T17:04:24.016094",
     "exception": false,
     "start_time": "2023-10-18T17:04:23.994422",
     "status": "completed"
    },
    "tags": []
   },
   "outputs": [],
   "source": [
    "from sklearn.metrics.pairwise import cosine_similarity"
   ]
  },
  {
   "cell_type": "code",
   "execution_count": null,
   "id": "c6de6263",
   "metadata": {
    "execution": {
     "iopub.execute_input": "2023-10-18T17:04:24.047193Z",
     "iopub.status.busy": "2023-10-18T17:04:24.046782Z",
     "iopub.status.idle": "2023-10-18T17:04:26.582852Z",
     "shell.execute_reply": "2023-10-18T17:04:26.581922Z"
    },
    "papermill": {
     "duration": 2.554121,
     "end_time": "2023-10-18T17:04:26.584789",
     "exception": false,
     "start_time": "2023-10-18T17:04:24.030668",
     "status": "completed"
    },
    "tags": []
   },
   "outputs": [
    {
     "data": {
      "text/plain": [
       "(4806, 4806)"
      ]
     },
     "execution_count": 143,
     "metadata": {},
     "output_type": "execute_result"
    }
   ],
   "source": [
    "cosine_similarity(vectors).shape"
   ]
  },
  {
   "cell_type": "code",
   "execution_count": null,
   "id": "a8fd5662",
   "metadata": {
    "execution": {
     "iopub.execute_input": "2023-10-18T17:04:26.617165Z",
     "iopub.status.busy": "2023-10-18T17:04:26.616784Z",
     "iopub.status.idle": "2023-10-18T17:04:29.043889Z",
     "shell.execute_reply": "2023-10-18T17:04:29.042461Z"
    },
    "papermill": {
     "duration": 2.44772,
     "end_time": "2023-10-18T17:04:29.048416",
     "exception": false,
     "start_time": "2023-10-18T17:04:26.600696",
     "status": "completed"
    },
    "tags": []
   },
   "outputs": [],
   "source": [
    "similarity = cosine_similarity(vectors)"
   ]
  },
  {
   "cell_type": "code",
   "execution_count": null,
   "id": "6bef5938",
   "metadata": {},
   "outputs": [
    {
     "name": "stdout",
     "output_type": "stream",
     "text": [
      "[[1.         0.08346223 0.0860309  ... 0.04499213 0.         0.        ]\n",
      " [0.08346223 1.         0.06063391 ... 0.02378257 0.         0.02615329]\n",
      " [0.0860309  0.06063391 1.         ... 0.02451452 0.         0.        ]\n",
      " ...\n",
      " [0.04499213 0.02378257 0.02451452 ... 1.         0.03962144 0.04229549]\n",
      " [0.         0.         0.         ... 0.03962144 1.         0.08714204]\n",
      " [0.         0.02615329 0.         ... 0.04229549 0.08714204 1.        ]]\n"
     ]
    }
   ],
   "source": [
    "\n",
    "print(similarity)"
   ]
  },
  {
   "cell_type": "code",
   "execution_count": null,
   "id": "01f5f11e",
   "metadata": {},
   "outputs": [
    {
     "name": "stdout",
     "output_type": "stream",
     "text": [
      "[13, 6, 5, 4, 2, 1]\n"
     ]
    }
   ],
   "source": [
    "lst=[1,2,13,4,5,6]\n",
    "x=sorted(lst,reverse=True)\n",
    "print(x)"
   ]
  },
  {
   "cell_type": "code",
   "execution_count": null,
   "id": "8ee8219a",
   "metadata": {},
   "outputs": [
    {
     "name": "stdout",
     "output_type": "stream",
     "text": [
      "[0.06503325 0.04583492 0.33071891 ... 0.01853123 0.03818018 0.02037848]\n",
      "[(0, 0.065033247714309), (1, 0.04583492485141056), (2, 0.3307189138830738), (3, 0.09078412990032035), (4, 0.07796811755854505), (5, 0.07142857142857144), (6, 0.033149677206589796), (7, 0.06043672230190352), (8, 0.02439750182371333), (9, 0.13944333775567927), (10, 0.04225771273642583), (11, 0.2728884114549076), (12, 0.049629166698546515), (13, 0.037062465833055065), (14, 0.06338656910463875), (15, 0.06900655593423542), (16, 0.065033247714309), (17, 0.0657951694959769), (18, 0.14076253059521726), (19, 0.051328943312186626), (20, 0.03585685828003181), (21, 0.04517539514526256), (22, 0.027277236279499052), (23, 0.07200230411059791), (24, 0.08787495503274936), (25, 0.028016590734026292), (26, 0.1690308509457033), (27, 0.10265788662437325), (28, 0.12000384018432983), (29, 1.0000000000000002), (30, 0.05506673236607643), (31, 0.07862136275414389), (32, 0.035093120317179816), (33, 0.08017837257372733), (34, 0.0), (35, 0.08183170883849716), (36, 0.08151391459392224), (37, 0.021677749238103002), (38, 0.0668153104781061), (39, 0.09035079029052512), (40, 0.06338656910463875), (41, 0.09746014694818131), (42, 0.019287918745261493), (43, 0.03742405942825599), (44, 0.027863910628767644), (45, 0.10182663499531962), (46, 0.06875238727711584), (47, 0.12964074471043288), (48, 0.06958890006392211), (49, 0.024000768036865967), (50, 0.13957263155977065), (51, 0.06629935441317959), (52, 0.08151391459392224), (53, 0.03539961627023944), (54, 0.051434449987363975), (55, 0.02898855178262242), (56, 0.11396057645963795), (57, 0.039840953644479794), (58, 0.07412493166611013), (59, 0.07470178808339961), (60, 0.03026137663344012), (61, 0.054554472558998104), (62, 0.06900655593423542), (63, 0.03367175148507369), (64, 0.04879500364742666), (65, 0.04826170890658402), (66, 0.037062465833055065), (67, 0.06776309271789384), (68, 0.049629166698546515), (69, 0.043643578047198484), (70, 0.06260879033472616), (71, 0.06043672230190352), (72, 0.04517539514526256), (73, 0.0), (74, 0.037062465833055065), (75, 0.06419407387663695), (76, 0.15762208124782015), (77, 0.047431200545124896), (78, 0.04173919355648411), (79, 0.0684385910829155), (80, 0.013856849886842331), (81, 0.03026137663344012), (82, 0.06260879033472616), (83, 0.055593698749582594), (84, 0.06788442333021308), (85, 0.12087344460380706), (86, 0.038984058779272523), (87, 0.06875238727711584), (88, 0.09925833339709303), (89, 0.011857800136281226), (90, 0.025253813613805267), (91, 0.09166984970282112), (92, 0.017109647770728875), (93, 0.058476088168908785), (94, 0.07715167498104596), (95, 0.05786375623578448), (96, 0.08451542547285167), (97, 0.07636035483212125), (98, 0.041239304942116126), (99, 0.04393747751637468), (100, 0.05572782125753529), (101, 0.08451542547285167), (102, 0.0684385910829155), (103, 0.0657951694959769), (104, 0.06875238727711584), (105, 0.05698028822981897), (106, 0.017109647770728875), (107, 0.03394221166510654), (108, 0.13944333775567927), (109, 0.053452248382484885), (110, 0.018531232916527533), (111, 0.041239304942116126), (112, 0.06338656910463875), (113, 0.053571428571428575), (114, 0.01889822365046136), (115, 0.10811249552346709), (116, 0.09960238411119948), (117, 0.07319250547113998), (118, 0.013856849886842331), (119, 0.03571428571428572), (120, 0.038575837490522985), (121, 0.06875238727711584), (122, 0.07200230411059791), (123, 0.09265616458263766), (124, 0.037062465833055065), (125, 0.08614609845078959), (126, 0.06590621627456203), (127, 0.10524233638174615), (128, 0.0668153104781061), (129, 0.09545044354015156), (130, 0.0668153104781061), (131, 0.130066495428618), (132, 0.018531232916527533), (133, 0.023262105259961776), (134, 0.10690449676496977), (135, 0.025253813613805267), (136, 0.038575837490522985), (137, 0.03722187502390989), (138, 0.1267731382092775), (139, 0.11602387022306429), (140, 0.037062465833055065), (141, 0.024000768036865967), (142, 0.04652421051992355), (143, 0.07142857142857144), (144, 0.06185895741317419), (145, 0.01585903699238878), (146, 0.040291148201269014), (147, 0.2291746242570528), (148, 0.053452248382484885), (149, 0.06388765649999399), (150, 0.13531157534795935), (151, 0.05572782125753529), (152, 0.06875238727711584), (153, 0.11343565162162876), (154, 0.0757614408414158), (155, 0.016835875742536845), (156, 0.016448792373994225), (157, 0.054554472558998104), (158, 0.07342230982143524), (159, 0.02620712091804796), (160, 0.12404651544449354), (161, 0.0), (162, 0.08183170883849716), (163, 0.08347838711296822), (164, 0.08787495503274936), (165, 0.03779644730092272), (166, 0.12371791482634839), (167, 0.09925833339709303), (168, 0.10309826235529032), (169, 0.10910894511799618), (170, 0.17546560158589908), (171, 0.018712029714127994), (172, 0.029160592175990218), (173, 0.05727026612409094), (174, 0.10699012312772824), (175, 0.019492029389636262), (176, 0.07200230411059791), (177, 0.0), (178, 0.08058229640253803), (179, 0.08964214570007953), (180, 0.07273929674533079), (181, 0.018531232916527533), (182, 0.07715167498104597), (183, 0.04348282767393363), (184, 0.020869596778242055), (185, 0.06260879033472616), (186, 0.06482037235521644), (187, 0.08451542547285167), (188, 0.1091089451179962), (189, 0.031497039417435604), (190, 0.12178057511186369), (191, 0.020145574100634507), (192, 0.058476088168908785), (193, 0.06489676645639564), (194, 0.0), (195, 0.04879500364742666), (196, 0.042796049251091296), (197, 0.015228622596829318), (198, 0.0236227795630767), (199, 0.03571428571428572), (200, 0.05976143046671968), (201, 0.054554472558998104), (202, 0.051434449987363975), (203, 0.06875238727711584), (204, 0.06113543594544168), (205, 0.15328483487124145), (206, 0.04568586779048795), (207, 0.06338656910463875), (208, 0.050507627227610534), (209, 0.11145564251507058), (210, 0.041239304942116126), (211, 0.020145574100634507), (212, 0.1272937693043289), (213, 0.1620509308880411), (214, 0.02258769757263128), (215, 0.0909241209316635), (216, 0.053452248382484885), (217, 0.035093120317179816), (218, 0.09449111825230681), (219, 0.12626906806902632), (220, 0.04879500364742666), (221, 0.038984058779272523), (222, 0.04934637712198267), (223, 0.042796049251091296), (224, 0.03340765523905305), (225, 0.038575837490522985), (226, 0.0), (227, 0.13552618543578768), (228, 0.1091089451179962), (229, 0.0885422004151433), (230, 0.04539206495016018), (231, 0.038575837490522985), (232, 0.04583492485141056), (233, 0.05698028822981897), (234, 0.10619884881071831), (235, 0.020869596778242055), (236, 0.07086833868923009), (237, 0.08183170883849716), (238, 0.04568586779048795), (239, 0.04510385844931978), (240, 0.05786375623578448), (241, 0.10838874619051501), (242, 0.0668153104781061), (243, 0.038180177416060626), (244, 0.050507627227610534), (245, 0.1559023911155809), (246, 0.04692084353173909), (247, 0.07444375004781978), (248, 0.07342230982143524), (249, 0.05698028822981897), (250, 0.0), (251, 0.03450327796711771), (252, 0.03340765523905305), (253, 0.08625819491779428), (254, 0.038180177416060626), (255, 0.06185895741317419), (256, 0.09197090092274487), (257, 0.02196873875818734), (258, 0.058321184351980436), (259, 0.10101525445522107), (260, 0.048001536073731935), (261, 0.039840953644479794), (262, 0.07018624063435963), (263, 0.08017837257372733), (264, 0.03289758474798845), (265, 0.0), (266, 0.02037847864848056), (267, 0.053452248382484885), (268, 0.021677749238103002), (269, 0.0), (270, 0.05455447255899809), (271, 0.058476088168908785), (272, 0.02291746242570528), (273, 0.034794450031961056), (274, 0.05282214092053229), (275, 0.07086833868923009), (276, 0.07715167498104597), (277, 0.1749635530559413), (278, 0.07715167498104597), (279, 0.038180177416060626), (280, 0.06419407387663695), (281, 0.01785714285714286), (282, 0.14684461964287052), (283, 0.04517539514526256), (284, 0.0), (285, 0.03217447260438935), (286, 0.09652341781316805), (287, 0.0), (288, 0.0), (289, 0.03779644730092272), (290, 0.07862136275414389), (291, 0.08247860988423225), (292, 0.04879500364742666), (293, 0.0), (294, 0.0944911182523068), (295, 0.065033247714309), (296, 0.07985957062499249), (297, 0.05455447255899809), (298, 0.05910828046793255), (299, 0.06530231484483393), (300, 0.10072787050317253), (301, 0.061721339984836754), (302, 0.038180177416060626), (303, 0.04583492485141056), (304, 0.0758721223333605), (305, 0.017397225015980528), (306, 0.11135885079684349), (307, 0.08959644488359914), (308, 0.11145564251507058), (309, 0.025717224993681988), (310, 0.08838834764831843), (311, 0.041239304942116126), (312, 0.10309826235529032), (313, 0.0), (314, 0.07142857142857144), (315, 0.06875238727711584), (316, 0.01632557871120848), (317, 0.0), (318, 0.0), (319, 0.027277236279499052), (320, 0.050507627227610534), (321, 0.0), (322, 0.065033247714309), (323, 0.02439750182371333), (324, 0.08058229640253803), (325, 0.10910894511799621), (326, 0.0), (327, 0.0222717701593687), (328, 0.02258769757263128), (329, 0.065033247714309), (330, 0.06185895741317419), (331, 0.018531232916527533), (332, 0.06590621627456203), (333, 0.06043672230190352), (334, 0.07968190728895959), (335, 0.09545044354015156), (336, 0.05698028822981897), (337, 0.03742405942825599), (338, 0.027277236279499052), (339, 0.06043672230190352), (340, 0.04075695729696112), (341, 0.06776309271789384), (342, 0.08854220041514328), (343, 0.0), (344, 0.07319250547113998), (345, 0.07559289460184544), (346, 0.04517539514526256), (347, 0.0), (348, 0.050507627227610534), (349, 0.06260879033472616), (350, 0.12087344460380704), (351, 0.018712029714127994), (352, 0.02258769757263128), (353, 0.01697110583255327), (354, 0.0892857142857143), (355, 0.07517309741553296), (356, 0.09925833339709303), (357, 0.0), (358, 0.07444375004781978), (359, 0.07715167498104597), (360, 0.06900655593423542), (361, 0.020619652471058063), (362, 0.07862136275414389), (363, 0.03265115742241696), (364, 0.038575837490522985), (365, 0.020619652471058063), (366, 0.06978631577988532), (367, 0.08359173188630294), (368, 0.026726124191242442), (369, 0.08451542547285167), (370, 0.12521758066945232), (371, 0.05910828046793255), (372, 0.07796811755854505), (373, 0.0), (374, 0.031280562354492725), (375, 0.03367175148507369), (376, 0.05786375623578448), (377, 0.05727026612409094), (378, 0.025253813613805267), (379, 0.027863910628767644), (380, 0.0), (381, 0.06900655593423542), (382, 0.031497039417435604), (383, 0.03571428571428572), (384, 0.0472455591261534), (385, 0.0236227795630767), (386, 0.09009374626955591), (387, 0.038984058779272523), (388, 0.01889822365046136), (389, 0.12000384018432983), (390, 0.043355498476206004), (391, 0.06213697660012001), (392, 0.09925833339709303), (393, 0.02196873875818734), (394, 0.06113543594544168), (395, 0.0), (396, 0.12613124477737828), (397, 0.021398024625545648), (398, 0.05455447255899809), (399, 0.038984058779272523), (400, 0.09925833339709303), (401, 0.025717224993681988), (402, 0.08559209850218259), (403, 0.10265788662437325), (404, 0.025253813613805267), (405, 0.06875238727711584), (406, 0.03421929554145775), (407, 0.017546560158589908), (408, 0.08017837257372733), (409, 0.038575837490522985), (410, 0.020145574100634507), (411, 0.043355498476206004), (412, 0.13791932109184263), (413, 0.023262105259961776), (414, 0.07319250547113998), (415, 0.058671464884885755), (416, 0.0), (417, 0.0), (418, 0.058321184351980436), (419, 0.03779644730092272), (420, 0.037062465833055065), (421, 0.09545044354015156), (422, 0.048001536073731935), (423, 0.0), (424, 0.06131393394849658), (425, 0.15791904142730917), (426, 0.0737851670126194), (427, 0.043355498476206004), (428, 0.03065696697424829), (429, 0.0222717701593687), (430, 0.020869596778242055), (431, 0.0), (432, 0.03742405942825599), (433, 0.10286889997472795), (434, 0.0), (435, 0.029160592175990218), (436, 0.04225771273642583), (437, 0.19015970731391624), (438, 0.06043672230190352), (439, 0.08671099695241201), (440, 0.04075695729696112), (441, 0.0236227795630767), (442, 0.16840826742715195), (443, 0.0), (444, 0.05786375623578448), (445, 0.0), (446, 0.038180177416060626), (447, 0.10619884881071831), (448, 0.035093120317179816), (449, 0.04517539514526256), (450, 0.017546560158589908), (451, 0.041239304942116126), (452, 0.025253813613805267), (453, 0.08058229640253803), (454, 0.019287918745261493), (455, 0.050111482858579574), (456, 0.053571428571428575), (457, 0.07086833868923009), (458, 0.07142857142857144), (459, 0.028490144114909487), (460, 0.0), (461, 0.04652421051992355), (462, 0.026593487520457097), (463, 0.0), (464, 0.0), (465, 0.031497039417435604), (466, 0.08964214570007953), (467, 0.05219167504794159), (468, 0.09166984970282112), (469, 0.048976736133625444), (470, 0.0), (471, 0.035093120317179816), (472, 0.06590621627456203), (473, 0.0), (474, 0.06776309271789384), (475, 0.03603749850782236), (476, 0.11145564251507058), (477, 0.054554472558998104), (478, 0.0890870806374748), (479, 0.02898855178262242), (480, 0.040291148201269014), (481, 0.058476088168908785), (482, 0.07207499701564472), (483, 0.051434449987363975), (484, 0.048001536073731935), (485, 0.021677749238103002), (486, 0.06583508164371542), (487, 0.07862136275414389), (488, 0.04113063728303114), (489, 0.0668153104781061), (490, 0.11664236870396087), (491, 0.03265115742241696), (492, 0.06260879033472616), (493, 0.050507627227610534), (494, 0.0), (495, 0.05241424183609592), (496, 0.04202488610103944), (497, 0.16035674514745463), (498, 0.08359173188630294), (499, 0.021677749238103002), (500, 0.08559209850218259), (501, 0.06734350297014738), (502, 0.05506673236607643), (503, 0.06185895741317419), (504, 0.0), (505, 0.08359173188630294), (506, 0.05698028822981897), (507, 0.035093120317179816), (508, 0.12521758066945232), (509, 0.036369648372665396), (510, 0.06113543594544168), (511, 0.050507627227610534), (512, 0.04517539514526256), (513, 0.06113543594544168), (514, 0.04075695729696112), (515, 0.0), (516, 0.0), (517, 0.04934637712198267), (518, 0.07207499701564472), (519, 0.06338656910463875), (520, 0.0), (521, 0.041239304942116126), (522, 0.0), (523, 0.09960238411119948), (524, 0.0), (525, 0.019492029389636262), (526, 0.0), (527, 0.0), (528, 0.1284890421875117), (529, 0.07881104062391008), (530, 0.06875238727711584), (531, 0.19090088708030312), (532, 0.0), (533, 0.0), (534, 0.03450327796711771), (535, 0.040291148201269014), (536, 0.0), (537, 0.027863910628767644), (538, 0.049629166698546515), (539, 0.04583492485141056), (540, 0.12371791482634839), (541, 0.06958890006392211), (542, 0.07614311298414658), (543, 0.058476088168908785), (544, 0.09166984970282112), (545, 0.06113543594544168), (546, 0.05241424183609592), (547, 0.04583492485141056), (548, 0.08671099695241201), (549, 0.01970276015597752), (550, 0.02037847864848056), (551, 0.031068488300060006), (552, 0.023262105259961776), (553, 0.0944911182523068), (554, 0.023262105259961776), (555, 0.01235415527768502), (556, 0.04393747751637468), (557, 0.06043672230190352), (558, 0.0), (559, 0.0), (560, 0.029695693545824933), (561, 0.07862136275414389), (562, 0.0757614408414158), (563, 0.06338656910463875), (564, 0.09759000729485331), (565, 0.01785714285714286), (566, 0.01970276015597752), (567, 0.020619652471058063), (568, 0.0930484210398471), (569, 0.019492029389636262), (570, 0.05572782125753529), (571, 0.05219167504794159), (572, 0.03539961627023944), (573, 0.051328943312186626), (574, 0.05786375623578448), (575, 0.03742405942825599), (576, 0.08559209850218259), (577, 0.04652421051992355), (578, 0.0), (579, 0.024000768036865967), (580, 0.09960238411119948), (581, 0.07200230411059791), (582, 0.07342230982143524), (583, 0.031068488300060006), (584, 0.0), (585, 0.08058229640253803), (586, 0.07412493166611013), (587, 0.13644420572745383), (588, 0.0), (589, 0.031943828249996996), (590, 0.09925833339709303), (591, 0.05175491695067656), (592, 0.05219167504794159), (593, 0.0), (594, 0.14264935053936392), (595, 0.056694670951384085), (596, 0.1336306209562122), (597, 0.04879500364742666), (598, 0.0), (599, 0.01129384878631564), (600, 0.1322875655532295), (601, 0.06891473080249641), (602, 0.20583232685540792), (603, 0.0668153104781061), (604, 0.054554472558998104), (605, 0.06185895741317419), (606, 0.06590621627456203), (607, 0.142731332931499), (608, 0.049629166698546515), (609, 0.11572751247156896), (610, 0.05976143046671968), (611, 0.038180177416060626), (612, 0.05219167504794159), (613, 0.058321184351980436), (614, 0.020145574100634507), (615, 0.050507627227610534), (616, 0.0), (617, 0.020619652471058063), (618, 0.036369648372665396), (619, 0.0), (620, 0.08547043234472845), (621, 0.053452248382484885), (622, 0.08698612507990264), (623, 0.0), (624, 0.028490144114909487), (625, 0.025717224993681988), (626, 0.04517539514526256), (627, 0.05976143046671968), (628, 0.0), (629, 0.09960238411119948), (630, 0.020145574100634507), (631, 0.06260879033472616), (632, 0.08451542547285167), (633, 0.03671115491071762), (634, 0.02037847864848056), (635, 0.018184824186332698), (636, 0.019287918745261493), (637, 0.0), (638, 0.0), (639, 0.0), (640, 0.04934637712198267), (641, 0.0), (642, 0.048001536073731935), (643, 0.08247860988423225), (644, 0.08247860988423225), (645, 0.0909241209316635), (646, 0.0), (647, 0.07968190728895959), (648, 0.024814583349273257), (649, 0.0), (650, 0.021398024625545648), (651, 0.020869596778242055), (652, 0.0), (653, 0.02988071523335984), (654, 0.11976753439510213), (655, 0.0985138007798876), (656, 0.020145574100634507), (657, 0.12820564851709268), (658, 0.07968190728895959), (659, 0.12521758066945232), (660, 0.12858612496840993), (661, 0.05175491695067656), (662, 0.02439750182371333), (663, 0.024000768036865967), (664, 0.049629166698546515), (665, 0.09356014857063998), (666, 0.041239304942116126), (667, 0.0), (668, 0.05572782125753529), (669, 0.029160592175990218), (670, 0.02881952088521175), (671, 0.07484811885651198), (672, 0.023262105259961776), (673, 0.08224396186997113), (674, 0.019492029389636262), (675, 0.037062465833055065), (676, 0.0236227795630767), (677, 0.08247860988423225), (678, 0.07200230411059791), (679, 0.031280562354492725), (680, 0.10309826235529032), (681, 0.02258769757263128), (682, 0.0), (683, 0.059761430466719695), (684, 0.026726124191242442), (685, 0.053452248382484885), (686, 0.0), (687, 0.06419407387663695), (688, 0.0), (689, 0.0), (690, 0.020619652471058063), (691, 0.07319250547113998), (692, 0.01801874925391118), (693, 0.05572782125753529), (694, 0.09009374626955591), (695, 0.1636634176769943), (696, 0.03539961627023944), (697, 0.015228622596829318), (698, 0.07142857142857144), (699, 0.0), (700, 0.0944911182523068), (701, 0.0), (702, 0.018531232916527533), (703, 0.01769980813511972), (704, 0.03742405942825599), (705, 0.0), (706, 0.01785714285714286), (707, 0.0), (708, 0.08151391459392224), (709, 0.03394221166510654), (710, 0.01585903699238878), (711, 0.10838874619051501), (712, 0.07968190728895959), (713, 0.02037847864848056), (714, 0.021677749238103002), (715, 0.08183170883849716), (716, 0.0445435403187374), (717, 0.01801874925391118), (718, 0.037062465833055065), (719, 0.0), (720, 0.043355498476206004), (721, 0.10690449676496977), (722, 0.07559289460184544), (723, 0.040291148201269014), (724, 0.07796811755854505), (725, 0.0), (726, 0.024814583349273257), (727, 0.03805097170738808), (728, 0.11952286093343938), (729, 0.040291148201269014), (730, 0.062305598284903355), (731, 0.08559209850218259), (732, 0.09356014857063998), (733, 0.016835875742536845), (734, 0.03671115491071762), (735, 0.1284890421875117), (736, 0.07319250547113998), (737, 0.1267731382092775), (738, 0.0), (739, 0.09449111825230681), (740, 0.053571428571428575), (741, 0.13750477455423168), (742, 0.0), (743, 0.0), (744, 0.026726124191242442), (745, 0.12000384018432983), (746, 0.03539961627023944), (747, 0.06482037235521644), (748, 0.05976143046671968), (749, 0.016448792373994225), (750, 0.035093120317179816), (751, 0.05241424183609592), (752, 0.01801874925391118), (753, 0.18070158058105024), (754, 0.041239304942116126), (755, 0.06256112470898545), (756, 0.0), (757, 0.039840953644479794), (758, 0.09356014857063998), (759, 0.038180177416060626), (760, 0.0), (761, 0.1181138978153835), (762, 0.12198750911856665), (763, 0.03241018617760822), (764, 0.06875238727711584), (765, 0.020619652471058063), (766, 0.020869596778242055), (767, 0.15430334996209194), (768, 0.06734350297014738), (769, 0.051434449987363975), (770, 0.07079923254047887), (771, 0.0), (772, 0.026726124191242442), (773, 0.10482848367219184), (774, 0.06482037235521644), (775, 0.0472455591261534), (776, 0.03241018617760822), (777, 0.09177788727679406), (778, 0.038180177416060626), (779, 0.06043672230190352), (780, 0.0), (781, 0.07444375004781978), (782, 0.07636035483212125), (783, 0.053452248382484885), (784, 0.03940552031195504), (785, 0.04568586779048795), (786, 0.0890870806374748), (787, 0.04517539514526256), (788, 0.07715167498104597), (789, 0.0), (790, 0.059391387091649865), (791, 0.05241424183609592), (792, 0.021128856368212916), (793, 0.0), (794, 0.07200230411059791), (795, 0.0), (796, 0.027863910628767644), (797, 0.05976143046671968), (798, 0.0), (799, 0.0756534415836003), (800, 0.09197090092274487), (801, 0.07086833868923009), (802, 0.0222717701593687), (803, 0.0), (804, 0.06338656910463875), (805, 0.0668153104781061), (806, 0.0), (807, 0.08787495503274936), (808, 0.09197090092274487), (809, 0.015971914124998498), (810, 0.0), (811, 0.05175491695067656), (812, 0.0668153104781061), (813, 0.05727026612409094), (814, 0.0), (815, 0.0), (816, 0.01970276015597752), (817, 0.0), (818, 0.040291148201269014), (819, 0.0), (820, 0.03912303982179759), (821, 0.07862136275414389), (822, 0.017251638983558856), (823, 0.03940552031195504), (824, 0.031068488300060006), (825, 0.07200230411059791), (826, 0.049629166698546515), (827, 0.0), (828, 0.04225771273642583), (829, 0.019090088708030313), (830, 0.0668153104781061), (831, 0.07796811755854505), (832, 0.021398024625545648), (833, 0.07968190728895959), (834, 0.09643959372630746), (835, 0.04173919355648411), (836, 0.03394221166510654), (837, 0.02291746242570528), (838, 0.03171807398477756), (839, 0.0), (840, 0.06978631577988532), (841, 0.019287918745261493), (842, 0.0), (843, 0.02258769757263128), (844, 0.042796049251091296), (845, 0.031497039417435604), (846, 0.0), (847, 0.019596545041740514), (848, 0.015228622596829318), (849, 0.021128856368212916), (850, 0.06299407883487121), (851, 0.06260879033472616), (852, 0.035093120317179816), (853, 0.0), (854, 0.06590621627456203), (855, 0.0), (856, 0.05910828046793255), (857, 0.028490144114909487), (858, 0.05976143046671968), (859, 0.06776309271789384), (860, 0.0), (861, 0.050507627227610534), (862, 0.0), (863, 0.17677669529663687), (864, 0.03171807398477756), (865, 0.06482037235521644), (866, 0.0668153104781061), (867, 0.04173919355648411), (868, 0.03421929554145775), (869, 0.0), (870, 0.05910828046793255), (871, 0.02037847864848056), (872, 0.03940552031195504), (873, 0.10350983390135313), (874, 0.021128856368212916), (875, 0.020869596778242055), (876, 0.07444375004781978), (877, 0.0), (878, 0.0), (879, 0.08559209850218259), (880, 0.07862136275414389), (881, 0.027277236279499052), (882, 0.02258769757263128), (883, 0.06260879033472616), (884, 0.021128856368212916), (885, 0.0), (886, 0.0), (887, 0.01416481749175184), (888, 0.058476088168908785), (889, 0.0661570155031204), (890, 0.0), (891, 0.0), (892, 0.0), (893, 0.09648062312349498), (894, 0.06978631577988532), (895, 0.0), (896, 0.0), (897, 0.0), (898, 0.020145574100634507), (899, 0.02196873875818734), (900, 0.05910828046793255), (901, 0.0445435403187374), (902, 0.038180177416060626), (903, 0.0), (904, 0.05091331749765981), (905, 0.0), (906, 0.031497039417435604), (907, 0.0), (908, 0.06043672230190352), (909, 0.024000768036865967), (910, 0.03289758474798845), (911, 0.019492029389636262), (912, 0.0), (913, 0.0), (914, 0.09197090092274487), (915, 0.02196873875818734), (916, 0.028490144114909487), (917, 0.0), (918, 0.038180177416060626), (919, 0.053571428571428575), (920, 0.18002057495577392), (921, 0.0), (922, 0.10699012312772824), (923, 0.01889822365046136), (924, 0.02988071523335984), (925, 0.016574838603294898), (926, 0.0), (927, 0.0), (928, 0.0), (929, 0.042796049251091296), (930, 0.11952286093343938), (931, 0.09600307214746387), (932, 0.0985138007798876), (933, 0.03940552031195504), (934, 0.02439750182371333), (935, 0.05572782125753529), (936, 0.05241424183609592), (937, 0.020869596778242055), (938, 0.021677749238103002), (939, 0.14667866221221437), (940, 0.05455447255899809), (941, 0.09925833339709303), (942, 0.0985138007798876), (943, 0.04517539514526256), (944, 0.059761430466719695), (945, 0.025253813613805267), (946, 0.040291148201269014), (947, 0.026997462357801944), (948, 0.0), (949, 0.03265115742241696), (950, 0.06131393394849658), (951, 0.05241424183609592), (952, 0.04173919355648411), (953, 0.018712029714127994), (954, 0.024000768036865967), (955, 0.10838874619051501), (956, 0.020619652471058063), (957, 0.025717224993681988), (958, 0.06043672230190352), (959, 0.08347838711296822), (960, 0.07200230411059791), (961, 0.041239304942116126), (962, 0.039840953644479794), (963, 0.08554823885364438), (964, 0.0), (965, 0.021677749238103002), (966, 0.03241018617760822), (967, 0.03065696697424829), (968, 0.040291148201269014), (969, 0.07929518496194389), (970, 0.049629166698546515), (971, 0.0), (972, 0.14888750009563956), (973, 0.13957263155977065), (974, 0.01964943729729648), (975, 0.019237885149322023), (976, 0.1181138978153835), (977, 0.06978631577988532), (978, 0.14400460822119582), (979, 0.059761430466719695), (980, 0.025717224993681988), (981, 0.07412493166611013), (982, 0.051328943312186626), (983, 0.024000768036865967), (984, 0.07200230411059791), (985, 0.03989023128068565), (986, 0.03940552031195504), (987, 0.06776309271789384), (988, 0.08247860988423225), (989, 0.0), (990, 0.11952286093343938), (991, 0.08183170883849716), (992, 0.0684385910829155), (993, 0.049629166698546515), (994, 0.038575837490522985), (995, 0.03065696697424829), (996, 0.06875238727711584), (997, 0.05613608914238398), (998, 0.0), (999, 0.019287918745261493), (1000, 0.0), (1001, 0.0), (1002, 0.03289758474798845), (1003, 0.05727026612409094), (1004, 0.09925833339709303), (1005, 0.06299407883487121), (1006, 0.065033247714309), (1007, 0.016448792373994225), (1008, 0.03217447260438935), (1009, 0.08247860988423225), (1010, 0.0), (1011, 0.053099424405359155), (1012, 0.06776309271789384), (1013, 0.10189239324240279), (1014, 0.0), (1015, 0.06419407387663695), (1016, 0.07319250547113998), (1017, 0.03671115491071762), (1018, 0.018184824186332698), (1019, 0.0), (1020, 0.0), (1021, 0.0), (1022, 0.018184824186332698), (1023, 0.059761430466719695), (1024, 0.023262105259961776), (1025, 0.04598545046137244), (1026, 0.0), (1027, 0.07319250547113998), (1028, 0.0), (1029, 0.023262105259961776), (1030, 0.0684385910829155), (1031, 0.06776309271789384), (1032, 0.0), (1033, 0.06482037235521644), (1034, 0.0), (1035, 0.05241424183609592), (1036, 0.04225771273642583), (1037, 0.06185895741317419), (1038, 0.07559289460184544), (1039, 0.04173919355648411), (1040, 0.0), (1041, 0.03340765523905305), (1042, 0.0), (1043, 0.038575837490522985), (1044, 0.05241424183609592), (1045, 0.03241018617760822), (1046, 0.12521758066945232), (1047, 0.07319250547113998), (1048, 0.020619652471058063), (1049, 0.051434449987363975), (1050, 0.03367175148507369), (1051, 0.03571428571428572), (1052, 0.050507627227610534), (1053, 0.01970276015597752), (1054, 0.024000768036865967), (1055, 0.054554472558998104), (1056, 0.0), (1057, 0.0), (1058, 0.0), (1059, 0.014409760442605874), (1060, 0.0), (1061, 0.07881104062391008), (1062, 0.08359173188630294), (1063, 0.048001536073731935), (1064, 0.024814583349273257), (1065, 0.02291746242570528), (1066, 0.08359173188630294), (1067, 0.05786375623578448), (1068, 0.0), (1069, 0.0), (1070, 0.02037847864848056), (1071, 0.04225771273642583), (1072, 0.0472455591261534), (1073, 0.02439750182371333), (1074, 0.0), (1075, 0.038575837490522985), (1076, 0.10690449676496977), (1077, 0.054554472558998104), (1078, 0.031497039417435604), (1079, 0.07319250547113998), (1080, 0.21677749238103003), (1081, 0.03742405942825599), (1082, 0.10564428184106459), (1083, 0.02037847864848056), (1084, 0.0236227795630767), (1085, 0.13638618139749525), (1086, 0.10564428184106459), (1087, 0.0909241209316635), (1088, 0.0), (1089, 0.04539206495016018), (1090, 0.08017837257372733), (1091, 0.02439750182371333), (1092, 0.07444375004781978), (1093, 0.017397225015980528), (1094, 0.020619652471058063), (1095, 0.11013346473215288), (1096, 0.07715167498104597), (1097, 0.023262105259961776), (1098, 0.019090088708030313), (1099, 0.04826170890658402), (1100, 0.07444375004781978), (1101, 0.018531232916527533), (1102, 0.09009374626955591), (1103, 0.2020305089104421), (1104, 0.09449111825230681), (1105, 0.02258769757263128), (1106, 0.10393492741038726), (1107, 0.050507627227610534), (1108, 0.020869596778242055), (1109, 0.10072787050317253), (1110, 0.01889822365046136), (1111, 0.027277236279499052), (1112, 0.018184824186332698), (1113, 0.06419407387663695), (1114, 0.026726124191242442), (1115, 0.01769980813511972), (1116, 0.0), (1117, 0.036369648372665396), (1118, 0.059761430466719695), (1119, 0.055427399547369326), (1120, 0.0), (1121, 0.036369648372665396), (1122, 0.05175491695067656), (1123, 0.020869596778242055), (1124, 0.0), (1125, 0.018531232916527533), (1126, 0.048001536073731935), (1127, 0.07484811885651198), (1128, 0.0), (1129, 0.0), (1130, 0.0643489452087787), (1131, 0.0), (1132, 0.04225771273642583), (1133, 0.0), (1134, 0.19518001458970666), (1135, 0.015640281177246362), (1136, 0.051434449987363975), (1137, 0.048001536073731935), (1138, 0.09035079029052512), (1139, 0.06299407883487121), (1140, 0.038575837490522985), (1141, 0.02439750182371333), (1142, 0.0930484210398471), (1143, 0.022349507813383712), (1144, 0.0), (1145, 0.058476088168908785), (1146, 0.038180177416060626), (1147, 0.0757614408414158), (1148, 0.07559289460184544), (1149, 0.04393747751637468), (1150, 0.0), (1151, 0.0), (1152, 0.11145564251507058), (1153, 0.029160592175990218), (1154, 0.054554472558998104), (1155, 0.01769980813511972), (1156, 0.08017837257372733), (1157, 0.018712029714127994), (1158, 0.12858612496840993), (1159, 0.021128856368212916), (1160, 0.02258769757263128), (1161, 0.065033247714309), (1162, 0.043355498476206004), (1163, 0.0), (1164, 0.017251638983558856), (1165, 0.0), (1166, 0.058321184351980436), (1167, 0.07086833868923009), (1168, 0.01970276015597752), (1169, 0.01889822365046136), (1170, 0.0), (1171, 0.0), (1172, 0.023262105259961776), (1173, 0.015640281177246362), (1174, 0.02988071523335984), (1175, 0.03603749850782236), (1176, 0.0), (1177, 0.0236227795630767), (1178, 0.065033247714309), (1179, 0.0), (1180, 0.04173919355648411), (1181, 0.04879500364742666), (1182, 0.041239304942116126), (1183, 0.0), (1184, 0.050507627227610534), (1185, 0.08671099695241201), (1186, 0.01769980813511972), (1187, 0.021677749238103002), (1188, 0.0), (1189, 0.0236227795630767), (1190, 0.10801234497346432), (1191, 0.051328943312186626), (1192, 0.0), (1193, 0.0), (1194, 0.08359173188630294), (1195, 0.10699012312772824), (1196, 0.06776309271789384), (1197, 0.02988071523335984), (1198, 0.12371791482634839), (1199, 0.0668153104781061), (1200, 0.0), (1201, 0.02620712091804796), (1202, 0.0684385910829155), (1203, 0.12971863041569273), (1204, 0.06043672230190352), (1205, 0.01970276015597752), (1206, 0.04724555912615341), (1207, 0.04517539514526256), (1208, 0.08559209850218259), (1209, 0.0), (1210, 0.0), (1211, 0.035093120317179816), (1212, 0.04393747751637468), (1213, 0.05910828046793255), (1214, 0.01835557745535881), (1215, 0.015534244150030003), (1216, 0.031497039417435604), (1217, 0.0), (1218, 0.05727026612409094), (1219, 0.0), (1220, 0.03779644730092272), (1221, 0.029160592175990218), (1222, 0.050111482858579574), (1223, 0.07796811755854505), (1224, 0.0), (1225, 0.030860669992418377), (1226, 0.05572782125753529), (1227, 0.01835557745535881), (1228, 0.029160592175990218), (1229, 0.0222717701593687), (1230, 0.021128856368212916), (1231, 0.0), (1232, 0.07319250547113999), (1233, 0.09356014857063998), (1234, 0.042796049251091296), (1235, 0.020869596778242055), (1236, 0.0), (1237, 0.1537811713073114), (1238, 0.03217447260438935), (1239, 0.1111873974991652), (1240, 0.08748177652797065), (1241, 0.023262105259961776), (1242, 0.0472455591261534), (1243, 0.0), (1244, 0.017397225015980528), (1245, 0.01970276015597752), (1246, 0.0), (1247, 0.0), (1248, 0.04075695729696112), (1249, 0.024000768036865967), (1250, 0.03671115491071762), (1251, 0.0), (1252, 0.015534244150030003), (1253, 0.048001536073731935), (1254, 0.0), (1255, 0.0), (1256, 0.07005216937414567), (1257, 0.03571428571428572), (1258, 0.038180177416060626), (1259, 0.048001536073731935), (1260, 0.020869596778242055), (1261, 0.02439750182371333), (1262, 0.02620712091804796), (1263, 0.0), (1264, 0.021677749238103002), (1265, 0.01769980813511972), (1266, 0.06185895741317419), (1267, 0.019090088708030313), (1268, 0.0944911182523068), (1269, 0.0668153104781061), (1270, 0.0668153104781061), (1271, 0.0236227795630767), (1272, 0.11572751247156896), (1273, 0.058476088168908785), (1274, 0.07444375004781978), (1275, 0.050507627227610534), (1276, 0.11572751247156896), (1277, 0.053571428571428575), (1278, 0.03779644730092272), (1279, 0.05572782125753529), (1280, 0.027277236279499052), (1281, 0.05219167504794159), (1282, 0.07929518496194389), (1283, 0.046291004988627565), (1284, 0.04598545046137244), (1285, 0.0944911182523068), (1286, 0.0), (1287, 0.02291746242570528), (1288, 0.031497039417435604), (1289, 0.021128856368212916), (1290, 0.04173919355648411), (1291, 0.11145564251507058), (1292, 0.08359173188630294), (1293, 0.06185895741317419), (1294, 0.0), (1295, 0.0), (1296, 0.021128856368212916), (1297, 0.07968190728895959), (1298, 0.0), (1299, 0.040291148201269014), (1300, 0.0), (1301, 0.0472455591261534), (1302, 0.021128856368212916), (1303, 0.02291746242570528), (1304, 0.0), (1305, 0.1217805751118637), (1306, 0.09925833339709303), (1307, 0.03539961627023944), (1308, 0.0), (1309, 0.02881952088521175), (1310, 0.02988071523335984), (1311, 0.07664241743562072), (1312, 0.0), (1313, 0.07319250547113998), (1314, 0.058321184351980436), (1315, 0.03394221166510654), (1316, 0.09035079029052512), (1317, 0.07207499701564472), (1318, 0.014409760442605874), (1319, 0.019920476822239897), (1320, 0.027863910628767644), (1321, 0.029160592175990218), (1322, 0.09515422195433267), (1323, 0.21459876881973805), (1324, 0.02291746242570528), (1325, 0.08787495503274936), (1326, 0.053452248382484885), (1327, 0.05698028822981897), (1328, 0.029160592175990218), (1329, 0.050507627227610534), (1330, 0.031497039417435604), (1331, 0.053099424405359155), (1332, 0.03421929554145775), (1333, 0.0236227795630767), (1334, 0.07086833868923009), (1335, 0.027277236279499052), (1336, 0.0), (1337, 0.01494035761667992), (1338, 0.050507627227610534), (1339, 0.0), (1340, 0.09746014694818131), (1341, 0.021398024625545648), (1342, 0.01970276015597752), (1343, 0.0), (1344, 0.06185895741317419), (1345, 0.05572782125753529), (1346, 0.32897584747988445), (1347, 0.025253813613805267), (1348, 0.0), (1349, 0.02988071523335984), (1350, 0.029160592175990218), (1351, 0.04583492485141056), (1352, 0.016087236302194673), (1353, 0.0), (1354, 0.02291746242570528), (1355, 0.03940552031195504), (1356, 0.016574838603294898), (1357, 0.019287918745261493), (1358, 0.0), (1359, 0.0), (1360, 0.06482037235521644), (1361, 0.08224396186997113), (1362, 0.0222717701593687), (1363, 0.0236227795630767), (1364, 0.04879500364742666), (1365, 0.05241424183609592), (1366, 0.016835875742536845), (1367, 0.08058229640253803), (1368, 0.0), (1369, 0.12371791482634839), (1370, 0.024814583349273257), (1371, 0.07767122075015001), (1372, 0.01970276015597752), (1373, 0.054554472558998104), (1374, 0.0), (1375, 0.035093120317179816), (1376, 0.0), (1377, 0.0), (1378, 0.0), (1379, 0.0684385910829155), (1380, 0.06338656910463875), (1381, 0.054554472558998104), (1382, 0.0), (1383, 0.04173919355648411), (1384, 0.04791574237499549), (1385, 0.12262786789699316), (1386, 0.042796049251091296), (1387, 0.0), (1388, 0.043355498476206004), (1389, 0.02037847864848056), (1390, 0.03539961627023944), (1391, 0.0), (1392, 0.029160592175990218), (1393, 0.0), (1394, 0.0), (1395, 0.0), (1396, 0.06788442333021308), (1397, 0.021677749238103002), (1398, 0.0), (1399, 0.020869596778242055), (1400, 0.08183170883849716), (1401, 0.08058229640253803), (1402, 0.0), (1403, 0.026726124191242442), (1404, 0.09600307214746387), (1405, 0.0497245158098847), (1406, 0.0), (1407, 0.0), (1408, 0.049629166698546515), (1409, 0.0), (1410, 0.08748177652797065), (1411, 0.020145574100634507), (1412, 0.04517539514526256), (1413, 0.0), (1414, 0.0), (1415, 0.0), (1416, 0.06419407387663695), (1417, 0.015328483487124145), (1418, 0.13098420799889596), (1419, 0.0657951694959769), (1420, 0.0236227795630767), (1421, 0.0), (1422, 0.04652421051992355), (1423, 0.10482848367219184), (1424, 0.09449111825230681), (1425, 0.0757614408414158), (1426, 0.016087236302194673), (1427, 0.024000768036865967), (1428, 0.14848604296791068), (1429, 0.013231403100624081), (1430, 0.0472455591261534), (1431, 0.07086833868923009), (1432, 0.1091089451179962), (1433, 0.03742405942825599), (1434, 0.024814583349273257), (1435, 0.0555936987495826), (1436, 0.02439750182371333), (1437, 0.06482037235521644), (1438, 0.026726124191242442), (1439, 0.033149677206589796), (1440, 0.09600307214746387), (1441, 0.0), (1442, 0.0), (1443, 0.0668153104781061), (1444, 0.0668153104781061), (1445, 0.07412493166611013), (1446, 0.05727026612409094), (1447, 0.0), (1448, 0.0), (1449, 0.043355498476206004), (1450, 0.0), (1451, 0.1267731382092775), (1452, 0.035093120317179816), (1453, 0.13750477455423168), (1454, 0.10838874619051501), (1455, 0.08485552916276634), (1456, 0.07423923386456233), (1457, 0.07636035483212125), (1458, 0.08359173188630294), (1459, 0.03539961627023944), (1460, 0.0), (1461, 0.04075695729696112), (1462, 0.034794450031961056), (1463, 0.08698612507990264), (1464, 0.03241018617760822), (1465, 0.023262105259961776), (1466, 0.027863910628767644), (1467, 0.01970276015597752), (1468, 0.024000768036865967), (1469, 0.024814583349273257), (1470, 0.05786375623578448), (1471, 0.10072787050317253), (1472, 0.043355498476206004), (1473, 0.02291746242570528), (1474, 0.051434449987363975), (1475, 0.04225771273642583), (1476, 0.058321184351980436), (1477, 0.0576390417704235), (1478, 0.0), (1479, 0.01697110583255327), (1480, 0.049629166698546515), (1481, 0.024814583349273257), (1482, 0.0), (1483, 0.0), (1484, 0.021398024625545648), (1485, 0.1098436937909367), (1486, 0.08017837257372733), (1487, 0.04539206495016018), (1488, 0.08748177652797065), (1489, 0.0), (1490, 0.0944911182523068), (1491, 0.07735337905069796), (1492, 0.07319250547113999), (1493, 0.0757614408414158), (1494, 0.13638618139749525), (1495, 0.0), (1496, 0.05219167504794159), (1497, 0.07929518496194389), (1498, 0.038575837490522985), (1499, 0.0), (1500, 0.019920476822239897), (1501, 0.029160592175990218), (1502, 0.031497039417435604), (1503, 0.048976736133625444), (1504, 0.0), (1505, 0.0), (1506, 0.02196873875818734), (1507, 0.020145574100634507), (1508, 0.020619652471058063), (1509, 0.050111482858579574), (1510, 0.051328943312186626), (1511, 0.06260879033472616), (1512, 0.05506673236607643), (1513, 0.09035079029052512), (1514, 0.08347838711296822), (1515, 0.024000768036865967), (1516, 0.05219167504794159), (1517, 0.0), (1518, 0.021128856368212916), (1519, 0.0445435403187374), (1520, 0.05698028822981897), (1521, 0.09197090092274487), (1522, 0.0), (1523, 0.12521758066945232), (1524, 0.05976143046671968), (1525, 0.0), (1526, 0.027277236279499052), (1527, 0.02258769757263128), (1528, 0.0), (1529, 0.0913717355809759), (1530, 0.03571428571428572), (1531, 0.01785714285714286), (1532, 0.019090088708030313), (1533, 0.0), (1534, 0.11514154661795958), (1535, 0.08671099695241201), (1536, 0.015971914124998498), (1537, 0.11454053224818186), (1538, 0.018712029714127994), (1539, 0.05572782125753529), (1540, 0.0), (1541, 0.029514066805047763), (1542, 0.018712029714127994), (1543, 0.014667866221221439), (1544, 0.027863910628767644), (1545, 0.0), (1546, 0.0), (1547, 0.0), (1548, 0.043355498476206004), (1549, 0.0), (1550, 0.03217447260438935), (1551, 0.0), (1552, 0.08964214570007951), (1553, 0.0), (1554, 0.03450327796711771), (1555, 0.01585903699238878), (1556, 0.02291746242570528), (1557, 0.0), (1558, 0.0), (1559, 0.0892857142857143), (1560, 0.02196873875818734), (1561, 0.0), (1562, 0.053452248382484885), (1563, 0.0), (1564, 0.0), (1565, 0.02037847864848056), (1566, 0.0), (1567, 0.0), (1568, 0.024000768036865967), (1569, 0.0), (1570, 0.02439750182371333), (1571, 0.0), (1572, 0.0), (1573, 0.05241424183609592), (1574, 0.0756534415836003), (1575, 0.0), (1576, 0.016448792373994225), (1577, 0.0), (1578, 0.030457245193658635), (1579, 0.025253813613805267), (1580, 0.0), (1581, 0.0), (1582, 0.0), (1583, 0.0944911182523068), (1584, 0.0), (1585, 0.02258769757263128), (1586, 0.04879500364742666), (1587, 0.04791574237499549), (1588, 0.025717224993681988), (1589, 0.06978631577988532), (1590, 0.0), (1591, 0.0), (1592, 0.13228756555322954), (1593, 0.06629935441317959), (1594, 0.053452248382484885), (1595, 0.0), (1596, 0.024000768036865967), (1597, 0.043355498476206004), (1598, 0.08773280079294954), (1599, 0.0), (1600, 0.048615279266412334), (1601, 0.0), (1602, 0.10434798389121028), (1603, 0.03265115742241696), (1604, 0.037062465833055065), (1605, 0.025717224993681988), (1606, 0.07715167498104597), (1607, 0.050507627227610534), (1608, 0.02037847864848056), (1609, 0.10948196824072454), (1610, 0.056694670951384085), (1611, 0.026726124191242442), (1612, 0.0), (1613, 0.031497039417435604), (1614, 0.020619652471058063), (1615, 0.04934637712198267), (1616, 0.0930484210398471), (1617, 0.07715167498104597), (1618, 0.0), (1619, 0.0), (1620, 0.043355498476206004), (1621, 0.06299407883487121), (1622, 0.018531232916527533), (1623, 0.10072787050317253), (1624, 0.029160592175990218), (1625, 0.019920476822239897), (1626, 0.0), (1627, 0.027277236279499052), (1628, 0.0), (1629, 0.0), (1630, 0.03241018617760822), (1631, 0.07319250547113998), (1632, 0.05786375623578448), (1633, 0.03940552031195504), (1634, 0.09699794920789631), (1635, 0.024000768036865967), (1636, 0.0), (1637, 0.025717224993681988), (1638, 0.016703827619526525), (1639, 0.05219167504794159), (1640, 0.10434798389121028), (1641, 0.059028133610095526), (1642, 0.06113543594544168), (1643, 0.06113543594544168), (1644, 0.021128856368212916), (1645, 0.07715167498104597), (1646, 0.0), (1647, 0.016703827619526525), (1648, 0.13644420572745383), (1649, 0.0), (1650, 0.07207499701564472), (1651, 0.0985138007798876), (1652, 0.0), (1653, 0.06338656910463875), (1654, 0.02258769757263128), (1655, 0.0), (1656, 0.03742405942825599), (1657, 0.02291746242570528), (1658, 0.07444375004781978), (1659, 0.0643489452087787), (1660, 0.025253813613805267), (1661, 0.042796049251091296), (1662, 0.027277236279499052), (1663, 0.06043672230190352), (1664, 0.0668153104781061), (1665, 0.0), (1666, 0.05572782125753529), (1667, 0.04652421051992355), (1668, 0.0), (1669, 0.0), (1670, 0.08748177652797065), (1671, 0.0), (1672, 0.05572782125753529), (1673, 0.09723055853282467), (1674, 0.050507627227610534), (1675, 0.025958706582558253), (1676, 0.0909241209316635), (1677, 0.03671115491071762), (1678, 0.030069238966213187), (1679, 0.0), (1680, 0.054554472558998104), (1681, 0.05698028822981897), (1682, 0.0), (1683, 0.0), (1684, 0.0909241209316635), (1685, 0.0), (1686, 0.025717224993681988), (1687, 0.02686076546751268), (1688, 0.02291746242570528), (1689, 0.044821072850039764), (1690, 0.0), (1691, 0.01801874925391118), (1692, 0.07715167498104597), (1693, 0.03289758474798845), (1694, 0.019492029389636262), (1695, 0.0222717701593687), (1696, 0.06131393394849658), (1697, 0.019492029389636262), (1698, 0.0), (1699, 0.03742405942825599), (1700, 0.09166984970282112), (1701, 0.07636035483212125), (1702, 0.06131393394849658), (1703, 0.0472455591261534), (1704, 0.018531232916527533), (1705, 0.11952286093343938), (1706, 0.028490144114909487), (1707, 0.07862136275414389), (1708, 0.03603749850782236), (1709, 0.0), (1710, 0.0), (1711, 0.01449427589131121), (1712, 0.03539961627023944), (1713, 0.048001536073731935), (1714, 0.06043672230190352), (1715, 0.0), (1716, 0.0), (1717, 0.07319250547113998), (1718, 0.0), (1719, 0.14978617237881955), (1720, 0.0), (1721, 0.07715167498104597), (1722, 0.03742405942825599), (1723, 0.11396057645963795), (1724, 0.0), (1725, 0.0), (1726, 0.024000768036865967), (1727, 0.08017837257372733), (1728, 0.0222717701593687), (1729, 0.038180177416060626), (1730, 0.01889822365046136), (1731, 0.0236227795630767), (1732, 0.040291148201269014), (1733, 0.08773280079294954), (1734, 0.05698028822981897), (1735, 0.03265115742241696), (1736, 0.019090088708030313), (1737, 0.0), (1738, 0.02439750182371333), (1739, 0.06590621627456203), (1740, 0.021128856368212916), (1741, 0.017251638983558856), (1742, 0.0), (1743, 0.04724555912615341), (1744, 0.0236227795630767), (1745, 0.029160592175990218), (1746, 0.08787495503274936), (1747, 0.02196873875818734), (1748, 0.03671115491071762), (1749, 0.316227766016838), (1750, 0.0), (1751, 0.08554823885364438), (1752, 0.0), (1753, 0.020619652471058063), (1754, 0.03539961627023944), (1755, 0.05455447255899809), (1756, 0.10101525445522107), (1757, 0.0), (1758, 0.10984369379093671), (1759, 0.03539961627023944), (1760, 0.024000768036865967), (1761, 0.0), (1762, 0.0), (1763, 0.05613608914238398), (1764, 0.03940552031195504), (1765, 0.0), (1766, 0.026726124191242442), (1767, 0.01769980813511972), (1768, 0.04583492485141056), (1769, 0.0), (1770, 0.12262786789699316), (1771, 0.042796049251091296), (1772, 0.0497245158098847), (1773, 0.12598815766974242), (1774, 0.0), (1775, 0.1782560239768452), (1776, 0.028490144114909487), (1777, 0.06482037235521644), (1778, 0.03241018617760822), (1779, 0.09197090092274487), (1780, 0.01449427589131121), (1781, 0.05091331749765981), (1782, 0.029160592175990218), (1783, 0.07273929674533079), (1784, 0.0), (1785, 0.0), (1786, 0.08058229640253803), (1787, 0.053452248382484885), (1788, 0.01970276015597752), (1789, 0.05976143046671968), (1790, 0.0), (1791, 0.03241018617760822), (1792, 0.043355498476206004), (1793, 0.07715167498104597), (1794, 0.031068488300060006), (1795, 0.051434449987363975), (1796, 0.07086833868923009), (1797, 0.020619652471058063), (1798, 0.06734350297014738), (1799, 0.019287918745261493), (1800, 0.09356014857063998), (1801, 0.020145574100634507), (1802, 0.03742405942825599), (1803, 0.10286889997472795), (1804, 0.08017837257372733), (1805, 0.051434449987363975), (1806, 0.08748177652797065), (1807, 0.0), (1808, 0.0222717701593687), (1809, 0.0222717701593687), (1810, 0.0), (1811, 0.06776309271789384), (1812, 0.0472455591261534), (1813, 0.06299407883487121), (1814, 0.05786375623578448), (1815, 0.08451542547285167), (1816, 0.0), (1817, 0.035093120317179816), (1818, 0.025253813613805267), (1819, 0.01105934888009522), (1820, 0.01769980813511972), (1821, 0.09035079029052512), (1822, 0.0), (1823, 0.10072787050317253), (1824, 0.02291746242570528), (1825, 0.025598984252456894), (1826, 0.031497039417435604), (1827, 0.0445435403187374), (1828, 0.08102546544402056), (1829, 0.0), (1830, 0.040291148201269014), (1831, 0.05910828046793255), (1832, 0.07207499701564472), (1833, 0.07319250547113998), (1834, 0.09759000729485331), (1835, 0.08787495503274936), (1836, 0.04157054966052699), (1837, 0.0236227795630767), (1838, 0.0), (1839, 0.0236227795630767), (1840, 0.0), (1841, 0.0), (1842, 0.06776309271789384), (1843, 0.0757614408414158), (1844, 0.04393747751637468), (1845, 0.03571428571428572), (1846, 0.0), (1847, 0.019287918745261493), (1848, 0.03539961627023944), (1849, 0.0), (1850, 0.04517539514526256), (1851, 0.04091585441924858), (1852, 0.027277236279499052), (1853, 0.0), (1854, 0.15724272550828777), (1855, 0.0), (1856, 0.028016590734026292), (1857, 0.06530231484483393), (1858, 0.0), (1859, 0.11631052629980888), (1860, 0.05572782125753529), (1861, 0.02881952088521175), (1862, 0.03450327796711771), (1863, 0.038984058779272523), (1864, 0.038180177416060626), (1865, 0.0222717701593687), (1866, 0.07319250547113998), (1867, 0.015640281177246362), (1868, 0.0), (1869, 0.03940552031195504), (1870, 0.025717224993681988), (1871, 0.019492029389636262), (1872, 0.040291148201269014), (1873, 0.0), (1874, 0.07207499701564472), (1875, 0.02196873875818734), (1876, 0.016835875742536845), (1877, 0.0), (1878, 0.050507627227610534), (1879, 0.03450327796711771), (1880, 0.0), (1881, 0.0), (1882, 0.0), (1883, 0.07881104062391008), (1884, 0.054554472558998104), (1885, 0.020145574100634507), (1886, 0.11145564251507058), (1887, 0.01620509308880411), (1888, 0.020619652471058063), (1889, 0.049629166698546515), (1890, 0.01585903699238878), (1891, 0.0), (1892, 0.0), (1893, 0.04583492485141056), (1894, 0.018184824186332698), (1895, 0.0), (1896, 0.01889822365046136), (1897, 0.0), (1898, 0.17958136582329332), (1899, 0.07862136275414389), (1900, 0.10699012312772824), (1901, 0.03241018617760822), (1902, 0.025253813613805267), (1903, 0.06185895741317419), (1904, 0.029160592175990218), (1905, 0.07715167498104597), (1906, 0.01835557745535881), (1907, 0.0), (1908, 0.053452248382484885), (1909, 0.0), (1910, 0.0), (1911, 0.08359173188630294), (1912, 0.020145574100634507), (1913, 0.08247860988423225), (1914, 0.01632557871120848), (1915, 0.020619652471058063), (1916, 0.019492029389636262), (1917, 0.026726124191242442), (1918, 0.04660273245009001), (1919, 0.0), (1920, 0.08247860988423225), (1921, 0.021677749238103002), (1922, 0.03340765523905305), (1923, 0.03340765523905305), (1924, 0.04791574237499549), (1925, 0.0), (1926, 0.03241018617760822), (1927, 0.026726124191242442), (1928, 0.023262105259961776), (1929, 0.0472455591261534), (1930, 0.12613124477737825), (1931, 0.017109647770728875), (1932, 0.051434449987363975), (1933, 0.0), (1934, 0.05241424183609592), (1935, 0.027863910628767644), (1936, 0.038180177416060626), (1937, 0.023262105259961776), (1938, 0.0985138007798876), (1939, 0.06482037235521644), (1940, 0.0), (1941, 0.048001536073731935), (1942, 0.053452248382484885), (1943, 0.051434449987363975), (1944, 0.051434449987363975), (1945, 0.04517539514526256), (1946, 0.0), (1947, 0.06131393394849658), (1948, 0.05698028822981897), (1949, 0.02258769757263128), (1950, 0.02620712091804796), (1951, 0.04225771273642583), (1952, 0.020145574100634507), (1953, 0.03529656040012588), (1954, 0.07200230411059791), (1955, 0.0), (1956, 0.031497039417435604), (1957, 0.0), (1958, 0.03603749850782236), (1959, 0.0445435403187374), (1960, 0.0668153104781061), (1961, 0.06590621627456203), (1962, 0.056694670951384085), (1963, 0.0), (1964, 0.025253813613805267), (1965, 0.048976736133625444), (1966, 0.05091331749765981), (1967, 0.06113543594544168), (1968, 0.0222717701593687), (1969, 0.03241018617760822), (1970, 0.059761430466719695), (1971, 0.0), (1972, 0.0), (1973, 0.024814583349273257), (1974, 0.07484811885651198), (1975, 0.0), (1976, 0.0), (1977, 0.03742405942825599), (1978, 0.02620712091804796), (1979, 0.08773280079294954), (1980, 0.09356014857063996), (1981, 0.02291746242570528), (1982, 0.04652421051992355), (1983, 0.02258769757263128), (1984, 0.03571428571428572), (1985, 0.0), (1986, 0.0), (1987, 0.018184824186332698), (1988, 0.0), (1989, 0.0), (1990, 0.030457245193658635), (1991, 0.05091331749765981), (1992, 0.06784066926615714), (1993, 0.042796049251091296), (1994, 0.024000768036865967), (1995, 0.025717224993681988), (1996, 0.039840953644479794), (1997, 0.038180177416060626), (1998, 0.0), (1999, 0.02988071523335984), (2000, 0.0), (2001, 0.10101525445522105), (2002, 0.01889822365046136), (2003, 0.0), (2004, 0.10690449676496977), (2005, 0.09320546490018002), (2006, 0.0), (2007, 0.038575837490522985), (2008, 0.1426493505393639), (2009, 0.10072787050317253), (2010, 0.0), (2011, 0.0), (2012, 0.0), (2013, 0.06113543594544168), (2014, 0.059761430466719695), (2015, 0.0), (2016, 0.03742405942825599), (2017, 0.051434449987363975), (2018, 0.0), (2019, 0.025253813613805267), (2020, 0.0236227795630767), (2021, 0.0), (2022, 0.02258769757263128), (2023, 0.048976736133625444), (2024, 0.02258769757263128), (2025, 0.0555936987495826), (2026, 0.022668802672263903), (2027, 0.0), (2028, 0.0), (2029, 0.033149677206589796), (2030, 0.01970276015597752), (2031, 0.0), (2032, 0.11461365101225056), (2033, 0.016703827619526525), (2034, 0.0), (2035, 0.03742405942825599), (2036, 0.04393747751637468), (2037, 0.0), (2038, 0.06299407883487121), (2039, 0.06338656910463875), (2040, 0.03340765523905305), (2041, 0.049629166698546515), (2042, 0.02439750182371333), (2043, 0.03340765523905305), (2044, 0.04393747751637468), (2045, 0.0), (2046, 0.038984058779272523), (2047, 0.04583492485141056), (2048, 0.0), (2049, 0.08787495503274935), (2050, 0.041239304942116126), (2051, 0.0), (2052, 0.0892857142857143), (2053, 0.10910894511799621), (2054, 0.08351913809763262), (2055, 0.0), (2056, 0.08058229640253803), (2057, 0.04652421051992355), (2058, 0.05698028822981897), (2059, 0.04075695729696112), (2060, 0.02439750182371333), (2061, 0.03340765523905305), (2062, 0.09759000729485331), (2063, 0.07412493166611013), (2064, 0.04539206495016018), (2065, 0.0), (2066, 0.020869596778242055), (2067, 0.053452248382484885), (2068, 0.0), (2069, 0.08849904067559859), (2070, 0.028016590734026292), (2071, 0.0), (2072, 0.08671099695241201), (2073, 0.0), (2074, 0.0), (2075, 0.04879500364742666), (2076, 0.0), (2077, 0.0), (2078, 0.0), (2079, 0.025253813613805267), (2080, 0.07342230982143524), (2081, 0.031068488300060006), (2082, 0.05698028822981897), (2083, 0.038180177416060626), (2084, 0.0), (2085, 0.0), (2086, 0.18768337412695635), (2087, 0.040291148201269014), (2088, 0.0), (2089, 0.0), (2090, 0.0757614408414158), (2091, 0.0445435403187374), (2092, 0.05613608914238398), (2093, 0.0), (2094, 0.08748177652797065), (2095, 0.019287918745261493), (2096, 0.019492029389636262), (2097, 0.08247860988423225), (2098, 0.0), (2099, 0.0497245158098847), (2100, 0.027277236279499052), (2101, 0.027277236279499052), (2102, 0.04879500364742666), (2103, 0.05727026612409094), (2104, 0.0), (2105, 0.0), (2106, 0.050507627227610534), (2107, 0.07484811885651198), (2108, 0.0), (2109, 0.05455447255899809), (2110, 0.0), (2111, 0.03539961627023944), (2112, 0.04879500364742666), (2113, 0.0), (2114, 0.0), (2115, 0.07333933110610719), (2116, 0.025253813613805267), (2117, 0.05572782125753529), (2118, 0.0), (2119, 0.0), (2120, 0.0757614408414158), (2121, 0.024814583349273257), (2122, 0.024000768036865967), (2123, 0.036369648372665396), (2124, 0.07444375004781978), (2125, 0.0), (2126, 0.058321184351980436), (2127, 0.025253813613805267), (2128, 0.09166984970282112), (2129, 0.01970276015597752), (2130, 0.03671115491071762), (2131, 0.048001536073731935), (2132, 0.0), (2133, 0.05405624776173354), (2134, 0.0445435403187374), (2135, 0.03603749850782236), (2136, 0.03065696697424829), (2137, 0.0), (2138, 0.0), (2139, 0.0), (2140, 0.020869596778242055), (2141, 0.024814583349273257), (2142, 0.09216911430120159), (2143, 0.021128856368212916), (2144, 0.07862136275414389), (2145, 0.024814583349273257), (2146, 0.048001536073731935), (2147, 0.034794450031961056), (2148, 0.1129384878631564), (2149, 0.06590621627456203), (2150, 0.031068488300060006), (2151, 0.018184824186332698), (2152, 0.06113543594544168), (2153, 0.08625819491779428), (2154, 0.03571428571428572), (2155, 0.05241424183609592), (2156, 0.024814583349273257), (2157, 0.01343038273375634), (2158, 0.0), (2159, 0.0), (2160, 0.06185895741317419), (2161, 0.058321184351980436), (2162, 0.07342230982143524), (2163, 0.041239304942116126), (2164, 0.06590621627456203), (2165, 0.031497039417435604), (2166, 0.04091585441924858), (2167, 0.04517539514526256), (2168, 0.012799492126228447), (2169, 0.1129384878631564), (2170, 0.0), (2171, 0.029160592175990218), (2172, 0.02258769757263128), (2173, 0.0497245158098847), (2174, 0.0), (2175, 0.04517539514526256), (2176, 0.06113543594544168), (2177, 0.0), (2178, 0.03340765523905305), (2179, 0.023262105259961776), (2180, 0.06185895741317419), (2181, 0.021398024625545648), (2182, 0.030457245193658635), (2183, 0.040291148201269014), (2184, 0.021398024625545648), (2185, 0.0), (2186, 0.10072787050317253), (2187, 0.038984058779272523), (2188, 0.0), (2189, 0.0), (2190, 0.07614311298414658), (2191, 0.016835875742536845), (2192, 0.0), (2193, 0.03171807398477756), (2194, 0.08359173188630294), (2195, 0.0), (2196, 0.0), (2197, 0.023262105259961776), (2198, 0.0), (2199, 0.027277236279499052), (2200, 0.021128856368212916), (2201, 0.06043672230190352), (2202, 0.09600307214746387), (2203, 0.06788442333021308), (2204, 0.12371791482634839), (2205, 0.0), (2206, 0.04583492485141056), (2207, 0.0576390417704235), (2208, 0.020869596778242055), (2209, 0.0944911182523068), (2210, 0.0), (2211, 0.08559209850218259), (2212, 0.0), (2213, 0.08554823885364438), (2214, 0.02291746242570528), (2215, 0.039840953644479794), (2216, 0.0), (2217, 0.02258769757263128), (2218, 0.05572782125753529), (2219, 0.06338656910463875), (2220, 0.05405624776173354), (2221, 0.0), (2222, 0.025253813613805267), (2223, 0.017546560158589908), (2224, 0.043355498476206004), (2225, 0.0), (2226, 0.03289758474798845), (2227, 0.07444375004781978), (2228, 0.10482848367219184), (2229, 0.0), (2230, 0.0), (2231, 0.026726124191242442), (2232, 0.0890870806374748), (2233, 0.025253813613805267), (2234, 0.0), (2235, 0.09600307214746387), (2236, 0.019287918745261493), (2237, 0.0), (2238, 0.0), (2239, 0.037062465833055065), (2240, 0.04879500364742666), (2241, 0.05910828046793255), (2242, 0.0), (2243, 0.07559289460184544), (2244, 0.054554472558998104), (2245, 0.03779644730092272), (2246, 0.0555936987495826), (2247, 0.0), (2248, 0.02439750182371333), (2249, 0.02037847864848056), (2250, 0.08183170883849716), (2251, 0.09925833339709303), (2252, 0.0668153104781061), (2253, 0.020145574100634507), (2254, 0.05455447255899809), (2255, 0.0), (2256, 0.09258200997725513), (2257, 0.028490144114909487), (2258, 0.037062465833055065), (2259, 0.054554472558998104), (2260, 0.0), (2261, 0.0472455591261534), (2262, 0.015971914124998498), (2263, 0.0), (2264, 0.0), (2265, 0.01970276015597752), (2266, 0.09925833339709303), (2267, 0.026726124191242442), (2268, 0.0), (2269, 0.0), (2270, 0.08017837257372733), (2271, 0.10690449676496977), (2272, 0.020145574100634507), (2273, 0.042796049251091296), (2274, 0.06299407883487121), (2275, 0.05976143046671968), (2276, 0.02037847864848056), (2277, 0.0), (2278, 0.0), (2279, 0.0), (2280, 0.0930484210398471), (2281, 0.050507627227610534), (2282, 0.0), (2283, 0.07862136275414389), (2284, 0.038575837490522985), (2285, 0.023262105259961776), (2286, 0.05506673236607643), (2287, 0.03603749850782236), (2288, 0.0445435403187374), (2289, 0.038223539357821926), (2290, 0.042796049251091296), (2291, 0.015971914124998498), (2292, 0.05698028822981897), (2293, 0.020869596778242055), (2294, 0.04879500364742666), (2295, 0.0), (2296, 0.016835875742536845), (2297, 0.08964214570007953), (2298, 0.043355498476206004), (2299, 0.05976143046671968), (2300, 0.08151391459392224), (2301, 0.05167423893288018), (2302, 0.05455447255899809), (2303, 0.0), (2304, 0.023262105259961776), (2305, 0.037062465833055065), (2306, 0.02988071523335984), (2307, 0.013498731178900972), (2308, 0.0), (2309, 0.053452248382484885), (2310, 0.026726124191242442), (2311, 0.027863910628767644), (2312, 0.06482037235521644), (2313, 0.0), (2314, 0.040291148201269014), (2315, 0.037062465833055065), (2316, 0.024000768036865967), (2317, 0.02988071523335984), (2318, 0.027863910628767644), (2319, 0.0), (2320, 0.05455447255899809), (2321, 0.0), (2322, 0.0), (2323, 0.08547043234472845), (2324, 0.039840953644479794), (2325, 0.037062465833055065), (2326, 0.12262786789699316), (2327, 0.0), (2328, 0.05786375623578448), (2329, 0.042796049251091296), (2330, 0.0), (2331, 0.0668153104781061), (2332, 0.0668153104781061), (2333, 0.11227217828476797), (2334, 0.0), (2335, 0.03065696697424829), (2336, 0.027277236279499052), (2337, 0.02258769757263128), (2338, 0.058321184351980436), (2339, 0.0), (2340, 0.0), (2341, 0.03940552031195504), (2342, 0.07715167498104597), (2343, 0.0), (2344, 0.13791932109184263), (2345, 0.020145574100634507), (2346, 0.052925612402496325), (2347, 0.04583492485141056), (2348, 0.050507627227610534), (2349, 0.03754696307413192), (2350, 0.0), (2351, 0.05506673236607643), (2352, 0.08058229640253803), (2353, 0.03340765523905305), (2354, 0.08849904067559859), (2355, 0.0236227795630767), (2356, 0.04173919355648411), (2357, 0.08451542547285167), (2358, 0.05727026612409094), (2359, 0.0), (2360, 0.0), (2361, 0.0), (2362, 0.0), (2363, 0.037062465833055065), (2364, 0.07018624063435963), (2365, 0.05175491695067656), (2366, 0.039840953644479794), (2367, 0.015534244150030003), (2368, 0.0222717701593687), (2369, 0.03065696697424829), (2370, 0.03539961627023944), (2371, 0.02620712091804796), (2372, 0.0), (2373, 0.03742405942825599), (2374, 0.0), (2375, 0.0), (2376, 0.038575837490522985), (2377, 0.04173919355648411), (2378, 0.054554472558998104), (2379, 0.0), (2380, 0.0), (2381, 0.02988071523335984), (2382, 0.01970276015597752), (2383, 0.02620712091804796), (2384, 0.06776309271789384), (2385, 0.0), (2386, 0.04113063728303114), (2387, 0.06185895741317419), (2388, 0.03571428571428572), (2389, 0.0), (2390, 0.03340765523905305), (2391, 0.0445435403187374), (2392, 0.031497039417435604), (2393, 0.0), (2394, 0.08964214570007953), (2395, 0.06113543594544168), (2396, 0.07715167498104597), (2397, 0.04934637712198267), (2398, 0.0), (2399, 0.02439750182371333), (2400, 0.0472455591261534), (2401, 0.020145574100634507), (2402, 0.0), (2403, 0.02196873875818734), (2404, 0.14414999403128945), (2405, 0.023262105259961776), (2406, 0.05572782125753529), (2407, 0.031497039417435604), (2408, 0.06185895741317419), (2409, 0.040291148201269014), (2410, 0.0), (2411, 0.05506673236607643), (2412, 0.0), (2413, 0.025253813613805267), (2414, 0.020145574100634507), (2415, 0.01801874925391118), (2416, 0.0), (2417, 0.0), (2418, 0.04517539514526256), (2419, 0.021677749238103002), (2420, 0.0), (2421, 0.039840953644479794), (2422, 0.016448792373994225), (2423, 0.042796049251091296), (2424, 0.0), (2425, 0.0), (2426, 0.0), (2427, 0.031497039417435604), (2428, 0.053099424405359155), (2429, 0.0), (2430, 0.01970276015597752), (2431, 0.05241424183609592), (2432, 0.0), (2433, 0.015748519708717802), (2434, 0.030069238966213187), (2435, 0.027863910628767644), (2436, 0.0), (2437, 0.039840953644479794), (2438, 0.020619652471058063), (2439, 0.0684385910829155), (2440, 0.0), (2441, 0.07636035483212125), (2442, 0.0), (2443, 0.027863910628767644), (2444, 0.02258769757263128), (2445, 0.11664236870396087), (2446, 0.02258769757263128), (2447, 0.050507627227610534), (2448, 0.07204880221302937), (2449, 0.04173919355648411), (2450, 0.06185895741317419), (2451, 0.03779644730092272), (2452, 0.0), (2453, 0.08058229640253803), (2454, 0.024000768036865967), (2455, 0.0), (2456, 0.028490144114909487), (2457, 0.0), (2458, 0.016835875742536845), (2459, 0.02439750182371333), (2460, 0.0), (2461, 0.025253813613805267), (2462, 0.0), (2463, 0.02620712091804796), (2464, 0.020619652471058063), (2465, 0.02439750182371333), (2466, 0.08451542547285167), (2467, 0.04075695729696112), (2468, 0.018712029714127994), (2469, 0.02196873875818734), (2470, 0.03671115491071762), (2471, 0.04225771273642583), (2472, 0.08849904067559859), (2473, 0.019090088708030313), (2474, 0.044821072850039764), (2475, 0.04225771273642583), (2476, 0.02865341275306264), (2477, 0.019090088708030313), (2478, 0.0), (2479, 0.05976143046671968), (2480, 0.06900655593423542), (2481, 0.0), (2482, 0.028490144114909487), (2483, 0.025717224993681988), (2484, 0.017251638983558856), (2485, 0.056694670951384085), (2486, 0.0472455591261534), (2487, 0.0), (2488, 0.019287918745261493), (2489, 0.06776309271789384), (2490, 0.06185895741317419), (2491, 0.035093120317179816), (2492, 0.12087344460380703), (2493, 0.02258769757263128), (2494, 0.0), (2495, 0.020869596778242055), (2496, 0.06978631577988532), (2497, 0.0), (2498, 0.05175491695067656), (2499, 0.0), (2500, 0.0236227795630767), (2501, 0.07319250547113998), (2502, 0.021128856368212916), (2503, 0.0), (2504, 0.0), (2505, 0.014409760442605874), (2506, 0.024814583349273257), (2507, 0.050507627227610534), (2508, 0.05241424183609592), (2509, 0.0), (2510, 0.0), (2511, 0.0), (2512, 0.029335732442442877), (2513, 0.051434449987363975), (2514, 0.08347838711296822), (2515, 0.0), (2516, 0.038575837490522985), (2517, 0.0), (2518, 0.06131393394849658), (2519, 0.0), (2520, 0.017109647770728875), (2521, 0.05698028822981897), (2522, 0.021398024625545648), (2523, 0.0), (2524, 0.0), (2525, 0.018184824186332698), (2526, 0.0), (2527, 0.07018624063435963), (2528, 0.041239304942116126), (2529, 0.0), (2530, 0.0), (2531, 0.0), (2532, 0.05241424183609592), (2533, 0.05698028822981897), (2534, 0.0), (2535, 0.0236227795630767), (2536, 0.065033247714309), (2537, 0.021128856368212916), (2538, 0.050507627227610534), (2539, 0.09197090092274487), (2540, 0.043355498476206004), (2541, 0.03421929554145775), (2542, 0.02037847864848056), (2543, 0.0), (2544, 0.0), (2545, 0.01432670637653132), (2546, 0.0), (2547, 0.05727026612409094), (2548, 0.0), (2549, 0.048976736133625444), (2550, 0.0), (2551, 0.03065696697424829), (2552, 0.04393747751637468), (2553, 0.02988071523335984), (2554, 0.0), (2555, 0.04583492485141056), (2556, 0.07881104062391008), (2557, 0.0), (2558, 0.08547043234472845), (2559, 0.049629166698546515), (2560, 0.01970276015597752), (2561, 0.04393747751637468), (2562, 0.02620712091804796), (2563, 0.0), (2564, 0.07862136275414389), (2565, 0.05266806531497234), (2566, 0.027863910628767644), (2567, 0.01620509308880411), (2568, 0.0), (2569, 0.042796049251091296), (2570, 0.04510385844931978), (2571, 0.06978631577988532), (2572, 0.026726124191242442), (2573, 0.08964214570007953), (2574, 0.024000768036865967), (2575, 0.018531232916527533), (2576, 0.0), (2577, 0.05613608914238398), (2578, 0.014580296087995109), (2579, 0.08017837257372733), (2580, 0.0), (2581, 0.029160592175990218), (2582, 0.03340765523905305), (2583, 0.0), (2584, 0.10910894511799621), (2585, 0.02988071523335984), (2586, 0.0), (2587, 0.03241018617760822), (2588, 0.0), (2589, 0.0930484210398471), (2590, 0.1494035761667992), (2591, 0.04075695729696112), (2592, 0.07715167498104597), (2593, 0.04583492485141056), (2594, 0.07018624063435963), (2595, 0.0), (2596, 0.05405624776173354), (2597, 0.0), (2598, 0.044821072850039764), (2599, 0.0), (2600, 0.051434449987363975), (2601, 0.0), (2602, 0.051434449987363975), (2603, 0.03367175148507369), (2604, 0.0), (2605, 0.0), (2606, 0.018531232916527533), (2607, 0.0), (2608, 0.06131393394849658), (2609, 0.0), (2610, 0.0), (2611, 0.019090088708030313), (2612, 0.01769980813511972), (2613, 0.042796049251091296), (2614, 0.0), (2615, 0.09600307214746387), (2616, 0.0222717701593687), (2617, 0.019920476822239897), (2618, 0.0), (2619, 0.0), (2620, 0.0), (2621, 0.0), (2622, 0.027863910628767644), (2623, 0.058321184351980436), (2624, 0.0222717701593687), (2625, 0.025717224993681988), (2626, 0.026726124191242442), (2627, 0.019492029389636262), (2628, 0.028490144114909487), (2629, 0.05091331749765981), (2630, 0.0), (2631, 0.03940552031195504), (2632, 0.023262105259961776), (2633, 0.04583492485141056), (2634, 0.0), (2635, 0.03940552031195504), (2636, 0.0), (2637, 0.0), (2638, 0.08347838711296822), (2639, 0.041239304942116126), (2640, 0.02988071523335984), (2641, 0.021128856368212916), (2642, 0.05786375623578448), (2643, 0.031943828249996996), (2644, 0.0), (2645, 0.051434449987363975), (2646, 0.0), (2647, 0.03450327796711771), (2648, 0.01632557871120848), (2649, 0.051434449987363975), (2650, 0.07715167498104597), (2651, 0.050507627227610534), (2652, 0.1800205749557739), (2653, 0.04886019406213152), (2654, 0.0), (2655, 0.038984058779272523), (2656, 0.08748177652797065), (2657, 0.018184824186332698), (2658, 0.0), (2659, 0.02258769757263128), (2660, 0.07319250547113998), (2661, 0.06776309271789384), (2662, 0.06776309271789384), (2663, 0.016703827619526525), (2664, 0.0), (2665, 0.0), (2666, 0.0), (2667, 0.018184824186332698), (2668, 0.012407291674636629), (2669, 0.021398024625545648), (2670, 0.0), (2671, 0.0), (2672, 0.028490144114909487), (2673, 0.0), (2674, 0.10022296571715915), (2675, 0.18531232916527532), (2676, 0.0), (2677, 0.0), (2678, 0.05506673236607643), (2679, 0.0), (2680, 0.1801874925391118), (2681, 0.07319250547113998), (2682, 0.0), (2683, 0.06590621627456203), (2684, 0.024814583349273257), (2685, 0.0), (2686, 0.06338656910463875), (2687, 0.027277236279499052), (2688, 0.03329225712138565), (2689, 0.0), (2690, 0.025253813613805267), (2691, 0.12598815766974242), (2692, 0.0), (2693, 0.07484811885651198), (2694, 0.0), (2695, 0.0), (2696, 0.04652421051992355), (2697, 0.020869596778242055), (2698, 0.0), (2699, 0.0), (2700, 0.0), (2701, 0.01970276015597752), (2702, 0.0), (2703, 0.021398024625545648), (2704, 0.0668153104781061), (2705, 0.05634361698190111), (2706, 0.0), (2707, 0.04583492485141056), (2708, 0.03241018617760822), (2709, 0.06043672230190352), (2710, 0.09851380077988758), (2711, 0.0), (2712, 0.0), (2713, 0.05455447255899809), (2714, 0.0), (2715, 0.0), (2716, 0.0), (2717, 0.01970276015597752), (2718, 0.0), (2719, 0.0), (2720, 0.01632557871120848), (2721, 0.0), (2722, 0.0), (2723, 0.019920476822239897), (2724, 0.03241018617760822), (2725, 0.0), (2726, 0.0), (2727, 0.0), (2728, 0.0909241209316635), (2729, 0.06299407883487121), (2730, 0.041239304942116126), (2731, 0.051434449987363975), (2732, 0.0), (2733, 0.046291004988627565), (2734, 0.04568586779048795), (2735, 0.0222717701593687), (2736, 0.02258769757263128), (2737, 0.029160592175990218), (2738, 0.03742405942825599), (2739, 0.0), (2740, 0.018184824186332698), (2741, 0.07319250547113998), (2742, 0.0), (2743, 0.08359173188630294), (2744, 0.03340765523905305), (2745, 0.025253813613805267), (2746, 0.025253813613805267), (2747, 0.026726124191242442), (2748, 0.0236227795630767), (2749, 0.03571428571428572), (2750, 0.06338656910463875), (2751, 0.025717224993681988), (2752, 0.0497245158098847), (2753, 0.05698028822981897), (2754, 0.031497039417435604), (2755, 0.07968190728895959), (2756, 0.019920476822239897), (2757, 0.03603749850782236), (2758, 0.01835557745535881), (2759, 0.0), (2760, 0.10350983390135314), (2761, 0.0), (2762, 0.08359173188630294), (2763, 0.043740888263985325), (2764, 0.0), (2765, 0.06113543594544168), (2766, 0.0), (2767, 0.02258769757263128), (2768, 0.0), (2769, 0.058321184351980436), (2770, 0.03779644730092272), (2771, 0.019090088708030313), (2772, 0.02988071523335984), (2773, 0.0), (2774, 0.0), (2775, 0.036369648372665396), (2776, 0.0), (2777, 0.0), (2778, 0.09723055853282467), (2779, 0.03065696697424829), (2780, 0.03241018617760822), (2781, 0.020869596778242055), (2782, 0.019090088708030313), (2783, 0.029160592175990218), (2784, 0.016574838603294898), (2785, 0.06590621627456203), (2786, 0.025717224993681988), (2787, 0.026726124191242442), (2788, 0.019090088708030313), (2789, 0.03241018617760822), (2790, 0.11734292976977151), (2791, 0.0), (2792, 0.03289758474798845), (2793, 0.0236227795630767), (2794, 0.043355498476206004), (2795, 0.0472455591261534), (2796, 0.037062465833055065), (2797, 0.0930484210398471), (2798, 0.04225771273642583), (2799, 0.08671099695241201), (2800, 0.1711841970043652), (2801, 0.03065696697424829), (2802, 0.0), (2803, 0.041239304942116126), (2804, 0.0), (2805, 0.0), (2806, 0.0236227795630767), (2807, 0.0), (2808, 0.058321184351980436), (2809, 0.0), (2810, 0.02439750182371333), (2811, 0.026549712202679578), (2812, 0.02988071523335984), (2813, 0.06113543594544168), (2814, 0.049629166698546515), (2815, 0.021677749238103002), (2816, 0.0), (2817, 0.042796049251091296), (2818, 0.0), (2819, 0.0), (2820, 0.05786375623578448), (2821, 0.043355498476206004), (2822, 0.03367175148507369), (2823, 0.10434798389121028), (2824, 0.07086833868923009), (2825, 0.08347838711296822), (2826, 0.04583492485141056), (2827, 0.0), (2828, 0.04225771273642583), (2829, 0.02196873875818734), (2830, 0.0), (2831, 0.019492029389636262), (2832, 0.04029114820126902), (2833, 0.0), (2834, 0.04173919355648411), (2835, 0.038575837490522985), (2836, 0.08017837257372733), (2837, 0.02620712091804796), (2838, 0.01769980813511972), (2839, 0.0), (2840, 0.0), (2841, 0.02196873875818734), (2842, 0.019090088708030313), (2843, 0.0), (2844, 0.0), (2845, 0.0), (2846, 0.0), (2847, 0.0890870806374748), (2848, 0.04583492485141056), (2849, 0.01889822365046136), (2850, 0.038575837490522985), (2851, 0.0), (2852, 0.05910828046793255), (2853, 0.03450327796711771), (2854, 0.029160592175990218), (2855, 0.03065696697424829), (2856, 0.0), (2857, 0.0), (2858, 0.043355498476206004), (2859, 0.043355498476206004), (2860, 0.03367175148507369), (2861, 0.0), (2862, 0.0), (2863, 0.021128856368212916), (2864, 0.03779644730092272), (2865, 0.0890870806374748), (2866, 0.0), (2867, 0.03421929554145775), (2868, 0.04879500364742666), (2869, 0.05976143046671968), (2870, 0.03340765523905305), (2871, 0.0), (2872, 0.02988071523335984), (2873, 0.03539961627023944), (2874, 0.0), (2875, 0.0555936987495826), (2876, 0.0), (2877, 0.0), (2878, 0.0), (2879, 0.1098436937909367), (2880, 0.03571428571428572), (2881, 0.01343038273375634), (2882, 0.08017837257372733), (2883, 0.04660273245009001), (2884, 0.018184824186332698), (2885, 0.0), (2886, 0.0), (2887, 0.07862136275414389), (2888, 0.017109647770728875), (2889, 0.017251638983558856), (2890, 0.027277236279499052), (2891, 0.0), (2892, 0.020619652471058063), (2893, 0.0), (2894, 0.018184824186332698), (2895, 0.10286889997472795), (2896, 0.0), (2897, 0.07796811755854505), (2898, 0.03940552031195504), (2899, 0.026726124191242442), (2900, 0.01585903699238878), (2901, 0.12198750911856665), (2902, 0.021128856368212916), (2903, 0.03940552031195504), (2904, 0.03241018617760822), (2905, 0.019492029389636262), (2906, 0.04393747751637468), (2907, 0.027277236279499052), (2908, 0.01889822365046136), (2909, 0.020619652471058063), (2910, 0.0), (2911, 0.042796049251091296), (2912, 0.02620712091804796), (2913, 0.02988071523335984), (2914, 0.038575837490522985), (2915, 0.0), (2916, 0.06260879033472616), (2917, 0.0), (2918, 0.0), (2919, 0.10690449676496977), (2920, 0.0), (2921, 0.02291746242570528), (2922, 0.025717224993681988), (2923, 0.0), (2924, 0.019920476822239897), (2925, 0.08964214570007953), (2926, 0.024814583349273257), (2927, 0.0), (2928, 0.051434449987363975), (2929, 0.02258769757263128), (2930, 0.0), (2931, 0.043355498476206004), (2932, 0.10690449676496977), (2933, 0.0), (2934, 0.04075695729696112), (2935, 0.03065696697424829), (2936, 0.023262105259961776), (2937, 0.023262105259961776), (2938, 0.042796049251091296), (2939, 0.027277236279499052), (2940, 0.01889822365046136), (2941, 0.0), (2942, 0.0), (2943, 0.0), (2944, 0.024814583349273257), (2945, 0.07636035483212125), (2946, 0.04075695729696112), (2947, 0.02196873875818734), (2948, 0.0), (2949, 0.0), (2950, 0.0), (2951, 0.0), (2952, 0.0), (2953, 0.0), (2954, 0.0), (2955, 0.02439750182371333), (2956, 0.041239304942116126), (2957, 0.024814583349273257), (2958, 0.0), (2959, 0.020619652471058063), (2960, 0.03463178224047077), (2961, 0.029160592175990218), (2962, 0.029160592175990218), (2963, 0.0684385910829155), (2964, 0.020869596778242055), (2965, 0.034794450031961056), (2966, 0.0), (2967, 0.0), (2968, 0.034794450031961056), (2969, 0.05698028822981897), (2970, 0.10482848367219184), (2971, 0.01585903699238878), (2972, 0.0), (2973, 0.04225771273642583), (2974, 0.0), (2975, 0.0), (2976, 0.027277236279499052), (2977, 0.0), (2978, 0.0), (2979, 0.016835875742536845), (2980, 0.029160592175990218), (2981, 0.0668153104781061), (2982, 0.02196873875818734), (2983, 0.01970276015597752), (2984, 0.08247860988423225), (2985, 0.017251638983558856), (2986, 0.09723055853282465), (2987, 0.05241424183609592), (2988, 0.019920476822239897), (2989, 0.0), (2990, 0.09304842103984709), (2991, 0.0), (2992, 0.0555936987495826), (2993, 0.0), (2994, 0.01970276015597752), (2995, 0.012301695782628073), (2996, 0.0), (2997, 0.021398024625545648), (2998, 0.0), (2999, 0.05976143046671968), (3000, 0.09971550440218321), (3001, 0.04879500364742666), (3002, 0.0890870806374748), (3003, 0.051434449987363975), (3004, 0.11664236870396087), (3005, 0.0472455591261534), (3006, 0.07142857142857144), (3007, 0.021677749238103002), (3008, 0.06776309271789384), (3009, 0.020145574100634507), (3010, 0.020145574100634507), (3011, 0.0445435403187374), (3012, 0.020145574100634507), (3013, 0.03450327796711771), (3014, 0.0236227795630767), (3015, 0.0), (3016, 0.0), (3017, 0.03603749850782236), (3018, 0.018184824186332698), (3019, 0.0), (3020, 0.05613608914238398), (3021, 0.03241018617760822), (3022, 0.040291148201269014), (3023, 0.02620712091804796), (3024, 0.07200230411059791), (3025, 0.1267731382092775), (3026, 0.0), (3027, 0.01889822365046136), (3028, 0.042796049251091296), (3029, 0.054554472558998104), (3030, 0.027713699773684663), (3031, 0.019492029389636262), (3032, 0.019920476822239897), (3033, 0.037062465833055065), (3034, 0.02258769757263128), (3035, 0.02988071523335984), (3036, 0.0), (3037, 0.06338656910463875), (3038, 0.0), (3039, 0.07796811755854505), (3040, 0.0), (3041, 0.0), (3042, 0.020869596778242055), (3043, 0.017251638983558856), (3044, 0.07484811885651198), (3045, 0.0), (3046, 0.0757614408414158), (3047, 0.08547043234472845), (3048, 0.03603749850782236), (3049, 0.0), (3050, 0.02196873875818734), (3051, 0.0), (3052, 0.046291004988627565), (3053, 0.048001536073731935), (3054, 0.05263968047576972), (3055, 0.08547043234472845), (3056, 0.050507627227610534), (3057, 0.03241018617760822), (3058, 0.0), (3059, 0.0), (3060, 0.0), (3061, 0.013638618139749526), (3062, 0.01801874925391118), (3063, 0.03241018617760822), (3064, 0.041239304942116126), (3065, 0.0), (3066, 0.059761430466719695), (3067, 0.0), (3068, 0.0), (3069, 0.0), (3070, 0.0), (3071, 0.0), (3072, 0.02988071523335984), (3073, 0.0), (3074, 0.0), (3075, 0.024814583349273257), (3076, 0.09699794920789631), (3077, 0.06131393394849658), (3078, 0.08485552916276634), (3079, 0.0), (3080, 0.040291148201269014), (3081, 0.06299407883487121), (3082, 0.0), (3083, 0.03340765523905305), (3084, 0.02291746242570528), (3085, 0.050507627227610534), (3086, 0.08359173188630294), (3087, 0.026726124191242442), (3088, 0.0472455591261534), (3089, 0.0472455591261534), (3090, 0.08151391459392224), (3091, 0.042796049251091296), (3092, 0.05241424183609592), (3093, 0.053571428571428575), (3094, 0.049629166698546515), (3095, 0.02258769757263128), (3096, 0.0), (3097, 0.011631052629980888), (3098, 0.0), (3099, 0.0), (3100, 0.02037847864848056), (3101, 0.0), (3102, 0.06419407387663695), (3103, 0.05976143046671968), (3104, 0.01835557745535881), (3105, 0.02620712091804796), (3106, 0.011765520133375293), (3107, 0.01889822365046136), (3108, 0.035093120317179816), (3109, 0.024814583349273257), (3110, 0.024814583349273257), (3111, 0.03289758474798845), (3112, 0.07200230411059791), (3113, 0.01889822365046136), (3114, 0.024000768036865967), (3115, 0.02439750182371333), (3116, 0.025253813613805267), (3117, 0.03065696697424829), (3118, 0.0), (3119, 0.031497039417435604), (3120, 0.05910828046793255), (3121, 0.0), (3122, 0.024814583349273257), (3123, 0.025253813613805267), (3124, 0.06299407883487121), (3125, 0.037062465833055065), (3126, 0.0), (3127, 0.0472455591261534), (3128, 0.03340765523905305), (3129, 0.027863910628767644), (3130, 0.03571428571428572), (3131, 0.048001536073731935), (3132, 0.05405624776173354), (3133, 0.07862136275414389), (3134, 0.0), (3135, 0.0), (3136, 0.0), (3137, 0.06875238727711584), (3138, 0.04173919355648411), (3139, 0.0), (3140, 0.04517539514526256), (3141, 0.02988071523335984), (3142, 0.07929518496194389), (3143, 0.053452248382484885), (3144, 0.021677749238103002), (3145, 0.0), (3146, 0.03571428571428572), (3147, 0.20059435495071945), (3148, 0.05241424183609592), (3149, 0.0445435403187374), (3150, 0.02291746242570528), (3151, 0.0), (3152, 0.08451542547285167), (3153, 0.0), (3154, 0.0), (3155, 0.05976143046671968), (3156, 0.0), (3157, 0.054554472558998104), (3158, 0.05091331749765981), (3159, 0.10022296571715915), (3160, 0.0), (3161, 0.0), (3162, 0.08773280079294954), (3163, 0.051434449987363975), (3164, 0.0), (3165, 0.0), (3166, 0.14978617237881955), (3167, 0.03065696697424829), (3168, 0.0), (3169, 0.041239304942116126), (3170, 0.023262105259961776), (3171, 0.09166984970282112), (3172, 0.0), (3173, 0.04393747751637468), (3174, 0.03539961627023944), (3175, 0.039840953644479794), (3176, 0.050507627227610534), (3177, 0.03065696697424829), (3178, 0.03340765523905305), (3179, 0.04393747751637468), (3180, 0.03450327796711771), (3181, 0.026726124191242442), (3182, 0.0), (3183, 0.0), (3184, 0.040291148201269014), (3185, 0.0), (3186, 0.0), (3187, 0.0), (3188, 0.019287918745261493), (3189, 0.01416481749175184), (3190, 0.02037847864848056), (3191, 0.0), (3192, 0.035093120317179816), (3193, 0.07881104062391008), (3194, 0.0), (3195, 0.0), (3196, 0.02865341275306264), (3197, 0.025717224993681988), (3198, 0.0), (3199, 0.0), (3200, 0.0), (3201, 0.07204880221302937), (3202, 0.0), (3203, 0.06629935441317959), (3204, 0.039840953644479794), (3205, 0.06260879033472616), (3206, 0.038984058779272523), (3207, 0.028490144114909487), (3208, 0.03671115491071762), (3209, 0.0), (3210, 0.01889822365046136), (3211, 0.054554472558998104), (3212, 0.08425254637422694), (3213, 0.08359173188630294), (3214, 0.020869596778242055), (3215, 0.019090088708030313), (3216, 0.0), (3217, 0.031497039417435604), (3218, 0.0), (3219, 0.05976143046671968), (3220, 0.02196873875818734), (3221, 0.029160592175990218), (3222, 0.0), (3223, 0.0), (3224, 0.05572782125753529), (3225, 0.018531232916527533), (3226, 0.0), (3227, 0.027277236279499052), (3228, 0.05626864207579297), (3229, 0.07715167498104597), (3230, 0.01356813385323143), (3231, 0.01835557745535881), (3232, 0.0), (3233, 0.021677749238103002), (3234, 0.03065696697424829), (3235, 0.0985138007798876), (3236, 0.0445435403187374), (3237, 0.0545544725589981), (3238, 0.1145873121285264), (3239, 0.027277236279499052), (3240, 0.0), (3241, 0.0), (3242, 0.0), (3243, 0.0), (3244, 0.038984058779272523), (3245, 0.0), (3246, 0.05727026612409094), (3247, 0.048976736133625444), (3248, 0.03571428571428572), (3249, 0.0), (3250, 0.11135885079684349), (3251, 0.0), (3252, 0.027863910628767644), (3253, 0.02620712091804796), (3254, 0.0), (3255, 0.199204768222399), (3256, 0.08559209850218259), (3257, 0.02291746242570528), (3258, 0.030860669992418377), (3259, 0.0), (3260, 0.031497039417435604), (3261, 0.04583492485141056), (3262, 0.0), (3263, 0.09600307214746387), (3264, 0.04879500364742666), (3265, 0.024000768036865967), (3266, 0.01769980813511972), (3267, 0.0), (3268, 0.0), (3269, 0.0), (3270, 0.0), (3271, 0.03340765523905305), (3272, 0.03289758474798845), (3273, 0.0), (3274, 0.04510385844931978), (3275, 0.0), (3276, 0.0), (3277, 0.09600307214746387), (3278, 0.0668153104781061), (3279, 0.031497039417435604), (3280, 0.027277236279499052), (3281, 0.0), (3282, 0.0), (3283, 0.0), (3284, 0.06338656910463875), (3285, 0.020145574100634507), (3286, 0.0), (3287, 0.0), (3288, 0.10022296571715915), (3289, 0.10910894511799621), (3290, 0.03065696697424829), (3291, 0.019920476822239897), (3292, 0.021128856368212916), (3293, 0.0), (3294, 0.04070440155969429), (3295, 0.04393747751637468), (3296, 0.0), (3297, 0.07200230411059791), (3298, 0.03450327796711771), (3299, 0.02196873875818734), (3300, 0.019090088708030313), (3301, 0.09035079029052512), (3302, 0.0), (3303, 0.06131393394849658), (3304, 0.0), (3305, 0.01970276015597752), (3306, 0.02620712091804796), (3307, 0.07715167498104597), (3308, 0.08547043234472845), (3309, 0.07342230982143524), (3310, 0.03742405942825599), (3311, 0.0), (3312, 0.0), (3313, 0.05634361698190111), (3314, 0.048001536073731935), (3315, 0.0), (3316, 0.054554472558998104), (3317, 0.0), (3318, 0.0), (3319, 0.0), (3320, 0.06590621627456203), (3321, 0.04934637712198267), (3322, 0.12198750911856665), (3323, 0.06185895741317419), (3324, 0.01620509308880411), (3325, 0.0), (3326, 0.05263968047576972), (3327, 0.03065696697424829), (3328, 0.0), (3329, 0.0), (3330, 0.018531232916527533), (3331, 0.024814583349273257), (3332, 0.041239304942116126), (3333, 0.11118739749916519), (3334, 0.02439750182371333), (3335, 0.031497039417435604), (3336, 0.053452248382484885), (3337, 0.10101525445522107), (3338, 0.0), (3339, 0.07018624063435963), (3340, 0.21677749238103003), (3341, 0.0), (3342, 0.0), (3343, 0.0), (3344, 0.034794450031961056), (3345, 0.0), (3346, 0.06776309271789384), (3347, 0.22587697572631282), (3348, 0.0), (3349, 0.0), (3350, 0.0), (3351, 0.0), (3352, 0.05698028822981897), (3353, 0.050507627227610534), (3354, 0.0472455591261534), (3355, 0.13944333775567927), (3356, 0.07444375004781978), (3357, 0.08347838711296822), (3358, 0.021128856368212916), (3359, 0.0), (3360, 0.11013346473215288), (3361, 0.01585903699238878), (3362, 0.025253813613805267), (3363, 0.07412493166611013), (3364, 0.027863910628767644), (3365, 0.07200230411059791), (3366, 0.0), (3367, 0.029160592175990218), (3368, 0.03571428571428572), (3369, 0.06776309271789384), (3370, 0.05910828046793255), (3371, 0.01889822365046136), (3372, 0.014847846772912466), (3373, 0.0), (3374, 0.053452248382484885), (3375, 0.0), (3376, 0.050507627227610534), (3377, 0.04920678313051229), (3378, 0.0), (3379, 0.02335072312471522), (3380, 0.05455447255899809), (3381, 0.0), (3382, 0.014580296087995109), (3383, 0.0), (3384, 0.058321184351980436), (3385, 0.018184824186332698), (3386, 0.02258769757263128), (3387, 0.02439750182371333), (3388, 0.0), (3389, 0.037062465833055065), (3390, 0.03603749850782236), (3391, 0.0), (3392, 0.0), (3393, 0.0), (3394, 0.024000768036865967), (3395, 0.0), (3396, 0.09600307214746387), (3397, 0.0), (3398, 0.05572782125753529), (3399, 0.05455447255899809), (3400, 0.0), (3401, 0.06260879033472616), (3402, 0.020869596778242055), (3403, 0.049629166698546515), (3404, 0.025367314471592052), (3405, 0.053099424405359155), (3406, 0.0643489452087787), (3407, 0.05727026612409094), (3408, 0.05506673236607643), (3409, 0.04583492485141056), (3410, 0.0222717701593687), (3411, 0.0), (3412, 0.027277236279499052), (3413, 0.03065696697424829), (3414, 0.03671115491071762), (3415, 0.0), (3416, 0.042796049251091296), (3417, 0.049629166698546515), (3418, 0.020619652471058063), (3419, 0.01697110583255327), (3420, 0.029160592175990218), (3421, 0.05241424183609592), (3422, 0.01970276015597752), (3423, 0.0), (3424, 0.0), (3425, 0.0), (3426, 0.0), (3427, 0.04225771273642583), (3428, 0.09035079029052513), (3429, 0.02620712091804796), (3430, 0.0), (3431, 0.04568586779048795), (3432, 0.05698028822981897), (3433, 0.10309826235529032), (3434, 0.020619652471058063), (3435, 0.0890870806374748), (3436, 0.031497039417435604), (3437, 0.08748177652797065), (3438, 0.0757614408414158), (3439, 0.0), (3440, 0.020619652471058063), (3441, 0.08351913809763262), (3442, 0.025253813613805267), (3443, 0.037062465833055065), (3444, 0.021398024625545648), (3445, 0.0), (3446, 0.0236227795630767), (3447, 0.0), (3448, 0.0), (3449, 0.024000768036865967), (3450, 0.02291746242570528), (3451, 0.0), (3452, 0.038575837490522985), (3453, 0.0), (3454, 0.017109647770728875), (3455, 0.0), (3456, 0.0), (3457, 0.0), (3458, 0.03571428571428572), (3459, 0.0497245158098847), (3460, 0.0), (3461, 0.0), (3462, 0.0), (3463, 0.02620712091804796), (3464, 0.07881104062391008), (3465, 0.0), (3466, 0.021398024625545648), (3467, 0.027277236279499052), (3468, 0.02439750182371333), (3469, 0.0), (3470, 0.02258769757263128), (3471, 0.024000768036865967), (3472, 0.020145574100634507), (3473, 0.05910828046793255), (3474, 0.0), (3475, 0.038984058779272523), (3476, 0.018184824186332698), (3477, 0.0), (3478, 0.08151391459392224), (3479, 0.0), (3480, 0.0), (3481, 0.15228622596829317), (3482, 0.0), (3483, 0.02988071523335984), (3484, 0.03340765523905305), (3485, 0.019287918745261493), (3486, 0.01356813385323143), (3487, 0.019920476822239897), (3488, 0.029160592175990218), (3489, 0.03241018617760822), (3490, 0.054554472558998104), (3491, 0.029160592175990218), (3492, 0.029160592175990218), (3493, 0.09643959372630746), (3494, 0.03571428571428572), (3495, 0.020145574100634507), (3496, 0.0668153104781061), (3497, 0.038575837490522985), (3498, 0.0668153104781061), (3499, 0.0), (3500, 0.0), (3501, 0.039840953644479794), (3502, 0.0), (3503, 0.023262105259961776), (3504, 0.016448792373994225), (3505, 0.0), (3506, 0.0), (3507, 0.0), (3508, 0.05506673236607643), (3509, 0.025253813613805267), (3510, 0.06131393394849658), (3511, 0.06978631577988532), (3512, 0.04517539514526256), (3513, 0.06299407883487121), (3514, 0.0), (3515, 0.048001536073731935), (3516, 0.0), (3517, 0.0), (3518, 0.020869596778242055), (3519, 0.0), (3520, 0.0747017880833996), (3521, 0.04539206495016018), (3522, 0.030860669992418377), (3523, 0.0), (3524, 0.0), (3525, 0.03340765523905305), (3526, 0.04583492485141056), (3527, 0.0668153104781061), (3528, 0.06482037235521644), (3529, 0.0), (3530, 0.0), (3531, 0.0), (3532, 0.0), (3533, 0.0), (3534, 0.021677749238103002), (3535, 0.0), (3536, 0.0), (3537, 0.051434449987363975), (3538, 0.020145574100634507), (3539, 0.025253813613805267), (3540, 0.0), (3541, 0.08347838711296822), (3542, 0.0), (3543, 0.02291746242570528), (3544, 0.038575837490522985), (3545, 0.06629935441317959), (3546, 0.0), (3547, 0.031497039417435604), (3548, 0.029160592175990218), (3549, 0.06978631577988532), (3550, 0.0), (3551, 0.0), (3552, 0.0472455591261534), (3553, 0.05455447255899809), (3554, 0.02620712091804796), (3555, 0.0), (3556, 0.01785714285714286), (3557, 0.09925833339709303), (3558, 0.10690449676496977), (3559, 0.019920476822239897), (3560, 0.06388765649999399), (3561, 0.0), (3562, 0.10189239324240279), (3563, 0.0), (3564, 0.0), (3565, 0.018712029714127994), (3566, 0.0), (3567, 0.06131393394849658), (3568, 0.0472455591261534), (3569, 0.020869596778242055), (3570, 0.036369648372665396), (3571, 0.021398024625545648), (3572, 0.053452248382484885), (3573, 0.0222717701593687), (3574, 0.040291148201269014), (3575, 0.04583492485141056), (3576, 0.017109647770728875), (3577, 0.06343614796955512), (3578, 0.0), (3579, 0.03340765523905305), (3580, 0.0), (3581, 0.0), (3582, 0.054554472558998104), (3583, 0.03171807398477756), (3584, 0.0), (3585, 0.0222717701593687), (3586, 0.048001536073731935), (3587, 0.014245072057454743), (3588, 0.05613608914238398), (3589, 0.0), (3590, 0.027863910628767644), (3591, 0.02988071523335984), (3592, 0.038180177416060626), (3593, 0.05241424183609592), (3594, 0.0445435403187374), (3595, 0.12087344460380704), (3596, 0.08485552916276634), (3597, 0.0), (3598, 0.0), (3599, 0.01697110583255327), (3600, 0.0), (3601, 0.0), (3602, 0.0668153104781061), (3603, 0.02620712091804796), (3604, 0.015748519708717802), (3605, 0.043355498476206004), (3606, 0.0), (3607, 0.03450327796711771), (3608, 0.016835875742536845), (3609, 0.0), (3610, 0.06260879033472616), (3611, 0.038984058779272523), (3612, 0.009878259746169996), (3613, 0.0), (3614, 0.08058229640253803), (3615, 0.03340765523905305), (3616, 0.019492029389636262), (3617, 0.07614311298414658), (3618, 0.0), (3619, 0.0), (3620, 0.06113543594544168), (3621, 0.08547043234472845), (3622, 0.10699012312772824), (3623, 0.03450327796711771), (3624, 0.04393747751637468), (3625, 0.0), (3626, 0.04393747751637468), (3627, 0.05976143046671968), (3628, 0.06185895741317419), (3629, 0.0), (3630, 0.053571428571428575), (3631, 0.01889822365046136), (3632, 0.01513068831672006), (3633, 0.0), (3634, 0.0), (3635, 0.0), (3636, 0.02988071523335984), (3637, 0.040291148201269014), (3638, 0.059761430466719695), (3639, 0.024000768036865967), (3640, 0.01835557745535881), (3641, 0.050507627227610534), (3642, 0.0), (3643, 0.03671115491071762), (3644, 0.028490144114909487), (3645, 0.0), (3646, 0.059761430466719695), (3647, 0.020145574100634507), (3648, 0.018712029714127994), (3649, 0.0), (3650, 0.026726124191242442), (3651, 0.0), (3652, 0.0), (3653, 0.018712029714127994), (3654, 0.019287918745261493), (3655, 0.0236227795630767), (3656, 0.0), (3657, 0.021677749238103002), (3658, 0.016835875742536845), (3659, 0.027863910628767644), (3660, 0.020869596778242055), (3661, 0.0), (3662, 0.018184824186332698), (3663, 0.08359173188630294), (3664, 0.04075695729696112), (3665, 0.02988071523335984), (3666, 0.040291148201269014), (3667, 0.0), (3668, 0.010101525445522107), (3669, 0.0), (3670, 0.032097036938318474), (3671, 0.08017837257372733), (3672, 0.013167016328743083), (3673, 0.08451542547285167), (3674, 0.05241424183609592), (3675, 0.04075695729696112), (3676, 0.0), (3677, 0.04393747751637468), (3678, 0.027863910628767644), (3679, 0.0472455591261534), (3680, 0.0), (3681, 0.06343614796955512), (3682, 0.024814583349273257), (3683, 0.0668153104781061), (3684, 0.0), (3685, 0.0), (3686, 0.029160592175990218), (3687, 0.07715167498104597), (3688, 0.02620712091804796), (3689, 0.020619652471058063), (3690, 0.0), (3691, 0.025253813613805267), (3692, 0.0445435403187374), (3693, 0.0), (3694, 0.06131393394849658), (3695, 0.021398024625545648), (3696, 0.015971914124998498), (3697, 0.020869596778242055), (3698, 0.0), (3699, 0.020145574100634507), (3700, 0.06788442333021308), (3701, 0.04075695729696112), (3702, 0.0), (3703, 0.038180177416060626), (3704, 0.038984058779272523), (3705, 0.03539961627023944), (3706, 0.025717224993681988), (3707, 0.0), (3708, 0.0), (3709, 0.0), (3710, 0.0), (3711, 0.03065696697424829), (3712, 0.024814583349273257), (3713, 0.01620509308880411), (3714, 0.0), (3715, 0.0), (3716, 0.05976143046671968), (3717, 0.042796049251091296), (3718, 0.0), (3719, 0.0), (3720, 0.07715167498104597), (3721, 0.09723055853282467), (3722, 0.0), (3723, 0.0472455591261534), (3724, 0.03340765523905305), (3725, 0.0), (3726, 0.0), (3727, 0.020869596778242055), (3728, 0.06482037235521644), (3729, 0.019920476822239897), (3730, 0.12262786789699316), (3731, 0.05263968047576972), (3732, 0.014580296087995109), (3733, 0.03340765523905305), (3734, 0.054840849710708184), (3735, 0.0), (3736, 0.0757614408414158), (3737, 0.018531232916527533), (3738, 0.019492029389636262), (3739, 0.0737851670126194), (3740, 0.05219167504794159), (3741, 0.0), (3742, 0.0), (3743, 0.016835875742536845), (3744, 0.0), (3745, 0.024814583349273257), (3746, 0.02291746242570528), (3747, 0.0222717701593687), (3748, 0.038984058779272523), (3749, 0.0), (3750, 0.021128856368212916), (3751, 0.0), (3752, 0.042796049251091296), (3753, 0.03450327796711771), (3754, 0.023262105259961776), (3755, 0.06338656910463875), (3756, 0.09869275424396536), (3757, 0.06855106213838523), (3758, 0.1336306209562122), (3759, 0.019492029389636262), (3760, 0.02258769757263128), (3761, 0.02258769757263128), (3762, 0.01785714285714286), (3763, 0.0), (3764, 0.04393747751637468), (3765, 0.024000768036865967), (3766, 0.024000768036865967), (3767, 0.05698028822981897), (3768, 0.02620712091804796), (3769, 0.0), (3770, 0.20203050891044214), (3771, 0.0), (3772, 0.0), (3773, 0.0), (3774, 0.0), (3775, 0.03241018617760822), (3776, 0.0), (3777, 0.0), (3778, 0.024000768036865967), (3779, 0.0), (3780, 0.04583492485141056), (3781, 0.028490144114909487), (3782, 0.018712029714127994), (3783, 0.04075695729696112), (3784, 0.0), (3785, 0.0472455591261534), (3786, 0.05698028822981897), (3787, 0.0), (3788, 0.01785714285714286), (3789, 0.0), (3790, 0.02258769757263128), (3791, 0.04539206495016018), (3792, 0.02898855178262242), (3793, 0.0472455591261534), (3794, 0.0), (3795, 0.03742405942825599), (3796, 0.0), (3797, 0.012918559733220045), (3798, 0.0), (3799, 0.0), (3800, 0.026997462357801944), (3801, 0.07796811755854505), (3802, 0.0), (3803, 0.0), (3804, 0.0), (3805, 0.06043672230190352), (3806, 0.05910828046793255), (3807, 0.0), (3808, 0.0), (3809, 0.044821072850039764), (3810, 0.03557340040884368), (3811, 0.0), (3812, 0.01801874925391118), (3813, 0.03421929554145775), (3814, 0.05727026612409094), (3815, 0.0), (3816, 0.04393747751637468), (3817, 0.0), (3818, 0.0), (3819, 0.0), (3820, 0.0), (3821, 0.0), (3822, 0.01785714285714286), (3823, 0.0), (3824, 0.027277236279499052), (3825, 0.041239304942116126), (3826, 0.0), (3827, 0.027713699773684663), (3828, 0.0), (3829, 0.03450327796711771), (3830, 0.037062465833055065), (3831, 0.016703827619526525), (3832, 0.12964074471043288), (3833, 0.0), (3834, 0.025717224993681988), (3835, 0.0), (3836, 0.04225771273642583), (3837, 0.0), (3838, 0.020145574100634507), (3839, 0.08547043234472845), (3840, 0.08964214570007953), (3841, 0.05241424183609592), (3842, 0.05572782125753529), (3843, 0.01889822365046136), (3844, 0.03671115491071762), (3845, 0.020145574100634507), (3846, 0.06131393394849658), (3847, 0.0), (3848, 0.01785714285714286), (3849, 0.03539961627023944), (3850, 0.0), (3851, 0.08787495503274936), (3852, 0.021398024625545648), (3853, 0.039840953644479794), (3854, 0.03571428571428572), (3855, 0.019920476822239897), (3856, 0.10690449676496977), (3857, 0.07862136275414389), (3858, 0.028490144114909487), (3859, 0.12076147288491199), (3860, 0.023262105259961776), (3861, 0.058321184351980436), (3862, 0.06213697660012001), (3863, 0.05976143046671968), (3864, 0.0), (3865, 0.051434449987363975), (3866, 0.024000768036865967), (3867, 0.0), (3868, 0.05241424183609592), (3869, 0.03539961627023944), (3870, 0.0), (3871, 0.0), (3872, 0.0), (3873, 0.03217447260438935), (3874, 0.04225771273642583), (3875, 0.058321184351980436), (3876, 0.01785714285714286), (3877, 0.027277236279499052), (3878, 0.02037847864848056), (3879, 0.05506673236607643), (3880, 0.016087236302194673), (3881, 0.018712029714127994), (3882, 0.0), (3883, 0.053452248382484885), (3884, 0.0), (3885, 0.0), (3886, 0.027863910628767644), (3887, 0.0), (3888, 0.11572751247156896), (3889, 0.0), (3890, 0.19200614429492774), (3891, 0.028490144114909487), (3892, 0.015328483487124145), (3893, 0.0), (3894, 0.021677749238103002), (3895, 0.07319250547113998), (3896, 0.0), (3897, 0.012461119656980671), (3898, 0.05572782125753529), (3899, 0.07273929674533079), (3900, 0.0), (3901, 0.026726124191242442), (3902, 0.06185895741317419), (3903, 0.0), (3904, 0.0), (3905, 0.0684385910829155), (3906, 0.01113588507968435), (3907, 0.09545044354015156), (3908, 0.06530231484483393), (3909, 0.05910828046793255), (3910, 0.018531232916527533), (3911, 0.05241424183609592), (3912, 0.041239304942116126), (3913, 0.029335732442442877), (3914, 0.06900655593423542), (3915, 0.021677749238103002), (3916, 0.0445435403187374), (3917, 0.0), (3918, 0.06299407883487121), (3919, 0.0), (3920, 0.019287918745261493), (3921, 0.0), (3922, 0.0), (3923, 0.0), (3924, 0.02620712091804796), (3925, 0.0), (3926, 0.0445435403187374), (3927, 0.0), (3928, 0.0), (3929, 0.053452248382484885), (3930, 0.01835557745535881), (3931, 0.0), (3932, 0.0), (3933, 0.025717224993681988), (3934, 0.07968190728895959), (3935, 0.02037847864848056), (3936, 0.0), (3937, 0.036369648372665396), (3938, 0.0), (3939, 0.023262105259961776), (3940, 0.03671115491071762), (3941, 0.03450327796711771), (3942, 0.016703827619526525), (3943, 0.0), (3944, 0.0), (3945, 0.04583492485141056), (3946, 0.07862136275414389), (3947, 0.029514066805047763), (3948, 0.06256112470898545), (3949, 0.07142857142857144), (3950, 0.053099424405359155), (3951, 0.03738335897094201), (3952, 0.02258769757263128), (3953, 0.0), (3954, 0.027863910628767644), (3955, 0.0), (3956, 0.0), (3957, 0.03571428571428572), (3958, 0.0), (3959, 0.021398024625545648), (3960, 0.02583711946644009), (3961, 0.014409760442605874), (3962, 0.031497039417435604), (3963, 0.06388765649999399), (3964, 0.027863910628767644), (3965, 0.0222717701593687), (3966, 0.0), (3967, 0.05698028822981897), (3968, 0.10286889997472795), (3969, 0.0), (3970, 0.0), (3971, 0.029160592175990218), (3972, 0.11952286093343936), (3973, 0.05572782125753529), (3974, 0.08964214570007953), (3975, 0.08748177652797065), (3976, 0.02988071523335984), (3977, 0.0), (3978, 0.06900655593423542), (3979, 0.05241424183609592), (3980, 0.0), (3981, 0.048592953074986255), (3982, 0.027863910628767644), (3983, 0.025717224993681988), (3984, 0.0944911182523068), (3985, 0.06482037235521644), (3986, 0.0555936987495826), (3987, 0.02439750182371333), (3988, 0.06900655593423542), (3989, 0.0), (3990, 0.01889822365046136), (3991, 0.04075695729696112), (3992, 0.056694670951384085), (3993, 0.0), (3994, 0.027277236279499052), (3995, 0.0), (3996, 0.0), (3997, 0.06958890006392211), (3998, 0.0), (3999, 0.049629166698546515), (4000, 0.03241018617760822), (4001, 0.0), (4002, 0.02881952088521175), (4003, 0.016087236302194673), (4004, 0.03571428571428572), (4005, 0.04173919355648411), (4006, 0.0), (4007, 0.0), (4008, 0.0), (4009, 0.02258769757263128), (4010, 0.12964074471043288), (4011, 0.03065696697424829), (4012, 0.017109647770728875), (4013, 0.01769980813511972), (4014, 0.0), (4015, 0.07610194341477616), (4016, 0.0), (4017, 0.016574838603294898), (4018, 0.08183170883849716), (4019, 0.026997462357801944), (4020, 0.0), (4021, 0.0), (4022, 0.016448792373994225), (4023, 0.0), (4024, 0.04113063728303114), (4025, 0.0), (4026, 0.0), (4027, 0.0), (4028, 0.0), (4029, 0.026726124191242442), (4030, 0.0), (4031, 0.021128856368212916), (4032, 0.0), (4033, 0.0), (4034, 0.0), (4035, 0.0), (4036, 0.0), (4037, 0.04652421051992355), (4038, 0.05241424183609592), (4039, 0.0236227795630767), (4040, 0.03241018617760822), (4041, 0.03571428571428572), (4042, 0.0), (4043, 0.016448792373994225), (4044, 0.06131393394849658), (4045, 0.020619652471058063), (4046, 0.024814583349273257), (4047, 0.020619652471058063), (4048, 0.06256112470898545), (4049, 0.0), (4050, 0.026334032657486166), (4051, 0.0), (4052, 0.0), (4053, 0.0), (4054, 0.05572782125753529), (4055, 0.0222717701593687), (4056, 0.0), (4057, 0.12262786789699316), (4058, 0.02291746242570528), (4059, 0.09009374626955591), (4060, 0.0), (4061, 0.054554472558998104), (4062, 0.07412493166611013), (4063, 0.01970276015597752), (4064, 0.03571428571428572), (4065, 0.02196873875818734), (4066, 0.06131393394849658), (4067, 0.056694670951384085), (4068, 0.018184824186332698), (4069, 0.0), (4070, 0.0), (4071, 0.0), (4072, 0.08359173188630294), (4073, 0.02865341275306264), (4074, 0.02988071523335984), (4075, 0.06900655593423542), (4076, 0.03241018617760822), (4077, 0.2138343008619249), (4078, 0.021677749238103002), (4079, 0.021677749238103002), (4080, 0.07881104062391008), (4081, 0.0), (4082, 0.059028133610095526), (4083, 0.05910828046793255), (4084, 0.018712029714127994), (4085, 0.0), (4086, 0.02196873875818734), (4087, 0.08151391459392224), (4088, 0.048976736133625444), (4089, 0.042796049251091296), (4090, 0.02196873875818734), (4091, 0.024814583349273257), (4092, 0.01494035761667992), (4093, 0.0), (4094, 0.026726124191242442), (4095, 0.04393747751637468), (4096, 0.07881104062391008), (4097, 0.0), (4098, 0.06338656910463875), (4099, 0.04879500364742666), (4100, 0.015328483487124145), (4101, 0.0), (4102, 0.01785714285714286), (4103, 0.030860669992418377), (4104, 0.0), (4105, 0.03367175148507369), (4106, 0.03217447260438935), (4107, 0.0), (4108, 0.0), (4109, 0.0222717701593687), (4110, 0.0), (4111, 0.0), (4112, 0.02439750182371333), (4113, 0.024000768036865967), (4114, 0.0), (4115, 0.06590621627456203), (4116, 0.011857800136281226), (4117, 0.07484811885651198), (4118, 0.0), (4119, 0.024814583349273257), (4120, 0.03289758474798845), (4121, 0.0), (4122, 0.0), (4123, 0.05613608914238398), (4124, 0.041239304942116126), (4125, 0.04583492485141056), (4126, 0.0), (4127, 0.02196873875818734), (4128, 0.058321184351980436), (4129, 0.0367496968162519), (4130, 0.06299407883487121), (4131, 0.03065696697424829), (4132, 0.028490144114909487), (4133, 0.08849904067559859), (4134, 0.021677749238103002), (4135, 0.08748177652797065), (4136, 0.0), (4137, 0.08359173188630294), (4138, 0.033149677206589796), (4139, 0.0668153104781061), (4140, 0.0), (4141, 0.0236227795630767), (4142, 0.043355498476206004), (4143, 0.02291746242570528), (4144, 0.0), (4145, 0.027863910628767644), (4146, 0.05698028822981897), (4147, 0.07412493166611013), (4148, 0.10072787050317253), (4149, 0.031497039417435604), (4150, 0.050507627227610534), (4151, 0.03463178224047077), (4152, 0.04879500364742666), (4153, 0.0), (4154, 0.016448792373994225), (4155, 0.020145574100634507), (4156, 0.021677749238103002), (4157, 0.0), (4158, 0.0), (4159, 0.025367314471592052), (4160, 0.036369648372665396), (4161, 0.05572782125753529), (4162, 0.02988071523335984), (4163, 0.01785714285714286), (4164, 0.021677749238103002), (4165, 0.031497039417435604), (4166, 0.07444375004781978), (4167, 0.10699012312772824), (4168, 0.0), (4169, 0.08485552916276634), (4170, 0.0), (4171, 0.0), (4172, 0.08058229640253803), (4173, 0.0445435403187374), (4174, 0.0), (4175, 0.021128856368212916), (4176, 0.0), (4177, 0.027277236279499052), (4178, 0.016835875742536845), (4179, 0.0), (4180, 0.05727026612409094), (4181, 0.05091331749765981), (4182, 0.020145574100634507), (4183, 0.03065696697424829), (4184, 0.0), (4185, 0.0), (4186, 0.0), (4187, 0.040291148201269014), (4188, 0.018531232916527533), (4189, 0.0), (4190, 0.020869596778242055), (4191, 0.058321184351980436), (4192, 0.08359173188630294), (4193, 0.0), (4194, 0.0555936987495826), (4195, 0.027863910628767644), (4196, 0.050507627227610534), (4197, 0.0), (4198, 0.054554472558998104), (4199, 0.040291148201269014), (4200, 0.05219167504794159), (4201, 0.0), (4202, 0.027277236279499052), (4203, 0.02620712091804796), (4204, 0.0), (4205, 0.020619652471058063), (4206, 0.0), (4207, 0.03367175148507369), (4208, 0.024814583349273257), (4209, 0.0), (4210, 0.06338656910463875), (4211, 0.0), (4212, 0.10714285714285715), (4213, 0.0222717701593687), (4214, 0.07636035483212125), (4215, 0.02037847864848056), (4216, 0.0), (4217, 0.03742405942825599), (4218, 0.0), (4219, 0.0), (4220, 0.025253813613805267), (4221, 0.0), (4222, 0.0756534415836003), (4223, 0.0), (4224, 0.0236227795630767), (4225, 0.022668802672263903), (4226, 0.031943828249996996), (4227, 0.03671115491071762), (4228, 0.0), (4229, 0.026726124191242442), (4230, 0.08451542547285167), (4231, 0.03241018617760822), (4232, 0.051434449987363975), (4233, 0.0), (4234, 0.021398024625545648), (4235, 0.05372153093502536), (4236, 0.0), (4237, 0.01769980813511972), (4238, 0.10309826235529032), (4239, 0.03065696697424829), (4240, 0.038180177416060626), (4241, 0.05572782125753529), (4242, 0.031497039417435604), (4243, 0.0), (4244, 0.024296476537493127), (4245, 0.02988071523335984), (4246, 0.0), (4247, 0.01585903699238878), (4248, 0.0), (4249, 0.016448792373994225), (4250, 0.02037847864848056), (4251, 0.0), (4252, 0.042796049251091296), (4253, 0.050507627227610534), (4254, 0.11396057645963795), (4255, 0.0), (4256, 0.0), (4257, 0.029160592175990218), (4258, 0.029160592175990218), (4259, 0.0), (4260, 0.0), (4261, 0.06482037235521644), (4262, 0.04879500364742666), (4263, 0.059761430466719695), (4264, 0.0), (4265, 0.0), (4266, 0.0), (4267, 0.017109647770728875), (4268, 0.10564428184106459), (4269, 0.023262105259961776), (4270, 0.027863910628767644), (4271, 0.028490144114909487), (4272, 0.0), (4273, 0.02620712091804796), (4274, 0.0), (4275, 0.0), (4276, 0.03065696697424829), (4277, 0.030860669992418377), (4278, 0.0), (4279, 0.06482037235521644), (4280, 0.019492029389636262), (4281, 0.04225771273642583), (4282, 0.0), (4283, 0.0445435403187374), (4284, 0.02037847864848056), (4285, 0.027863910628767644), (4286, 0.05786375623578448), (4287, 0.0), (4288, 0.021398024625545648), (4289, 0.0), (4290, 0.05698028822981897), (4291, 0.01632557871120848), (4292, 0.0), (4293, 0.0472455591261534), (4294, 0.0), (4295, 0.04393747751637468), (4296, 0.0472455591261534), (4297, 0.15724272550828777), (4298, 0.0), (4299, 0.019920476822239897), (4300, 0.0), (4301, 0.07319250547113998), (4302, 0.0), (4303, 0.05698028822981897), (4304, 0.036369648372665396), (4305, 0.0), (4306, 0.0), (4307, 0.014580296087995109), (4308, 0.028490144114909487), (4309, 0.0), (4310, 0.0), (4311, 0.0), (4312, 0.0), (4313, 0.023262105259961776), (4314, 0.015748519708717802), (4315, 0.0), (4316, 0.08671099695241201), (4317, 0.037062465833055065), (4318, 0.02988071523335984), (4319, 0.06520506636966264), (4320, 0.050507627227610534), (4321, 0.031497039417435604), (4322, 0.024000768036865967), (4323, 0.0), (4324, 0.025253813613805267), (4325, 0.019090088708030313), (4326, 0.0), (4327, 0.0), (4328, 0.0), (4329, 0.020869596778242055), (4330, 0.06299407883487121), (4331, 0.025717224993681988), (4332, 0.05976143046671968), (4333, 0.03450327796711771), (4334, 0.039840953644479794), (4335, 0.03671115491071762), (4336, 0.041239304942116126), (4337, 0.019090088708030313), (4338, 0.027277236279499052), (4339, 0.0222717701593687), (4340, 0.07207499701564472), (4341, 0.042796049251091296), (4342, 0.037062465833055065), (4343, 0.25943726083138546), (4344, 0.04393747751637468), (4345, 0.01632557871120848), (4346, 0.0), (4347, 0.025253813613805267), (4348, 0.07412493166611013), (4349, 0.048001536073731935), (4350, 0.0), (4351, 0.027277236279499052), (4352, 0.02037847864848056), (4353, 0.037062465833055065), (4354, 0.0), (4355, 0.05241424183609592), (4356, 0.020619652471058063), (4357, 0.12858612496840993), (4358, 0.0), (4359, 0.035093120317179816), (4360, 0.038984058779272523), (4361, 0.0), (4362, 0.0), (4363, 0.019492029389636262), (4364, 0.03367175148507369), (4365, 0.0), (4366, 0.06113543594544168), (4367, 0.02620712091804796), (4368, 0.0), (4369, 0.0), (4370, 0.0), (4371, 0.0), (4372, 0.038575837490522985), (4373, 0.0), (4374, 0.08559209850218259), (4375, 0.03340765523905305), (4376, 0.0), (4377, 0.02258769757263128), (4378, 0.03241018617760822), (4379, 0.04583492485141056), (4380, 0.0), (4381, 0.0), (4382, 0.016448792373994225), (4383, 0.02881952088521175), (4384, 0.0), (4385, 0.08017837257372733), (4386, 0.0), (4387, 0.04249445247525552), (4388, 0.01494035761667992), (4389, 0.04583492485141056), (4390, 0.031497039417435604), (4391, 0.0), (4392, 0.05613608914238398), (4393, 0.03940552031195504), (4394, 0.031497039417435604), (4395, 0.07412493166611013), (4396, 0.0), (4397, 0.0), (4398, 0.03779644730092272), (4399, 0.07559289460184544), (4400, 0.0), (4401, 0.04075695729696112), (4402, 0.0), (4403, 0.0), (4404, 0.0), (4405, 0.07715167498104597), (4406, 0.13957263155977065), (4407, 0.03241018617760822), (4408, 0.024814583349273257), (4409, 0.0), (4410, 0.0), (4411, 0.031497039417435604), (4412, 0.09197090092274487), (4413, 0.0), (4414, 0.0), (4415, 0.07142857142857144), (4416, 0.0), (4417, 0.0), (4418, 0.027863910628767644), (4419, 0.037062465833055065), (4420, 0.07319250547113998), (4421, 0.05572782125753529), (4422, 0.0), (4423, 0.03742405942825599), (4424, 0.050507627227610534), (4425, 0.07968190728895959), (4426, 0.024814583349273257), (4427, 0.01835557745535881), (4428, 0.03340765523905305), (4429, 0.12182898077463454), (4430, 0.01585903699238878), (4431, 0.0), (4432, 0.10438335009588316), (4433, 0.07862136275414389), (4434, 0.026726124191242442), (4435, 0.019920476822239897), (4436, 0.0), (4437, 0.027277236279499052), (4438, 0.042796049251091296), (4439, 0.05455447255899809), (4440, 0.021677749238103002), (4441, 0.0), (4442, 0.0), (4443, 0.02988071523335984), (4444, 0.0), (4445, 0.0), (4446, 0.058476088168908785), (4447, 0.0), (4448, 0.012249898938750631), (4449, 0.017251638983558856), (4450, 0.020869596778242055), (4451, 0.018531232916527533), (4452, 0.024000768036865967), (4453, 0.03421929554145775), (4454, 0.08964214570007953), (4455, 0.0), (4456, 0.07319250547113998), (4457, 0.0), (4458, 0.040291148201269014), (4459, 0.021398024625545648), (4460, 0.03065696697424829), (4461, 0.0), (4462, 0.0), (4463, 0.08964214570007953), (4464, 0.03940552031195504), (4465, 0.0), (4466, 0.0643489452087787), (4467, 0.0), (4468, 0.1145873121285264), (4469, 0.021128856368212916), (4470, 0.0), (4471, 0.015640281177246362), (4472, 0.053452248382484885), (4473, 0.03241018617760822), (4474, 0.0), (4475, 0.0944911182523068), (4476, 0.08017837257372733), (4477, 0.031497039417435604), (4478, 0.024814583349273257), (4479, 0.054554472558998104), (4480, 0.035093120317179816), (4481, 0.07086833868923009), (4482, 0.0), (4483, 0.038984058779272523), (4484, 0.03450327796711771), (4485, 0.02439750182371333), (4486, 0.05572782125753529), (4487, 0.07207499701564472), (4488, 0.050507627227610534), (4489, 0.02583711946644009), (4490, 0.10910894511799621), (4491, 0.051434449987363975), (4492, 0.0668153104781061), (4493, 0.0), (4494, 0.0), (4495, 0.11631052629980888), (4496, 0.0), (4497, 0.0), (4498, 0.041239304942116126), (4499, 0.024000768036865967), (4500, 0.01889822365046136), (4501, 0.01769980813511972), (4502, 0.07715167498104597), (4503, 0.053452248382484885), (4504, 0.01785714285714286), (4505, 0.0), (4506, 0.04934637712198267), (4507, 0.0), (4508, 0.01970276015597752), (4509, 0.02620712091804796), (4510, 0.0), (4511, 0.0445435403187374), (4512, 0.020619652471058063), (4513, 0.04225771273642583), (4514, 0.024000768036865967), (4515, 0.0), (4516, 0.03571428571428572), (4517, 0.06900655593423542), (4518, 0.04819626927118799), (4519, 0.06185895741317419), (4520, 0.07142857142857144), (4521, 0.08017837257372733), (4522, 0.0), (4523, 0.03940552031195504), (4524, 0.03940552031195504), (4525, 0.05506673236607643), (4526, 0.0), (4527, 0.07968190728895959), (4528, 0.040291148201269014), (4529, 0.020681295814776016), (4530, 0.04173919355648411), (4531, 0.039840953644479794), (4532, 0.013782946160499281), (4533, 0.0), (4534, 0.041239304942116126), (4535, 0.0), (4536, 0.0), (4537, 0.0), (4538, 0.03742405942825599), (4539, 0.0), (4540, 0.0), (4541, 0.038180177416060626), (4542, 0.12262786789699316), (4543, 0.0), (4544, 0.0), (4545, 0.031497039417435604), (4546, 0.0), (4547, 0.029695693545824933), (4548, 0.0), (4549, 0.07881104062391008), (4550, 0.0), (4551, 0.0), (4552, 0.1018266349953196), (4553, 0.040291148201269014), (4554, 0.0), (4555, 0.03340765523905305), (4556, 0.0), (4557, 0.09449111825230681), (4558, 0.08347838711296822), (4559, 0.0), (4560, 0.023262105259961776), (4561, 0.0), (4562, 0.08964214570007953), (4563, 0.0), (4564, 0.03450327796711771), (4565, 0.012098347962395683), (4566, 0.050507627227610534), (4567, 0.0), (4568, 0.0668153104781061), (4569, 0.0472455591261534), (4570, 0.0), (4571, 0.0), (4572, 0.03450327796711771), (4573, 0.0), (4574, 0.04202488610103944), (4575, 0.0222717701593687), (4576, 0.0), (4577, 0.0), (4578, 0.024000768036865967), (4579, 0.02439750182371333), (4580, 0.02620712091804796), (4581, 0.027277236279499052), (4582, 0.01449427589131121), (4583, 0.03571428571428572), (4584, 0.04517539514526256), (4585, 0.0), (4586, 0.0), (4587, 0.0), (4588, 0.0), (4589, 0.0), (4590, 0.03940552031195504), (4591, 0.0), (4592, 0.04757711097716634), (4593, 0.054554472558998104), (4594, 0.0), (4595, 0.0), (4596, 0.0), (4597, 0.01769980813511972), (4598, 0.05241424183609592), (4599, 0.0), (4600, 0.06530231484483393), (4601, 0.0), (4602, 0.0445435403187374), (4603, 0.0), (4604, 0.027863910628767644), (4605, 0.0), (4606, 0.0), (4607, 0.0), (4608, 0.058476088168908785), (4609, 0.0), (4610, 0.01970276015597752), (4611, 0.05572782125753529), (4612, 0.015328483487124145), (4613, 0.017397225015980528), (4614, 0.024814583349273257), (4615, 0.0), (4616, 0.01835557745535881), (4617, 0.0), (4618, 0.02439750182371333), (4619, 0.037062465833055065), (4620, 0.0), (4621, 0.040291148201269014), (4622, 0.0), (4623, 0.053452248382484885), (4624, 0.04225771273642583), (4625, 0.0), (4626, 0.0445435403187374), (4627, 0.08287419301647449), (4628, 0.03450327796711771), (4629, 0.048001536073731935), (4630, 0.028171808490950554), (4631, 0.03394221166510654), (4632, 0.028490144114909487), (4633, 0.02196873875818734), (4634, 0.0), (4635, 0.0), (4636, 0.0472455591261534), (4637, 0.0), (4638, 0.058321184351980436), (4639, 0.0), (4640, 0.0), (4641, 0.0668153104781061), (4642, 0.08183170883849716), (4643, 0.0), (4644, 0.04075695729696112), (4645, 0.05976143046671968), (4646, 0.03241018617760822), (4647, 0.034794450031961056), (4648, 0.046291004988627565), (4649, 0.0), (4650, 0.024814583349273257), (4651, 0.03340765523905305), (4652, 0.0757614408414158), (4653, 0.043355498476206004), (4654, 0.03340765523905305), (4655, 0.0), (4656, 0.031943828249996996), (4657, 0.0668153104781061), (4658, 0.02196873875818734), (4659, 0.025717224993681988), (4660, 0.0), (4661, 0.10482848367219184), (4662, 0.08554823885364438), (4663, 0.051434449987363975), (4664, 0.025253813613805267), (4665, 0.0), (4666, 0.02620712091804796), (4667, 0.02258769757263128), (4668, 0.0), (4669, 0.0236227795630767), (4670, 0.06052275326688024), (4671, 0.0), (4672, 0.03779644730092272), (4673, 0.07319250547113998), (4674, 0.0555936987495826), (4675, 0.0222717701593687), (4676, 0.023262105259961776), (4677, 0.021128856368212916), (4678, 0.026082026547865057), (4679, 0.037062465833055065), (4680, 0.0), (4681, 0.0), (4682, 0.062305598284903355), (4683, 0.04879500364742666), (4684, 0.03065696697424829), (4685, 0.024000768036865967), (4686, 0.02439750182371333), (4687, 0.029160592175990218), (4688, 0.05976143046671968), (4689, 0.0), (4690, 0.0), (4691, 0.043355498476206004), (4692, 0.0), (4693, 0.049629166698546515), (4694, 0.1468446196428705), (4695, 0.016574838603294898), (4696, 0.024000768036865967), (4697, 0.0), (4698, 0.0), (4699, 0.0), (4700, 0.0), (4701, 0.0), (4702, 0.0), (4703, 0.0), (4704, 0.05241424183609592), (4705, 0.0), (4706, 0.0558629192042894), (4707, 0.0), (4708, 0.0), (4709, 0.024814583349273257), (4710, 0.020619652471058063), (4711, 0.04660273245009001), (4712, 0.0), (4713, 0.038180177416060626), (4714, 0.0), (4715, 0.0), (4716, 0.0), (4717, 0.054554472558998104), (4718, 0.03340765523905305), (4719, 0.03171807398477756), (4720, 0.0236227795630767), (4721, 0.02196873875818734), (4722, 0.0684385910829155), (4723, 0.0), (4724, 0.0), (4725, 0.03065696697424829), (4726, 0.04652421051992355), (4727, 0.0), (4728, 0.016087236302194673), (4729, 0.03394221166510654), (4730, 0.03779644730092272), (4731, 0.0), (4732, 0.01769980813511972), (4733, 0.028490144114909487), (4734, 0.03973074332645058), (4735, 0.06482037235521644), (4736, 0.07142857142857144), (4737, 0.13801311186847084), (4738, 0.0), (4739, 0.021128856368212916), (4740, 0.0), (4741, 0.05241424183609592), (4742, 0.0), (4743, 0.024098134635593994), (4744, 0.0), (4745, 0.024814583349273257), (4746, 0.0), (4747, 0.0), (4748, 0.0), (4749, 0.0), (4750, 0.03340765523905305), (4751, 0.06958890006392211), (4752, 0.02439750182371333), (4753, 0.0), (4754, 0.0), (4755, 0.021677749238103002), (4756, 0.08547043234472845), (4757, 0.038575837490522985), (4758, 0.03340765523905305), (4759, 0.015971914124998498), (4760, 0.020869596778242055), (4761, 0.06776309271789384), (4762, 0.028490144114909487), (4763, 0.03571428571428572), (4764, 0.03450327796711771), (4765, 0.0), (4766, 0.0), (4767, 0.05976143046671968), (4768, 0.02037847864848056), (4769, 0.0), (4770, 0.023262105259961776), (4771, 0.0), (4772, 0.01970276015597752), (4773, 0.04879500364742666), (4774, 0.058321184351980436), (4775, 0.06978631577988532), (4776, 0.0), (4777, 0.0), (4778, 0.0), (4779, 0.0), (4780, 0.029335732442442877), (4781, 0.048001536073731935), (4782, 0.0), (4783, 0.058321184351980436), (4784, 0.0), (4785, 0.0), (4786, 0.12262786789699318), (4787, 0.03241018617760822), (4788, 0.0), (4789, 0.03340765523905305), (4790, 0.07200230411059791), (4791, 0.0236227795630767), (4792, 0.0), (4793, 0.0), (4794, 0.0), (4795, 0.07715167498104597), (4796, 0.03241018617760822), (4797, 0.06482037235521644), (4798, 0.0), (4799, 0.065033247714309), (4800, 0.026593487520457097), (4801, 0.06343614796955512), (4802, 0.0), (4803, 0.018531232916527533), (4804, 0.038180177416060626), (4805, 0.02037847864848056)]\n"
     ]
    }
   ],
   "source": [
    "movie_index = new_df[new_df['title'] == 'Skyfall'].index[0]\n",
    "#print(movie_index)\n",
    "distances = similarity[movie_index]\n",
    "print(distances)\n",
    "print(list(enumerate(distances)))\n",
    "\n",
    "movies_list = sorted(list(enumerate(distances)),reverse=True,key = lambda x:x[1])[1:6]\n",
    "\n",
    "#print(movies_list)\n",
    "\n",
    "#for i in movies_list:\n",
    "#       print(new_df.iloc[i[0]].title)"
   ]
  },
  {
   "cell_type": "code",
   "execution_count": null,
   "id": "9321084e",
   "metadata": {
    "execution": {
     "iopub.execute_input": "2023-10-18T17:04:29.093514Z",
     "iopub.status.busy": "2023-10-18T17:04:29.093160Z",
     "iopub.status.idle": "2023-10-18T17:04:29.098561Z",
     "shell.execute_reply": "2023-10-18T17:04:29.097454Z"
    },
    "papermill": {
     "duration": 0.025597,
     "end_time": "2023-10-18T17:04:29.100467",
     "exception": false,
     "start_time": "2023-10-18T17:04:29.074870",
     "status": "completed"
    },
    "tags": []
   },
   "outputs": [],
   "source": [
    "def recommend(movie):\n",
    "    movie_index = new_df[new_df['title'] == movie].index[0]\n",
    "    distances = similarity[movie_index]\n",
    "    movies_list = sorted(list(enumerate(distances)),reverse=True,key=lambda x:x[1])[1:6]\n",
    "    \n",
    "    for i in movies_list:\n",
    "        print(new_df.iloc[i[0]].title)"
   ]
  },
  {
   "cell_type": "code",
   "execution_count": null,
   "id": "a8e60de3",
   "metadata": {
    "execution": {
     "iopub.execute_input": "2023-10-18T17:04:29.132817Z",
     "iopub.status.busy": "2023-10-18T17:04:29.132151Z",
     "iopub.status.idle": "2023-10-18T17:04:29.140626Z",
     "shell.execute_reply": "2023-10-18T17:04:29.139635Z"
    },
    "papermill": {
     "duration": 0.026623,
     "end_time": "2023-10-18T17:04:29.142470",
     "exception": false,
     "start_time": "2023-10-18T17:04:29.115847",
     "status": "completed"
    },
    "tags": []
   },
   "outputs": [
    {
     "data": {
      "text/plain": [
       "0        True\n",
       "1       False\n",
       "2       False\n",
       "3       False\n",
       "4       False\n",
       "        ...  \n",
       "4804    False\n",
       "4805    False\n",
       "4806    False\n",
       "4807    False\n",
       "4808    False\n",
       "Name: title, Length: 4806, dtype: bool"
      ]
     },
     "execution_count": 137,
     "metadata": {},
     "output_type": "execute_result"
    }
   ],
   "source": [
    "new_df['title'] == 'Avatar'"
   ]
  },
  {
   "cell_type": "code",
   "execution_count": null,
   "id": "eab5df09",
   "metadata": {
    "execution": {
     "iopub.execute_input": "2023-10-18T17:04:29.174717Z",
     "iopub.status.busy": "2023-10-18T17:04:29.174072Z",
     "iopub.status.idle": "2023-10-18T17:04:29.183862Z",
     "shell.execute_reply": "2023-10-18T17:04:29.183092Z"
    },
    "papermill": {
     "duration": 0.027624,
     "end_time": "2023-10-18T17:04:29.185610",
     "exception": false,
     "start_time": "2023-10-18T17:04:29.157986",
     "status": "completed"
    },
    "tags": []
   },
   "outputs": [
    {
     "data": {
      "text/html": [
       "<div>\n",
       "<style scoped>\n",
       "    .dataframe tbody tr th:only-of-type {\n",
       "        vertical-align: middle;\n",
       "    }\n",
       "\n",
       "    .dataframe tbody tr th {\n",
       "        vertical-align: top;\n",
       "    }\n",
       "\n",
       "    .dataframe thead th {\n",
       "        text-align: right;\n",
       "    }\n",
       "</style>\n",
       "<table border=\"1\" class=\"dataframe\">\n",
       "  <thead>\n",
       "    <tr style=\"text-align: right;\">\n",
       "      <th></th>\n",
       "      <th>id</th>\n",
       "      <th>title</th>\n",
       "      <th>tags</th>\n",
       "    </tr>\n",
       "  </thead>\n",
       "  <tbody>\n",
       "    <tr>\n",
       "      <th>0</th>\n",
       "      <td>19995</td>\n",
       "      <td>Avatar</td>\n",
       "      <td>in the 22nd century, a parapleg marin is dispa...</td>\n",
       "    </tr>\n",
       "  </tbody>\n",
       "</table>\n",
       "</div>"
      ],
      "text/plain": [
       "      id   title                                               tags\n",
       "0  19995  Avatar  in the 22nd century, a parapleg marin is dispa..."
      ]
     },
     "execution_count": 138,
     "metadata": {},
     "output_type": "execute_result"
    }
   ],
   "source": [
    "new_df[new_df['title'] == 'Avatar']"
   ]
  },
  {
   "cell_type": "code",
   "execution_count": null,
   "id": "f26e716f",
   "metadata": {
    "execution": {
     "iopub.execute_input": "2023-10-18T17:04:29.301706Z",
     "iopub.status.busy": "2023-10-18T17:04:29.301119Z",
     "iopub.status.idle": "2023-10-18T17:04:29.310702Z",
     "shell.execute_reply": "2023-10-18T17:04:29.309483Z"
    },
    "papermill": {
     "duration": 0.027426,
     "end_time": "2023-10-18T17:04:29.312511",
     "exception": false,
     "start_time": "2023-10-18T17:04:29.285085",
     "status": "completed"
    },
    "tags": []
   },
   "outputs": [
    {
     "name": "stdout",
     "output_type": "stream",
     "text": [
      "Aliens vs Predator: Requiem\n",
      "Aliens\n",
      "Falcon Rising\n",
      "Independence Day\n",
      "Titan A.E.\n"
     ]
    }
   ],
   "source": [
    "recommend('Avatar')"
   ]
  },
  {
   "cell_type": "code",
   "execution_count": null,
   "id": "4baf0925",
   "metadata": {
    "execution": {
     "iopub.execute_input": "2023-10-18T17:04:29.345281Z",
     "iopub.status.busy": "2023-10-18T17:04:29.344679Z",
     "iopub.status.idle": "2023-10-18T17:04:29.354520Z",
     "shell.execute_reply": "2023-10-18T17:04:29.353267Z"
    },
    "papermill": {
     "duration": 0.028349,
     "end_time": "2023-10-18T17:04:29.356492",
     "exception": false,
     "start_time": "2023-10-18T17:04:29.328143",
     "status": "completed"
    },
    "tags": []
   },
   "outputs": [
    {
     "name": "stdout",
     "output_type": "stream",
     "text": [
      "Batman\n",
      "Batman & Robin\n",
      "Batman Begins\n",
      "Batman Returns\n",
      "The R.M.\n"
     ]
    }
   ],
   "source": [
    "recommend('Batman')"
   ]
  },
  {
   "cell_type": "code",
   "execution_count": null,
   "id": "008804cb",
   "metadata": {
    "execution": {
     "iopub.execute_input": "2023-10-18T17:04:29.389883Z",
     "iopub.status.busy": "2023-10-18T17:04:29.388829Z",
     "iopub.status.idle": "2023-10-18T17:04:29.398501Z",
     "shell.execute_reply": "2023-10-18T17:04:29.397581Z"
    },
    "papermill": {
     "duration": 0.02785,
     "end_time": "2023-10-18T17:04:29.400310",
     "exception": false,
     "start_time": "2023-10-18T17:04:29.372460",
     "status": "completed"
    },
    "tags": []
   },
   "outputs": [
    {
     "name": "stdout",
     "output_type": "stream",
     "text": [
      "Quantum of Solace\n",
      "Skyfall\n",
      "Never Say Never Again\n",
      "From Russia with Love\n",
      "Octopussy\n"
     ]
    }
   ],
   "source": [
    "recommend('Spectre')"
   ]
  },
  {
   "cell_type": "code",
   "execution_count": null,
   "id": "c4eae16f",
   "metadata": {
    "execution": {
     "iopub.execute_input": "2023-10-18T17:04:29.433695Z",
     "iopub.status.busy": "2023-10-18T17:04:29.432983Z",
     "iopub.status.idle": "2023-10-18T17:04:29.437092Z",
     "shell.execute_reply": "2023-10-18T17:04:29.436169Z"
    },
    "papermill": {
     "duration": 0.02264,
     "end_time": "2023-10-18T17:04:29.438730",
     "exception": false,
     "start_time": "2023-10-18T17:04:29.416090",
     "status": "completed"
    },
    "tags": []
   },
   "outputs": [],
   "source": [
    "# Here's my recommender system is ready"
   ]
  }
 ],
 "metadata": {
  "kernelspec": {
   "display_name": "Python 3",
   "language": "python",
   "name": "python3"
  },
  "language_info": {
   "codemirror_mode": {
    "name": "ipython",
    "version": 3
   },
   "file_extension": ".py",
   "mimetype": "text/x-python",
   "name": "python",
   "nbconvert_exporter": "python",
   "pygments_lexer": "ipython3",
   "version": "3.12.2"
  },
  "papermill": {
   "default_parameters": {},
   "duration": 27.736423,
   "end_time": "2023-10-18T17:04:30.075460",
   "environment_variables": {},
   "exception": null,
   "input_path": "__notebook__.ipynb",
   "output_path": "__notebook__.ipynb",
   "parameters": {},
   "start_time": "2023-10-18T17:04:02.339037",
   "version": "2.4.0"
  }
 },
 "nbformat": 4,
 "nbformat_minor": 5
}
